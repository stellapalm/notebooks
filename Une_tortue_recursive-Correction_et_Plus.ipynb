{
 "cells": [
  {
   "cell_type": "markdown",
   "metadata": {},
   "source": [
    "# Utilisation de la Tortue dans un notebook :\n",
    "\n",
    "\n",
    "> **/!\\ A faire avant pour fonctionner dans Carnet sur iPad :**\n",
    ">\n",
    "> Vérifier si le module `ipyturtle` n'est pas déjà installé :\n",
    "> ```python\n",
    "%pip list\n",
    "```\n",
    "> Sinon il faut l'installer en faisant :\n",
    "> ```python\n",
    "%pip install ipyturtle\n",
    "```\n",
    "\n"
   ]
  },
  {
   "cell_type": "markdown",
   "metadata": {},
   "source": [
    "# Pour préparer la correction :\n",
    "\n",
    "<h3 class='fa fa-cog' style=\"color: MediumSeaGreen\"> A faire vous même n°1 :</h3>\n",
    "\n",
    "- Exécuter la instructions suivantes pour découvrir quelques fonctionnalités du module..."
   ]
  },
  {
   "cell_type": "code",
   "execution_count": 3,
   "metadata": {},
   "outputs": [],
   "source": [
    "from ipyturtle import Turtle"
   ]
  },
  {
   "cell_type": "code",
   "execution_count": 4,
   "metadata": {},
   "outputs": [],
   "source": [
    "t = Turtle(fixed=True, width=360, height=360)"
   ]
  },
  {
   "cell_type": "code",
   "execution_count": 5,
   "metadata": {},
   "outputs": [
    {
     "data": {
      "application/vnd.jupyter.widget-view+json": {
       "model_id": "3aeb2d4c59c244a884eccd743185d6d0",
       "version_major": 2,
       "version_minor": 0
      },
      "text/plain": [
       "Turtle()"
      ]
     },
     "metadata": {},
     "output_type": "display_data"
    }
   ],
   "source": [
    "t"
   ]
  },
  {
   "cell_type": "code",
   "execution_count": 6,
   "metadata": {},
   "outputs": [],
   "source": [
    "t.back(40)"
   ]
  },
  {
   "cell_type": "code",
   "execution_count": 7,
   "metadata": {},
   "outputs": [],
   "source": [
    "t.right(60)"
   ]
  },
  {
   "cell_type": "code",
   "execution_count": 8,
   "metadata": {},
   "outputs": [],
   "source": [
    "t.forward(100)"
   ]
  },
  {
   "cell_type": "code",
   "execution_count": 9,
   "metadata": {},
   "outputs": [],
   "source": [
    "t.left(240)"
   ]
  },
  {
   "cell_type": "code",
   "execution_count": 10,
   "metadata": {},
   "outputs": [],
   "source": [
    "t.penup()"
   ]
  },
  {
   "cell_type": "code",
   "execution_count": 11,
   "metadata": {},
   "outputs": [],
   "source": [
    "t.forward(40)"
   ]
  },
  {
   "cell_type": "code",
   "execution_count": 12,
   "metadata": {},
   "outputs": [
    {
     "data": {
      "text/plain": [
       "(86.60254037844386, -30.000000000000007)"
      ]
     },
     "execution_count": 12,
     "metadata": {},
     "output_type": "execute_result"
    }
   ],
   "source": [
    "t.position()"
   ]
  },
  {
   "cell_type": "code",
   "execution_count": 13,
   "metadata": {},
   "outputs": [],
   "source": [
    "t.pendown()"
   ]
  },
  {
   "cell_type": "code",
   "execution_count": 14,
   "metadata": {},
   "outputs": [],
   "source": [
    "t.forward(50)"
   ]
  },
  {
   "cell_type": "code",
   "execution_count": 15,
   "metadata": {},
   "outputs": [
    {
     "data": {
      "text/plain": [
       "270.0"
      ]
     },
     "execution_count": 15,
     "metadata": {},
     "output_type": "execute_result"
    }
   ],
   "source": [
    "t.heading()"
   ]
  },
  {
   "cell_type": "code",
   "execution_count": 19,
   "metadata": {},
   "outputs": [],
   "source": [
    "t.reset()"
   ]
  },
  {
   "cell_type": "code",
   "execution_count": 17,
   "metadata": {},
   "outputs": [],
   "source": [
    "def triangle():\n",
    "    for i in range(3):\n",
    "        t.forward(100)\n",
    "        t.right(120)"
   ]
  },
  {
   "cell_type": "code",
   "execution_count": 18,
   "metadata": {},
   "outputs": [],
   "source": [
    "triangle()"
   ]
  },
  {
   "cell_type": "markdown",
   "metadata": {},
   "source": [
    "Avec la fonction `marche(dimension)` de profondeur et hauteur égales à `dimension` telle que :"
   ]
  },
  {
   "cell_type": "code",
   "execution_count": 20,
   "metadata": {},
   "outputs": [],
   "source": [
    "def marche(dimension) :\n",
    "    t.forward(dimension)\n",
    "    t.right(90)\n",
    "    t.forward(dimension)\n",
    "    t.left(90)"
   ]
  },
  {
   "cell_type": "code",
   "execution_count": 21,
   "metadata": {},
   "outputs": [],
   "source": [
    "marche(30)"
   ]
  },
  {
   "cell_type": "markdown",
   "metadata": {},
   "source": [
    "On peut définir l'`escalier(dimension, nombre)` ayant le `nombre` de marches en mode itératif :"
   ]
  },
  {
   "cell_type": "code",
   "execution_count": 23,
   "metadata": {},
   "outputs": [],
   "source": [
    "def escalier(dimension, nombre) :\n",
    "    for i in range(nombre) :\n",
    "        marche(dimension)"
   ]
  },
  {
   "cell_type": "code",
   "execution_count": 24,
   "metadata": {},
   "outputs": [],
   "source": [
    "escalier(30, 5)"
   ]
  },
  {
   "cell_type": "code",
   "execution_count": 28,
   "metadata": {},
   "outputs": [],
   "source": [
    "t.reset()"
   ]
  },
  {
   "cell_type": "markdown",
   "metadata": {},
   "source": [
    "Ou le même escalier en mode récursif :"
   ]
  },
  {
   "cell_type": "code",
   "execution_count": 26,
   "metadata": {},
   "outputs": [],
   "source": [
    "def escalier(dimension, nombre) :\n",
    "    if nombre == 0 :\n",
    "        return None\n",
    "    else :\n",
    "        marche(dimension)\n",
    "        return escalier(dimension, nombre - 1)        "
   ]
  },
  {
   "cell_type": "code",
   "execution_count": 27,
   "metadata": {},
   "outputs": [],
   "source": [
    "escalier(30, 5)"
   ]
  },
  {
   "cell_type": "markdown",
   "metadata": {},
   "source": [
    "<h3 class='fa fa-code' style=\"color: MediumSeaGreen\"> A faire vous même n°2 :</h3>\n",
    "\n",
    "- Définir une fonction `carre(c)` qui dessine un carré de coté égale à la dimension `c` en pixels :"
   ]
  },
  {
   "cell_type": "code",
   "execution_count": 29,
   "metadata": {},
   "outputs": [],
   "source": [
    "def carre(longueur_cotes) :    \n",
    "   for i in range(4):\n",
    "       t.forward(longueur_cotes)\n",
    "       t.right(90)\n",
    "       t.forward(longueur_cotes)"
   ]
  },
  {
   "cell_type": "code",
   "execution_count": 32,
   "metadata": {},
   "outputs": [],
   "source": [
    "t.reset"
   ]
  },
  {
   "cell_type": "code",
   "execution_count": 31,
   "metadata": {},
   "outputs": [],
   "source": [
    "carre(30)"
   ]
  },
  {
   "cell_type": "markdown",
   "metadata": {},
   "source": [
    "L'objectif est de reproduire le dessin suivant sachant que le coté du plus petit carré aura une longueur d'au moins 5 pixels \n",
    "\n",
    "![](https://github.com/glassus/nsi/blob/master/Terminale/Theme_2_Programmation/2.2_Recursivite/data/carres_turtle.png?raw=1)\n",
    "\n",
    "\n",
    "<h3 class='fa fa-code' style=\"color: darkorange\"> A faire vous même n°3 :</h3>\n",
    "\n",
    "- Définir une fonction `base(c)` qui dessine un premier carré de coté `c` et se prépare à ajouter par la suite un nouveau carré tourné de 45° qui pourra s'inscrire dans le carré précédent tel que sur la figure  :"
   ]
  },
  {
   "cell_type": "code",
   "execution_count": 1,
   "metadata": {},
   "outputs": [
    {
     "data": {
      "application/vnd.jupyter.widget-view+json": {
       "model_id": "e03f3506e44c4f51a7633029b055c1f3",
       "version_major": 2,
       "version_minor": 0
      },
      "text/plain": [
       "Turtle()"
      ]
     },
     "metadata": {},
     "output_type": "display_data"
    }
   ],
   "source": [
    "from ipyturtle import Turtle\n",
    "\n",
    "t = Turtle(fixed=False, width=360, height=360)\n",
    "t"
   ]
  },
  {
   "cell_type": "code",
   "execution_count": 11,
   "metadata": {},
   "outputs": [],
   "source": [
    "def carre(longueur_cotes) :    \n",
    "   for i in range(4):\n",
    "       t.forward(longueur_cotes)\n",
    "       t.right(90)"
   ]
  },
  {
   "cell_type": "code",
   "execution_count": 12,
   "metadata": {},
   "outputs": [],
   "source": [
    "carre(100)"
   ]
  },
  {
   "cell_type": "code",
   "execution_count": 43,
   "metadata": {},
   "outputs": [],
   "source": [
    "t.reset()"
   ]
  },
  {
   "cell_type": "code",
   "execution_count": 14,
   "metadata": {},
   "outputs": [],
   "source": [
    "def base(c) :\n",
    "        carre(c)\n",
    "        t.forward(c/2)        \n",
    "        t.right(45)                "
   ]
  },
  {
   "cell_type": "code",
   "execution_count": 19,
   "metadata": {},
   "outputs": [],
   "source": [
    "base(100)"
   ]
  },
  {
   "cell_type": "code",
   "execution_count": 21,
   "metadata": {},
   "outputs": [],
   "source": [
    "base(100/2**0.5/2**0.5)"
   ]
  },
  {
   "cell_type": "markdown",
   "metadata": {},
   "source": [
    "<h3 class='fa fa-code' style=\"color: tomato\"> A faire vous même n°4 :</h3>\n",
    "\n",
    "- Définir une fonction pour tracer la figure de façon récursive :"
   ]
  },
  {
   "cell_type": "code",
   "execution_count": 37,
   "metadata": {},
   "outputs": [],
   "source": [
    "def trace(c) :\n",
    "    while c >= 5 :\n",
    "        base(c)\n",
    "        c = c/2**0.5"
   ]
  },
  {
   "cell_type": "code",
   "execution_count": 38,
   "metadata": {},
   "outputs": [],
   "source": [
    "trace(100)"
   ]
  },
  {
   "cell_type": "markdown",
   "metadata": {},
   "source": [
    "## Compléments :\n",
    "\n",
    "On observe que la figure n'est pas centrée dans la fenêtre du canvas.\n",
    "\n",
    "Pour centrer la figure on pourrait définir une fonction telle que :"
   ]
  },
  {
   "cell_type": "code",
   "execution_count": 39,
   "metadata": {},
   "outputs": [],
   "source": [
    "def figure(c) :\n",
    "    t.penup()\n",
    "    t.back(c/2)\n",
    "    t.left(90)\n",
    "    t.forward(c/2)\n",
    "    t.right(90)\n",
    "    t.pendown()\n",
    "    trace(c)"
   ]
  },
  {
   "cell_type": "code",
   "execution_count": 44,
   "metadata": {},
   "outputs": [],
   "source": [
    "figure(100)"
   ]
  },
  {
   "cell_type": "markdown",
   "metadata": {},
   "source": [
    "Il serait intéressant de disposer d'une fonction `goto(x,y)` pour déplacer la tortue sans laisser de trace vers un autre point distant de `x` en abcisse et de `y` en ordonné par rapport à la position actuelle.\n",
    "\n",
    "Regardons de plus près le code source du module ipyturtle pour voir si une telle fonction existe dans son interface ?"
   ]
  },
  {
   "cell_type": "code",
   "execution_count": 41,
   "metadata": {},
   "outputs": [],
   "source": [
    "from ipyturtle import Turtle"
   ]
  },
  {
   "cell_type": "code",
   "execution_count": 42,
   "metadata": {},
   "outputs": [
    {
     "name": "stdout",
     "output_type": "stream",
     "text": [
      "class Turtle(widgets.DOMWidget):\n",
      "    \"\"\"\"\"\"\n",
      "    _view_name = Unicode('TurtleView').tag(sync=True)\n",
      "    _model_name = Unicode('TurtleModel').tag(sync=True)\n",
      "    _view_module = Unicode('ipyturtle').tag(sync=True)\n",
      "    _model_module = Unicode('ipyturtle').tag(sync=True)\n",
      "    _view_module_version = Unicode('^0.2.4').tag(sync=True)\n",
      "    _model_module_version = Unicode('^0.2.4').tag(sync=True)\n",
      "  \n",
      "    _canvas_fixed = Bool(True).tag(sync=True)\n",
      "    _canvas_width = Int(320).tag(sync=True)\n",
      "    _canvas_height = Int(320).tag(sync=True)\n",
      "    _turtle_on = Bool(True).tag(sync=True)\n",
      "    _pen_on = True\n",
      "\n",
      "    _turtle_height = Int(20).tag(sync=True)\n",
      "    _turtle_width = Int(10).tag(sync=True)\n",
      "    _turtle_location_x = Float(0.0).tag(sync=True)\n",
      "    _turtle_location_y = Float(0.0).tag(sync=True)\n",
      "    _turtle_heading = Float(90.0).tag(sync=True)\n",
      "\n",
      "    _turtle_heading_x = Float(0).tag(sync=True)\n",
      "    _turtle_heading_y = Float(1).tag(sync=True)\n",
      "\n",
      "    _line = Unicode('').tag(sync=True)\n",
      "    _current_color = \"Black\"\n",
      "    _current_color_rgb = None\n",
      "\n",
      "    def __init__(self, width=320, height=320, fixed=True):\n",
      "        widgets.DOMWidget.__init__(self)\n",
      "        self._canvas_width = width\n",
      "        self._canvas_height = height\n",
      "        self._canvas_fixed = fixed\n",
      "        self._reset()\n",
      "\n",
      "    def _reset(self):\n",
      "        self._turtle_on = True\n",
      "        self._pen_on = True\n",
      "        self._turtle_location_x = 0\n",
      "        self._turtle_location_y = 0\n",
      "        self._turtle_heading = 90.0\n",
      "        self._turtle_heading_x = 0.0\n",
      "        self._turtle_heading_y = 1.0\n",
      "\n",
      "    def position(self):\n",
      "        return self._turtle_location_x, self._turtle_location_y\n",
      "\n",
      "    def forward(self, length):\n",
      "        precision = 4\n",
      "        start = \"{} {}\".format(round(self._turtle_location_x,precision),\n",
      "                               round(self._turtle_location_y,precision))\n",
      "        self._turtle_location_x += length * self._turtle_heading_x\n",
      "        self._turtle_location_y += length * self._turtle_heading_y\n",
      "        end = \" {} {}\".format(round(self._turtle_location_x, precision),\n",
      "                              round(self._turtle_location_y, precision))\n",
      "        #print(start, end)\n",
      "        if self._pen_on:\n",
      "            color = self._current_color\n",
      "            if len(self._current_color)==0:\n",
      "                color = \"rgb({},{},{})\".format(self._current_color_rgb[0],\n",
      "                                               self._current_color_rgb[1],\n",
      "                                               self._current_color_rgb[2])\n",
      "            self._line = start + end + \" \" + color\n",
      "\n",
      "\n",
      "    def back(self, length):\n",
      "        self.forward(-length)\n",
      "\n",
      "    def heading(self):\n",
      "        return self._turtle_heading\n",
      "\n",
      "    def left(self, degree):\n",
      "        self._turtle_heading += degree\n",
      "        self._turtle_heading = self._turtle_heading % 360\n",
      "\n",
      "        hx = math.cos(math.radians(self._turtle_heading))\n",
      "        hy = math.sin(math.radians(self._turtle_heading))\n",
      "\n",
      "        self._turtle_heading_x = hx\n",
      "        self._turtle_heading_y = hy\n",
      "\n",
      "    def right(self, degree):\n",
      "        self.left(-degree)\n",
      "\n",
      "    def penup(self):\n",
      "        self._pen_on = False\n",
      "\n",
      "    def pendown(self):\n",
      "        self._pen_on = True\n",
      "\n",
      "    def isdown(self):\n",
      "        return self._pen_on\n",
      "\n",
      "    def hideturtle(self):\n",
      "        self._turtle_on = False\n",
      "\n",
      "    def showturtle(self):\n",
      "        self._turtle_on = True\n",
      "\n",
      "    def isvisible(self):\n",
      "        return self._turtle_on\n",
      "\n",
      "    def reset(self):\n",
      "        self._reset()\n",
      "        self._line = 'clear'\n",
      "\n",
      "    def pencolor(self,r=-1,g=-1,b=-1):\n",
      "        if r == -1:\n",
      "            if len(self._current_color)==0:\n",
      "                return  self._current_color_rgb\n",
      "            else:\n",
      "                return self._current_color\n",
      "        elif type(r) == str:\n",
      "            self._current_color = r\n",
      "            self._current_color_rgb = None\n",
      "        else:\n",
      "            self._current_color = \"\"\n",
      "            self._current_color_rgb = (r,g,b)\n",
      "\n"
     ]
    }
   ],
   "source": [
    "import inspect\n",
    "print(inspect.getsource(Turtle))"
   ]
  },
  {
   "cell_type": "markdown",
   "metadata": {},
   "source": [
    "<h3 class='fa fa-code' style=\"color: tomato\"> A faire vous même n°5 :</h3>\n",
    "\n",
    "Faire une proposition pour cette fonction `goto(x,y)` qui n'utilise que l'interface de la class `Turtle` :\n",
    "\n",
    "<i class='fa fa-exclamation-triangle' style=\"color: tomato\"></i> L'orientation initiale de la tortue doit être retrouvée à l'issue du déplacement <i class='fa fa-exclamation' style=\"color: tomato\"></i>"
   ]
  },
  {
   "cell_type": "code",
   "execution_count": 48,
   "metadata": {},
   "outputs": [
    {
     "data": {
      "application/vnd.jupyter.widget-view+json": {
       "model_id": "a31e9858afe04de2b838278336ec0878",
       "version_major": 2,
       "version_minor": 0
      },
      "text/plain": [
       "Turtle()"
      ]
     },
     "metadata": {},
     "output_type": "display_data"
    }
   ],
   "source": [
    "from ipyturtle import Turtle\n",
    "\n",
    "t = Turtle(fixed=False, width=360, height=360)\n",
    "t"
   ]
  },
  {
   "cell_type": "code",
   "execution_count": 45,
   "metadata": {},
   "outputs": [],
   "source": [
    "def goto(x, y) :\n",
    "    heading = t.heading()\n",
    "    t.penup()\n",
    "    # A compléter\n",
    "    \n",
    "    \n",
    "    \n",
    "    \n",
    "    \n",
    "    t.pendown()"
   ]
  },
  {
   "cell_type": "code",
   "execution_count": 46,
   "metadata": {},
   "outputs": [],
   "source": [
    "goto(110, -50)"
   ]
  },
  {
   "cell_type": "markdown",
   "metadata": {},
   "source": [
    "La fonction `figure(c)` se résume maintenant à :"
   ]
  },
  {
   "cell_type": "code",
   "execution_count": 47,
   "metadata": {},
   "outputs": [],
   "source": [
    "def figure(c) :\n",
    "    goto(-c/2, -c/2)\n",
    "    trace(c)    "
   ]
  },
  {
   "cell_type": "code",
   "execution_count": null,
   "metadata": {},
   "outputs": [],
   "source": [
    "t.reset()"
   ]
  },
  {
   "cell_type": "code",
   "execution_count": 49,
   "metadata": {},
   "outputs": [],
   "source": [
    "figure(299)"
   ]
  },
  {
   "cell_type": "code",
   "execution_count": 50,
   "metadata": {},
   "outputs": [],
   "source": [
    "t.hideturtle()"
   ]
  },
  {
   "cell_type": "markdown",
   "metadata": {},
   "source": [
    "Expliquer pourquoi la proposition suivante pour le `goto(x,y)` produit le même effet ? Est-ce correct de procéder ainsi ?\n",
    "\n",
    "...\n",
    "\n",
    "..."
   ]
  },
  {
   "cell_type": "code",
   "execution_count": null,
   "metadata": {},
   "outputs": [],
   "source": [
    "def goto(x, y) :\n",
    "    t._turtle_location_x = x + t._turtle_location_x \n",
    "    t._turtle_location_y = y + t._turtle_location_y "
   ]
  },
  {
   "cell_type": "markdown",
   "metadata": {},
   "source": [
    "La dernière version du code est visible là : https://github.com/gkvoelkl/ipython-turtle-widget/blob/master/ipyturtle/example.py\n",
    "\n",
    "Les développeurs d'ipyturtle ont-ils fait les mêmes choix pour la fonction `goto(x,y)` ?\n",
    "\n",
    "...\n",
    "\n",
    "Ont-ils ajouté d'autres méthodes à la class `Turtle` ?\n",
    "\n",
    "..."
   ]
  },
  {
   "cell_type": "code",
   "execution_count": null,
   "metadata": {},
   "outputs": [],
   "source": [
    "t.close()"
   ]
  },
  {
   "cell_type": "code",
   "execution_count": null,
   "metadata": {},
   "outputs": [],
   "source": [
    "t.pencolor(\"purple\")"
   ]
  },
  {
   "cell_type": "markdown",
   "metadata": {},
   "source": [
    "<h3 class='fa fa-rocket' style=\"color: tomato\"> A faire vous même n°6 :</h3>\n",
    "\n",
    "- On donne une correction possible pour de la fonction pour tracer la figure suivante de façon récursive.\n",
    "\n",
    "> **Tester ce code et y ajouter des commentaires pour l'expliquer...**\n",
    "\n",
    "<img src=\"https://ericecmorlaix.github.io/img/arbre.gif\" alt=\"arbre recursif\" width=60%>"
   ]
  },
  {
   "cell_type": "code",
   "execution_count": 57,
   "metadata": {},
   "outputs": [],
   "source": [
    "t2 = Turtle(fixed=False, width=500, height=500)"
   ]
  },
  {
   "cell_type": "code",
   "execution_count": 54,
   "metadata": {},
   "outputs": [],
   "source": [
    "def goto(x, y) :\n",
    "    t2._turtle_location_x = x + t2._turtle_location_x \n",
    "    t2._turtle_location_y = y + t2._turtle_location_y "
   ]
  },
  {
   "cell_type": "code",
   "execution_count": 55,
   "metadata": {},
   "outputs": [],
   "source": [
    "def arbre(longueur, angle, nombre):\n",
    "    \n",
    "    if nombre == 0 :\n",
    "        return None\n",
    "    else :\n",
    "        t2.forward(longueur)\n",
    "        t2.left(angle)\n",
    "        arbre(0.6 * longueur, angle, nombre - 1)\n",
    "        t2.right(2 * angle)\n",
    "        arbre(0.6 * longueur, angle, nombre - 1)\n",
    "        t2.left(angle)\n",
    "        t2.forward(- longueur)          "
   ]
  },
  {
   "cell_type": "code",
   "execution_count": 56,
   "metadata": {},
   "outputs": [
    {
     "data": {
      "application/vnd.jupyter.widget-view+json": {
       "model_id": "4e53ef97c2eb4f2dafa76783ec829561",
       "version_major": 2,
       "version_minor": 0
      },
      "text/plain": [
       "Turtle()"
      ]
     },
     "metadata": {},
     "output_type": "display_data"
    }
   ],
   "source": [
    "t2"
   ]
  },
  {
   "cell_type": "code",
   "execution_count": 58,
   "metadata": {},
   "outputs": [],
   "source": [
    "t2.pencolor(\"darkorange\")\n",
    "goto(0, -250)\n",
    "arbre(200, 30, 7)"
   ]
  },
  {
   "cell_type": "code",
   "execution_count": 59,
   "metadata": {},
   "outputs": [],
   "source": [
    "t2.reset()"
   ]
  },
  {
   "cell_type": "code",
   "execution_count": 60,
   "metadata": {},
   "outputs": [],
   "source": [
    "t2.close()"
   ]
  },
  {
   "cell_type": "markdown",
   "metadata": {},
   "source": [
    "## Aspect historique :\n",
    "\n",
    "**Turtle** est un hommage au langage LOGO inventé par [Seymour Papert](https://fr.wikipedia.org/wiki/Seymour_Papert) au MIT à la fin des années 60."
   ]
  },
  {
   "cell_type": "code",
   "execution_count": null,
   "metadata": {},
   "outputs": [],
   "source": []
  }
 ],
 "metadata": {
  "kernelspec": {
   "display_name": "Python 3",
   "language": "python",
   "name": "python3"
  },
  "language_info": {
   "codemirror_mode": {
    "name": "ipython",
    "version": 3
   },
   "file_extension": ".py",
   "mimetype": "text/x-python",
   "name": "python",
   "nbconvert_exporter": "python",
   "pygments_lexer": "ipython3",
   "version": "3.8.5"
  },
  "toc": {
   "base_numbering": 1,
   "nav_menu": {},
   "number_sections": true,
   "sideBar": true,
   "skip_h1_title": false,
   "title_cell": "Table of Contents",
   "title_sidebar": "Contents",
   "toc_cell": false,
   "toc_position": {},
   "toc_section_display": true,
   "toc_window_display": false
  },
  "varInspector": {
   "cols": {
    "lenName": 16,
    "lenType": 16,
    "lenVar": 40
   },
   "kernels_config": {
    "python": {
     "delete_cmd_postfix": "",
     "delete_cmd_prefix": "del ",
     "library": "var_list.py",
     "varRefreshCmd": "print(var_dic_list())"
    },
    "r": {
     "delete_cmd_postfix": ") ",
     "delete_cmd_prefix": "rm(",
     "library": "var_list.r",
     "varRefreshCmd": "cat(var_dic_list()) "
    }
   },
   "types_to_exclude": [
    "module",
    "function",
    "builtin_function_or_method",
    "instance",
    "_Feature"
   ],
   "window_display": false
  }
 },
 "nbformat": 4,
 "nbformat_minor": 4
}
