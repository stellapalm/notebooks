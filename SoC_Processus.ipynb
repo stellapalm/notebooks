{
 "cells": [
  {
   "cell_type": "markdown",
   "metadata": {},
   "source": [
    "# S.o.C. :\n",
    "\n",
    "<h3 class='fa fa-graduation-cap' style=\"color: MediumSeaGreen\"> A faire vous même n°1 :</h3>\n",
    "\n",
    "A partir de la lecture de la page [Composants intégrés d'un système sur puce](https://pixees.fr/informatiquelycee/n_site/nsi_term_archi_soc.html) proposée par David ROCHE :\n",
    "\n",
    "- **Donner** la signification de l'acronyme **SoC** :\n",
    "\n",
    "    System on a Chip\n",
    "    \n",
    "    \n",
    "- **Lister** les avantages et inconvénients d'un **SoC** :\n",
    "\n",
    "> avantages :\n",
    "\n",
    "    - rapide\n",
    "    - petit\n",
    "\n",
    "> inconvénients :\n",
    "\n",
    "    - coûteux\n",
    "    \n",
    "    \n",
    "- **Faire** des recherches sur le Soc BCM2711 qui équipe les Raspberry PI4, notez les principales caractéristiques de ce **SoC** :\n",
    "\n",
    "> Un processeur, une carte mère et un RAM.\n",
    "    \n",
    "        \n",
    "- **Interroger** en lignes de commande différents appareils pour connaitre les caractéristiques de leur **SoC** :\n",
    "\n",
    "> Processeur : ARM Cortex A72\n",
    "Type de processeur : Broadcom BCM2711, quad-core Cortex-A72 (ARM v8) 1.5 GHz\n",
    "Fréquence CPU : 1.5 GHz\n",
    "Nombre de core : 4\n",
    "\n",
    "> RAM :\n",
    "Taille de la mémoire : 8 Go\n",
    "Type de mémoire : DDR4\n",
    "\n",
    "<h3 class='fa fa-graduation-cap' style=\"color: darkorange\"> A faire vous même n°2 :</h3>\n",
    "\n",
    "Si le CPU (Central Processing Unit) d’un SoC n'a qu'un seul coeur, il ne traite qu’une instruction à la fois, certains d’entre eux sont à plusieurs coeurs ce qui permet de les faire travailler séparément et de gagner en rapidité.\n",
    "\n",
    "Deux programmes peuvent utiliser deux coeurs différents, néanmoins ils doivent se partager les différentes ressources et mémoires du processeur.\n",
    "\n",
    "La rapidité d’un processeur est principalement lié à sa fréquence, au nombre de coeurs et à la taille de sa mémoire cache.\n",
    "\n",
    "La fréquence donne le nombre d’instructions pouvant être traitées en une seconde par un coeur.             \n",
    "        \n",
    "- **Calculer** combien d’opérations peut réaliser un processeur(single-core) à 3,2 GHZ en une seconde ?\n",
    "\n",
    "  > 1 * 0.2 * 3,2 = 0.64\n",
    "    \n",
    "\n",
    "<h3 class='fa fa-graduation-cap' style=\"color: tomato\"> A faire vous même n°3 :</h3>\n",
    "\n",
    "Voici un programme Python qui donne la température toutes les n secondes du premier coeur d’un processeur :\n",
    "\n",
    "```python\n",
    "from time import sleep\n",
    "import psutil\n",
    "n=int(input(\"période\"))\n",
    "while True:\n",
    "    tempsinfos=psutil.sensors_temperatures()\n",
    "    # print(tempsinfos)\n",
    "    t=tempsinfos[\"coretemp\"][0].current\n",
    "    print(\"température du coeur 0 :\", t)\n",
    "    sleep(n)\n",
    "\n",
    "```\n",
    "La bibliothèque `psutil` donne accès à ces températures via la fonction `sensors.temperatures()` qui renvoie les données mesurées par les sondes sous forme d’un dictionnaire.\n",
    "\n",
    "La clé `\"coretemp\"` de ce dictionnaire contient les informations de températures pour le CPU sous forme d’un tableau. \n",
    "\n",
    "L’information pour chaque coeur est donnée sous la forme d’un n-uplet nommé qui contient, entre autre, un champ `current` donnant la température du coeur.\n",
    "\n",
    "- **Préciser** en quelle unité est donnée la température ?\n",
    "\n",
    "  > En degré celsius\n",
    "    \n",
    "\n",
    "- **Écrire** un programme qui affiche la moyenne des températures des coeurs du CPU :"
   ]
  },
  {
   "cell_type": "code",
   "execution_count": null,
   "metadata": {},
   "outputs": [],
   "source": [
    "from time import sleep\n",
    "import psutil\n",
    "n=int(input(\"période\"))\n",
    "while True:\n",
    "    tempsinfos=psutil.sensors_temperatures()\n",
    "    # print(tempsinfos)\n",
    "    t=tempsinfos[\"coretemp\"][0].current\n",
    "    print(\"température du coeur 0 :\", t)\n",
    "    sleep(n)"
   ]
  },
  {
   "cell_type": "code",
   "execution_count": null,
   "metadata": {},
   "outputs": [],
   "source": []
  },
  {
   "cell_type": "markdown",
   "metadata": {},
   "source": [
    "- **Expérimenter** votre programme sur différentes machines...\n",
    "\n",
    "\n",
    "<h3 class='fa fa-graduation-cap' style=\"color: MediumSeaGreen\"> A faire vous même n°4 :</h3>\n",
    "\n",
    "- **Trouver**, **installer** et **explorer** une application qui vous informe sur l’état du CPU de votre smartphone...\n",
    "\n",
    "# Processus :\n",
    "\n",
    "<h3 class='fa fa-graduation-cap' style=\"color: MediumSeaGreen\"> A faire vous même n°5 :</h3>\n",
    "\n",
    "- **Regarder** la vidéo [Le système d'exploitation en trois idées clé](https://youtu.be/SpCP2oaCx8A)"
   ]
  },
  {
   "cell_type": "code",
   "execution_count": 1,
   "metadata": {},
   "outputs": [
    {
     "data": {
      "text/html": [
       "<center>\n",
       "    <iframe width=\"560\" height=\"315\" src=\"https://www.youtube-nocookie.com/embed/SpCP2oaCx8A\" frameborder=\"0\" allow=\"accelerometer; autoplay; clipboard-write; encrypted-media; gyroscope; picture-in-picture\" allowfullscreen></iframe>\n",
       "</center>\n"
      ],
      "text/plain": [
       "<IPython.core.display.HTML object>"
      ]
     },
     "metadata": {},
     "output_type": "display_data"
    }
   ],
   "source": [
    "%%HTML\n",
    "<center>\n",
    "    <iframe width=\"560\" height=\"315\" src=\"https://www.youtube-nocookie.com/embed/SpCP2oaCx8A\" frameborder=\"0\" allow=\"accelerometer; autoplay; clipboard-write; encrypted-media; gyroscope; picture-in-picture\" allowfullscreen></iframe>\n",
    "</center>"
   ]
  },
  {
   "cell_type": "markdown",
   "metadata": {},
   "source": [
    "<h3 class='fa fa-graduation-cap' style=\"color: MediumSeaGreen\"> A faire vous même n°6 :</h3>\n",
    "\n",
    "- **Lire** et **faire** les activités de la page [Les processus](https://pixees.fr/informatiquelycee/n_site/nsi_term_archi_proc.html) proposée par David ROCHE...\n",
    "\n",
    "\n",
    "<h3 class='fa fa-graduation-cap' style=\"color: MediumSeaGreen\"> A faire vous même n°7 :</h3>\n",
    "\n",
    "On considère 3 Processus P1, P2 et P3 et 3 ressources R1, R2 et R3 tels que:\n",
    "- P1 : demande R1, demande R2, libère R1, libère R2 ;\n",
    "- P2 : demande R2, demande R3, libère R2, libère R3 ;\n",
    "- P3 : demande R3, demande R1, libère R3, libère R1 ;\n",
    "\n",
    "Si les processus sont exécutés l’un après l’autre, d’abord P1 puis P2 et enfin P3 y-a-t-il interblocage?\n",
    "\n",
    "> Il n'y aura pas d'interblocage puisque qu'à chaque fois qu'un processus appelle une ressource celle-ci est ensuite libérée pour qu'un autre processus l'utilise.\n",
    "    \n",
    "\n",
    "Décrire une exécution des 3 processus qui conduit à une situation d’interblocage :\n",
    "\n",
    "- P1 : demande R1, demande R3, libère R3 ;\n",
    "- P2 : demande R1, demande R2, libère R2 ;\n",
    "- P3 : demande R3, demande R2, libère R1, libère R2 ;"
   ]
  },
  {
   "cell_type": "markdown",
   "metadata": {},
   "source": [
    "****\n",
    "## Références aux programmes :\n",
    "\n",
    "### Architectures matérielles et systèmes d’exploitation\n",
    "\n",
    "| Contenus | Capacités attendues | Commentaires |\n",
    "| ------ | ------ | ------ |\n",
    "|Composants intégrés d’un système sur puce.|Identifier les principaux composants sur un schéma de circuit et les avantages de leur intégration en termes de vitesse et de consommation.|Le circuit d’un téléphone peut être pris comme un exemple : microprocesseurs, mémoires locales, interfaces radio et filaires, gestion d’énergie, contrôleurs vidéo, accélérateur graphique, réseaux sur puce, etc.|\n",
    "|Gestion des processus et des ressources par un système d’exploitation.|Décrire la création d’un processus, l’ordonnancement de plusieurs processus par le système.<br/>Mettre en évidence le risque de l’interblocage (*deadlock*).|À l’aide d’outils standard, il s’agit d’observer les processus actifs ou en attente sur une machine.<br/>Une présentation débranchée de l’interblocage peut être proposée.|\n",
    "\n",
    "****"
   ]
  },
  {
   "cell_type": "markdown",
   "metadata": {},
   "source": [
    "<a rel=\"license\" href=\"http://creativecommons.org/licenses/by-sa/4.0/\"><img alt=\"Licence Creative Commons\" style=\"border-width:0\" src=\"https://i.creativecommons.org/l/by-sa/4.0/88x31.png\" /></a><br />Ce document, basé sur les travaux de David ROCHE et de Stephan VAN ZUIJLEN, est mis à disposition selon les termes de la <a rel=\"license\" href=\"http://creativecommons.org/licenses/by-sa/4.0/\">Licence Creative Commons Attribution -  Partage dans les Mêmes Conditions 4.0 International</a>.\n",
    "\n",
    "Pour toute question, suggestion ou commentaire : <a href=\"mailto:eric.madec@ecmorlaix.fr\">eric.madec@ecmorlaix.fr</a>"
   ]
  },
  {
   "cell_type": "code",
   "execution_count": null,
   "metadata": {},
   "outputs": [],
   "source": []
  }
 ],
 "metadata": {
  "kernelspec": {
   "display_name": "Python 3",
   "language": "python",
   "name": "python3"
  },
  "language_info": {
   "codemirror_mode": {
    "name": "ipython",
    "version": 3
   },
   "file_extension": ".py",
   "mimetype": "text/x-python",
   "name": "python",
   "nbconvert_exporter": "python",
   "pygments_lexer": "ipython3",
   "version": "3.9.1"
  },
  "toc": {
   "base_numbering": 1,
   "nav_menu": {},
   "number_sections": true,
   "sideBar": true,
   "skip_h1_title": false,
   "title_cell": "Table of Contents",
   "title_sidebar": "Contents",
   "toc_cell": false,
   "toc_position": {},
   "toc_section_display": true,
   "toc_window_display": false
  },
  "varInspector": {
   "cols": {
    "lenName": 16,
    "lenType": 16,
    "lenVar": 40
   },
   "kernels_config": {
    "python": {
     "delete_cmd_postfix": "",
     "delete_cmd_prefix": "del ",
     "library": "var_list.py",
     "varRefreshCmd": "print(var_dic_list())"
    },
    "r": {
     "delete_cmd_postfix": ") ",
     "delete_cmd_prefix": "rm(",
     "library": "var_list.r",
     "varRefreshCmd": "cat(var_dic_list()) "
    }
   },
   "types_to_exclude": [
    "module",
    "function",
    "builtin_function_or_method",
    "instance",
    "_Feature"
   ],
   "window_display": false
  }
 },
 "nbformat": 4,
 "nbformat_minor": 2
}
