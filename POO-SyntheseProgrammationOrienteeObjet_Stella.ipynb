{
 "cells": [
  {
   "cell_type": "markdown",
   "metadata": {},
   "source": [
    "# POO - petite synthèse pour la Programmation Orientée Objet"
   ]
  },
  {
   "cell_type": "markdown",
   "metadata": {},
   "source": [
    "Jusqu’à présent nous n'avions utilisé que des objets prédéfinis, de type natif :\n",
    "`int` , `float`, `bool` , `str` , `list` , `tuple`, `dict`, ...\n",
    "Nous avons même appris à utiliser des méthodes associées à ces types, comme `ma_liste.append(valeur)`.\n",
    "\n",
    "Une variable de type `int` est en fait un objet de type `int` donc construit à partir de la classe\n",
    "`int`. De même pour les `float` et `string`. Mais également pour les `list`, `tuple`, `dict`, etc.\n",
    "\n",
    "En POO, on peut créer ses propres objets qui auront leurs méthodes, ce qui aura pour effet:\n",
    "- de faciliter l’implémentation de données ;\n",
    "- d’augmenter la lisibilité du programme ;"
   ]
  },
  {
   "cell_type": "markdown",
   "metadata": {},
   "source": [
    "## Ce qu'il faut retenir :\n",
    "\n",
    "Une **classe** (= un concept, abstrait) définit des **objets** (= représentants de ce concept, concret) qui sont des **instances** de cette classe.\n",
    "> On utilisera le mot objet ou instance pour désigner la même chose.\n",
    "\n",
    "<img src=\"https://ericecmorlaix.github.io/img/POO-Classe.png\" alt=\"POO - Objet = instance d'une classe\" title=\"POO - Objet = instance d'une classe\" width=60% >\n",
    "\n",
    "Pour créer une classe on utilise le mot-clé : `class` suivi par le nom de la classe et des incontournables \" : \".\n",
    "> Le nom de la classe commence par une majuscule et ne contient que des caractères alphanumériques."
   ]
  },
  {
   "cell_type": "code",
   "execution_count": null,
   "metadata": {},
   "outputs": [],
   "source": [
    "class Voiture : # définition de la classe Voiture\n",
    "    pass"
   ]
  },
  {
   "cell_type": "markdown",
   "metadata": {},
   "source": [
    "Les objets peuvent posséder des **attributs** (variables associées aux objets) et des **méthodes** (qui sont des fonctions associées aux objets et qui peuvent agir sur ces derniers ou encore les utiliser).\n",
    "\n",
    "<img src=\"https://ericecmorlaix.github.io/img/POO-DiagrammeClasse.png\" alt=\"POO - diagramme de classe\" title=\"POO - diagramme de classe\" width=40%>\n",
    "\n",
    "\n",
    ">Il existe trois principaux types de méthodes différentes :\n",
    ">\n",
    ">- celles qui permettent de construire un objet,\n",
    ">- celles qui permettent d'accéder à un attribut,\n",
    ">- celles qui permettent de modifier un objet.\n",
    "\n",
    "### Le constructeur :\n",
    "\n",
    "Le constructeur est une méthode particulière que l'on nomme `__init__` (avec deux underscores de chaque\n",
    "côté...) et un premier paramètre nommé `self`. Le constructeur ne doit pas renvoyer de résultat.\n",
    "> Le constructeur est implicitement exécuté lors de la création de chaque nouvelle instance."
   ]
  },
  {
   "cell_type": "code",
   "execution_count": null,
   "metadata": {},
   "outputs": [],
   "source": [
    "class Voiture : # définition de la classe Voiture\n",
    "    # Constructeur simple\n",
    "    def __init__(self) :\n",
    "        self.couleur = \"rouge\"\n",
    "        self.portes = 2\n",
    "        self.places = 4\n",
    "        self.moteur = \"diesel\""
   ]
  },
  {
   "cell_type": "code",
   "execution_count": null,
   "metadata": {},
   "outputs": [],
   "source": [
    "clio = Voiture() # instanciation d'un objet clio"
   ]
  },
  {
   "cell_type": "code",
   "execution_count": null,
   "metadata": {},
   "outputs": [],
   "source": [
    "type(clio)"
   ]
  },
  {
   "cell_type": "code",
   "execution_count": null,
   "metadata": {},
   "outputs": [],
   "source": [
    "clio."
   ]
  },
  {
   "cell_type": "markdown",
   "metadata": {},
   "source": [
    ">  ici, tous les objets seront des voitures rouges à 2 portes 4 places diesel..."
   ]
  },
  {
   "cell_type": "markdown",
   "metadata": {},
   "source": [
    "Le constructeur peut permettre de passer des paramètres aux attributs afin de personnaliser une instance. "
   ]
  },
  {
   "cell_type": "code",
   "execution_count": null,
   "metadata": {},
   "outputs": [],
   "source": [
    "class Voiture: # définition de la classe Voiture\n",
    "    # Constructeur paramétré\n",
    "    def __init__(self, couleur : str, portes : int) :\n",
    "        self.couleur = couleur\n",
    "        self.portes = portes\n",
    "        self.places = 4\n",
    "        self.moteur = \"diesel\""
   ]
  },
  {
   "cell_type": "code",
   "execution_count": null,
   "metadata": {},
   "outputs": [],
   "source": [
    "clioOuiOui = Voiture('jaune', 3) # instanciation d'un objet de type Voiture particulier\n",
    "clioToto = Voiture('verte', 5) # instanciation d'un autre objet de type Voiture différent"
   ]
  },
  {
   "cell_type": "code",
   "execution_count": null,
   "metadata": {},
   "outputs": [],
   "source": [
    "clioOuiOui."
   ]
  },
  {
   "cell_type": "code",
   "execution_count": null,
   "metadata": {},
   "outputs": [],
   "source": [
    "cli"
   ]
  },
  {
   "cell_type": "markdown",
   "metadata": {},
   "source": [
    "### Des méthodes pour la manipulation des attributs :"
   ]
  },
  {
   "cell_type": "code",
   "execution_count": null,
   "metadata": {},
   "outputs": [],
   "source": [
    "class Voiture: # définition de la classe Voiture\n",
    "    \n",
    "    # Constructeur\n",
    "    def __init__(self, couleur : str, portes : int) :\n",
    "        self.couleur = couleur\n",
    "        self.portes = portes\n",
    "        self.vitesse = 0\n",
    "        \n",
    "    # méthode pour modifier la valeur de l'attribut vitesse :\n",
    "    def fixeVitesseRegulateur(self, vitesse : int) :\n",
    "        self.vitesse = vitesse\n",
    "    \n",
    "    # méthode pour accéder à la valeur de l'attribut vitesse :\n",
    "    def donneVitesseRegulateur(self) :\n",
    "        return self.vitesse"
   ]
  },
  {
   "cell_type": "code",
   "execution_count": null,
   "metadata": {},
   "outputs": [],
   "source": [
    "clio = Voiture('rouge', 3) # instanciation de l’objet clio"
   ]
  },
  {
   "cell_type": "code",
   "execution_count": null,
   "metadata": {},
   "outputs": [],
   "source": [
    "clio.donneVitesseRegulateur()"
   ]
  },
  {
   "cell_type": "code",
   "execution_count": null,
   "metadata": {},
   "outputs": [],
   "source": [
    "clio.fixeVitesseRegulateur(110)"
   ]
  },
  {
   "cell_type": "code",
   "execution_count": null,
   "metadata": {},
   "outputs": [],
   "source": [
    "print(f\"La vitesse du régulateur est maintenant réglée sur {clio.donneVitesseRegulateur()} km/h\")"
   ]
  },
  {
   "cell_type": "markdown",
   "metadata": {},
   "source": [
    "## Illustration avec l'exemple  de Gollum et Bilbo emprunté à [David ROCHE](https://pixees.fr/informatiquelycee/n_site/nsi_term_paraProg_poo.html) :"
   ]
  },
  {
   "cell_type": "code",
   "execution_count": null,
   "metadata": {},
   "outputs": [],
   "source": [
    "import random\n",
    "\n",
    "class Personnage : # définition de la classe Personnage\n",
    "    \n",
    "    # Construtreur\n",
    "    def __init__(self, nbreDeVie) :\n",
    "        self.vie = nbreDeVie  # attribut\n",
    "    \n",
    "    # méthode pour accéder à la valeur de l'attribut vie :\n",
    "    def donneEtat (self) :\n",
    "        return self.vie\n",
    "    \n",
    "    # méthode pour modifier la valeur de l'attribut vie\n",
    "    def perdVie (self) :\n",
    "        if random.random() > 0.5:\n",
    "            nbPoint = 1\n",
    "        else :\n",
    "            nbPoint = 2\n",
    "        self.vie = self.vie - nbPoint\n",
    "\n",
    "def game() :\n",
    "    \n",
    "    bilbo = Personnage(20) # instanciation d'un objet de type Personnage\n",
    "    gollum = Personnage(20) # instanciation d'un autre objet de type Personnage\n",
    "    \n",
    "    while bilbo.donneEtat() > 0 and gollum.donneEtat() > 0 :\n",
    "        bilbo.perdVie()\n",
    "        gollum.perdVie()\n",
    "        \n",
    "    if bilbo.donneEtat() <= 0 and gollum.donneEtat() > 0:\n",
    "        msg = f\"Gollum est vainqueur, il lui reste encore {gollum.donneEtat()} points alors que Bilbo est mort\"\n",
    "    \n",
    "    elif gollum.donneEtat() <= 0 and bilbo.donneEtat() > 0:\n",
    "        msg = f\"Bilbo est vainqueur, il lui reste encore {bilbo.donneEtat()} points alors que Gollum est mort\"\n",
    "    \n",
    "    else :\n",
    "        msg = \"Les deux combattants sont morts en même temps\"\n",
    "    \n",
    "    return msg"
   ]
  },
  {
   "cell_type": "code",
   "execution_count": null,
   "metadata": {},
   "outputs": [],
   "source": [
    "game()"
   ]
  },
  {
   "cell_type": "markdown",
   "metadata": {},
   "source": [
    "### L'encapsulation, l'interface mutateur et accesseur : \n",
    "\n",
    "L'encapsulation consiste à rendre **privés** les attributs d’un objet pour cacher la représentation interne des classes, qui apparaissent alors comme des \"boîtes noires\" au programmeur.\n",
    "\n",
    "Pour modifier ou lire un attribut il faudra passer par l'**interface** constituée des méthodes **publiques** servant à manipuler les objets : les **mutateur** (setter) et **accesseur** (getter)...\n",
    "\n",
    "<img src=\"https://ericecmorlaix.github.io/img/POO-Interface.png\" alt=\"POO - Interface\" title=\"POO - Interface\" width=60%>\n",
    "\n",
    "Certains langages, comme le PHP ou le Javascript, définissent de manière stricte cette visibilité en fournissant des mots-clés pour caractériser si chaque élément d’une classe est privé ou public.\n",
    "\n",
    "En Python, il y a une convention de nommage : un attribut privé est toujours préfixé (c'est-à-dire précédé) de deux espaces soulignés (tiret du bas, celui du 8).\n",
    "\n",
    ">**Remarque :**\n",
    ">\n",
    "> En Python, lorsque le nom d'un attribut commence par `__`, celui-ci est automatiquement renommé ainsi : >`_nomClasse__nomAttribut`. Étant ainsi renommé, il n'est plus aussi aisément accessible depuis l'extérieur de la classe.\n",
    ">\n",
    "> Il existe un niveau intermédiaire entre privé et public que l'on nomme protégé. En Python, il suffit de préfixer l'attribut (ou la méthode) d'un espace souligné (tiret du bas ou du 8)"
   ]
  },
  {
   "cell_type": "code",
   "execution_count": 1,
   "metadata": {},
   "outputs": [],
   "source": [
    "class Voiture: # définition de la classe Voiture\n",
    "    \n",
    "    # Constructeur \n",
    "    def __init__(self) :\n",
    "        self.__vitesse = 0 # attribut __vitesse privé\n",
    "    \n",
    "    # Mutateur public de l’attribut __vitesse\n",
    "    def set_vitesse(self, valeur : int): \n",
    "        if 0 <= valeur <= 130 :\n",
    "            self.__vitesse = valeur\n",
    "            \n",
    "    # Accesseur public de l’attribut __vitesse        \n",
    "    def get_vitesse(self) -> int:\n",
    "        return self.__vitesse    "
   ]
  },
  {
   "cell_type": "code",
   "execution_count": 2,
   "metadata": {},
   "outputs": [],
   "source": [
    "clio = Voiture() # instanciation de l’objet clio"
   ]
  },
  {
   "cell_type": "code",
   "execution_count": 11,
   "metadata": {},
   "outputs": [
    {
     "name": "stdout",
     "output_type": "stream",
     "text": [
      "Vitesse fixée sur 90 km/h\n"
     ]
    }
   ],
   "source": [
    "clio.set_vitesse(90)\n",
    "print(f\"Vitesse fixée sur {clio.get_vitesse()} km/h\")"
   ]
  },
  {
   "cell_type": "code",
   "execution_count": 12,
   "metadata": {},
   "outputs": [
    {
     "name": "stdout",
     "output_type": "stream",
     "text": [
      "Vitesse fixée sur 90 km/h\n"
     ]
    }
   ],
   "source": [
    "clio.__vitesse = 110\n",
    "print(f\"Vitesse fixée sur {clio.get_vitesse()} km/h\")"
   ]
  },
  {
   "cell_type": "code",
   "execution_count": 13,
   "metadata": {},
   "outputs": [
    {
     "name": "stdout",
     "output_type": "stream",
     "text": [
      "Vitesse fixée sur 120 km/h\n"
     ]
    }
   ],
   "source": [
    "clio._Voiture__vitesse = 120\n",
    "print(f\"Vitesse fixée sur {clio.get_vitesse()} km/h\")"
   ]
  },
  {
   "cell_type": "markdown",
   "metadata": {},
   "source": [
    "> la vitesse reste inchangée !\n",
    "\n",
    "Intérèts de l'encapsulation :\n",
    "- simplifier la vie du programmeur qui utilise une classe.\n",
    "- masquer la complexité de la classe.\n",
    "- permettre de modifier la classe sans changer le reste du programme.\n",
    "- la liste des méthodes devient une sorte de \"mode d’emploi\" de la classe.\n",
    "\n",
    "- isoler les attributs et des méthodes, ne permettre leur modification que par l'interface..."
   ]
  },
  {
   "cell_type": "markdown",
   "metadata": {},
   "source": [
    "## Reprendre l'application de gestion d'un compte bancaire pour sécuriser les mouvements d'argents...\n",
    "\n",
    "## Reprendre la programmation de votre robot du projet nsisium en POO..."
   ]
  },
  {
   "cell_type": "markdown",
   "metadata": {},
   "source": [
    "****\n",
    "## Références aux programmes :\n",
    "\n",
    "<style type=\"text/css\">\n",
    ".tg  {border-collapse:collapse;border-spacing:0;}\n",
    ".tg td{font-family:Arial, sans-serif;font-size:14px;padding:10px 5px;border-style:solid;border-width:1px;overflow:hidden;word-break:normal;border-color:black;}\n",
    ".tg th{font-family:Arial, sans-serif;font-size:14px;font-weight:normal;padding:10px 5px;border-style:solid;border-width:1px;overflow:hidden;word-break:normal;border-color:black;}\n",
    ".tg .tg-cv16{font-weight:bold;background-color:#dae8fc;border-color:inherit;text-align:center}\n",
    ".tg .tg-xldj{border-color:inherit;text-align:left}\n",
    "</style>\n",
    "<h3 >Structures de données</h3> \n",
    "<table class=\"tg\">\n",
    "  <tr>\n",
    "    <th class=\"tg-cv16\">Contenus</th>\n",
    "    <th class=\"tg-cv16\">Capacités attendues</th>\n",
    "    <th class=\"tg-cv16\">Commentaires</th>\n",
    "  </tr>\n",
    "  <tr>\n",
    "    <td class=\"tg-xldj\">Vocabulaire de la programmation objet : classes, attributs, méthodes, objets.</td>\n",
    "    <td class=\"tg-xldj\">Écrire la définition d’une classe.<br>Accéder aux attributs et méthodes d’une classe.</td>\n",
    "    <td class=\"tg-xldj\">On n’aborde pas ici tous les aspects de la programmation objet comme le polymorphisme et l’héritage.</td>\n",
    "  </tr>\n",
    "    \n",
    "</table>\n",
    "\n",
    "<h3 >Langages et programmation</h3> \n",
    "<table class=\"tg\">\n",
    "  <tr>\n",
    "    <th class=\"tg-cv16\">Contenus</th>\n",
    "    <th class=\"tg-cv16\">Capacités attendues</th>\n",
    "    <th class=\"tg-cv16\">Commentaires</th>\n",
    "  </tr>\n",
    "  <tr>\n",
    "    <td class=\"tg-xldj\">Paradigmes de programmation.</td>\n",
    "    <td class=\"tg-xldj\">Distinguer sur des exemples les paradigmes impératif, fonctionnel et objet.<br>Choisir le paradigme de\n",
    "programmation selon le champ d’application d’un programme.</td>\n",
    "    <td class=\"tg-xldj\">Avec un même langage de programmation, on peut utiliser des paradigmes différents. Dans un même programme, on peut utiliser des paradigmes différents.</td>\n",
    "    \n",
    "</table>"
   ]
  },
  {
   "cell_type": "markdown",
   "metadata": {},
   "source": [
    "## Autres ressources :\n",
    "\n",
    "- http://nsivaugelas.free.fr/terminale/poo_voc.php\n",
    "- http://monlyceenumerique.fr/nsi_terminale/sd/sd2_programmation_objet.html\n",
    "- http://www.maths-info-lycee.fr/nsi.html\n"
   ]
  },
  {
   "cell_type": "markdown",
   "metadata": {},
   "source": [
    "## Prolongements récréatifs :\n",
    "\n",
    "- [Création d'un jeu flappy fish avec Processing](https://isn-icn-ljm.pagesperso-orange.fr/NSI-TLE/res/media_jeu_processing.eWeb/co/activiteapprentissage_classes_jeu_2.html)\n",
    "\n",
    "- développer un projet libre dans lequel vous utiliserez la programmation objet..."
   ]
  },
  {
   "cell_type": "markdown",
   "metadata": {},
   "source": [
    "<a rel=\"license\" href=\"http://creativecommons.org/licenses/by-sa/4.0/\"><img alt=\"Licence Creative Commons\" style=\"border-width:0\" src=\"https://i.creativecommons.org/l/by-sa/4.0/88x31.png\" /></a><br />Ce document, basé sur le travail de Vincent GROSJEAN, [David ROCHE](https://pixees.fr/informatiquelycee/n_site/nsi_prem.html) et d'autres ressources listées plus haut, est mis à disposition selon les termes de la <a rel=\"license\" href=\"http://creativecommons.org/licenses/by-sa/4.0/\">Licence Creative Commons Attribution -  Partage dans les Mêmes Conditions 4.0 International</a>.\n",
    "\n",
    "Pour toute question, suggestion ou commentaire : <a href=\"mailto:eric.madec@ecmorlaix.fr\">eric.madec@ecmorlaix.fr</a>"
   ]
  },
  {
   "cell_type": "code",
   "execution_count": null,
   "metadata": {},
   "outputs": [],
   "source": []
  }
 ],
 "metadata": {
  "kernelspec": {
   "display_name": "Python 3",
   "language": "python",
   "name": "python3"
  },
  "language_info": {
   "codemirror_mode": {
    "name": "ipython",
    "version": 3
   },
   "file_extension": ".py",
   "mimetype": "text/x-python",
   "name": "python",
   "nbconvert_exporter": "python",
   "pygments_lexer": "ipython3",
   "version": "3.7.3"
  },
  "toc": {
   "base_numbering": 1,
   "nav_menu": {},
   "number_sections": true,
   "sideBar": true,
   "skip_h1_title": false,
   "title_cell": "Table of Contents",
   "title_sidebar": "Contents",
   "toc_cell": false,
   "toc_position": {},
   "toc_section_display": true,
   "toc_window_display": false
  },
  "varInspector": {
   "cols": {
    "lenName": 16,
    "lenType": 16,
    "lenVar": 40
   },
   "kernels_config": {
    "python": {
     "delete_cmd_postfix": "",
     "delete_cmd_prefix": "del ",
     "library": "var_list.py",
     "varRefreshCmd": "print(var_dic_list())"
    },
    "r": {
     "delete_cmd_postfix": ") ",
     "delete_cmd_prefix": "rm(",
     "library": "var_list.r",
     "varRefreshCmd": "cat(var_dic_list()) "
    }
   },
   "types_to_exclude": [
    "module",
    "function",
    "builtin_function_or_method",
    "instance",
    "_Feature"
   ],
   "window_display": false
  }
 },
 "nbformat": 4,
 "nbformat_minor": 4
}
