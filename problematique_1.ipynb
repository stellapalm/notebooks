{
 "cells": [
  {
   "cell_type": "markdown",
   "metadata": {},
   "source": [
    "<h2>Sujet 1 : La musique et l'informatique</h2>"
   ]
  },
  {
   "cell_type": "markdown",
   "metadata": {},
   "source": [
    "Le sujet s'inscrit en 4 parties distinctes :\n",
    "\n",
    "<b><p>I. La musique liée à l'informatique, qu'est ce que c'est ?</p>\n",
    "<p>II. Comment ça marche ?</p>\n",
    "<p>III. Avantages </p>\n",
    "<p>IV. Inconvénients </p></b>"
   ]
  },
  {
   "cell_type": "markdown",
   "metadata": {},
   "source": [
    "<h3><b>I. La musique liée à l'informatique, qu'est ce que c'est ?</b></h3>"
   ]
  },
  {
   "cell_type": "markdown",
   "metadata": {},
   "source": [
    "<b>\"Cette capacité à s'écouter les uns les autres, se coordonner et se synchroniser, avec une tolérance incroyable aux variantes, aux erreurs mêmes, c'est une capacité humaine extraordinaire qu'on aimerait donner à la machine.\"</b> dit Arshia Cont, un chercheur en informatique musicale. \n",
    "En effet, la musique est un domaine particulièrement intéressant lorsqu'il est associé à l'informatique car cette union est plutôt délicate dû à la complexité des sons. Non seulement obtenir un son identique à celui provenant d'un instrument est difficile, mais faire en sorte qu'une musique soit reconnue sur une plateforme musicale n'est pas non plus une mince affaire. Finalement, le processus est long avant que des suites de notes arrivent jusqu'à nos oreilles."
   ]
  },
  {
   "cell_type": "markdown",
   "metadata": {},
   "source": [
    "<h3><b>II. Comment ça marche ?</b></h3>"
   ]
  },
  {
   "cell_type": "markdown",
   "metadata": {},
   "source": [
    "Nous nous concentrerons d'abord sur la production musicale..."
   ]
  },
  {
   "cell_type": "markdown",
   "metadata": {},
   "source": [
    "Voici ce que nous propose Sonic Pi comme suite d'instructions pour débuter sur la plateforme :"
   ]
  },
  {
   "cell_type": "markdown",
   "metadata": {},
   "source": [
    "<img src=\"Tuto_sonic_pi.png\" width=70%>"
   ]
  },
  {
   "cell_type": "markdown",
   "metadata": {},
   "source": [
    "Cependant il existe aussi des extentions de Sonic Pi comme Sonic Pi Python que nous utiliserons à présent :"
   ]
  },
  {
   "cell_type": "code",
   "execution_count": null,
   "metadata": {},
   "outputs": [],
   "source": [
    "# Implémentation\n",
    "from psonic import *"
   ]
  },
  {
   "cell_type": "code",
   "execution_count": null,
   "metadata": {},
   "outputs": [],
   "source": [
    "# Des instructions simples\n",
    "sample(LOOP_AMEN,pan=-1)\n",
    "sleep(0.877)\n",
    "sample(LOOP_AMEN,pan=1)"
   ]
  },
  {
   "cell_type": "code",
   "execution_count": null,
   "metadata": {},
   "outputs": [],
   "source": [
    "# D'autres instructions"
   ]
  },
  {
   "cell_type": "code",
   "execution_count": null,
   "metadata": {},
   "outputs": [],
   "source": [
    "# Idem..."
   ]
  },
  {
   "cell_type": "markdown",
   "metadata": {},
   "source": [
    "Quand nous faisons appel à ces notes, le travail est déjà bien mâcher puisqu'il nous suffit de remplir une fonction de valeurs. \n",
    "Nous allons donc analyser la constrution de certaines de ces fonctions :"
   ]
  },
  {
   "cell_type": "code",
   "execution_count": null,
   "metadata": {},
   "outputs": [],
   "source": []
  },
  {
   "cell_type": "code",
   "execution_count": null,
   "metadata": {},
   "outputs": [],
   "source": []
  },
  {
   "cell_type": "markdown",
   "metadata": {},
   "source": [
    "On pourrait alors créer une classe (Programmation Orientée Objet) permettant d'instancier un morceau avec des couplets, un refrain et même une introduction... "
   ]
  },
  {
   "cell_type": "markdown",
   "metadata": {},
   "source": [
    "Cette méthode permettrait de créer une musique pouvant avoir du succès. C'est le cas dans la vidéo suivante reproduisant un morceau connu des <b>Daft Punk, \"Aerodynamic\"</b> : \n",
    "\n",
    "-> https://www.youtube.com/watch?v=cydH_JAgSfg"
   ]
  },
  {
   "cell_type": "markdown",
   "metadata": {},
   "source": [
    "<h3><b>III. Avantages</b></h3>"
   ]
  },
  {
   "cell_type": "code",
   "execution_count": null,
   "metadata": {},
   "outputs": [],
   "source": []
  },
  {
   "cell_type": "code",
   "execution_count": null,
   "metadata": {},
   "outputs": [],
   "source": []
  },
  {
   "cell_type": "code",
   "execution_count": null,
   "metadata": {},
   "outputs": [],
   "source": []
  },
  {
   "cell_type": "markdown",
   "metadata": {},
   "source": [
    "<h3><b>IV. Inconvénients</b><h3>"
   ]
  },
  {
   "cell_type": "code",
   "execution_count": null,
   "metadata": {},
   "outputs": [],
   "source": []
  },
  {
   "cell_type": "code",
   "execution_count": null,
   "metadata": {},
   "outputs": [],
   "source": []
  },
  {
   "cell_type": "code",
   "execution_count": null,
   "metadata": {},
   "outputs": [],
   "source": []
  },
  {
   "cell_type": "markdown",
   "metadata": {},
   "source": [
    "Sources :\n",
    "- La Recherche : \"Musique et informatique, un mariage d'amour\" (article numérique)\n",
    "- Le Monde : \"J'ai deux passions, la musique et l'informatique\" (article numérique)\n",
    "- Le Monde : \"L'algorithme, nouvelle machine à tubes. Vraiment ?\" (article numérique)\n",
    "- Sonic Pi (site)"
   ]
  }
 ],
 "metadata": {
  "interpreter": {
   "hash": "cb0d8732965f5ddf62787997273b565aebf28274693b0e690353998827542672"
  },
  "kernelspec": {
   "display_name": "Python 3.9.1 64-bit",
   "language": "python",
   "name": "python3"
  },
  "language_info": {
   "codemirror_mode": {
    "name": "ipython",
    "version": 3
   },
   "file_extension": ".py",
   "mimetype": "text/x-python",
   "name": "python",
   "nbconvert_exporter": "python",
   "pygments_lexer": "ipython3",
   "version": "3.9.1"
  },
  "orig_nbformat": 4
 },
 "nbformat": 4,
 "nbformat_minor": 2
}
