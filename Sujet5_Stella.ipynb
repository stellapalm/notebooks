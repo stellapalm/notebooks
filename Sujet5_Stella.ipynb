{
 "cells": [
  {
   "cell_type": "markdown",
   "metadata": {},
   "source": [
    "Sujet 5 : Exercice 1 : Recherche d'un minimum et d'un maximum"
   ]
  },
  {
   "cell_type": "code",
   "execution_count": null,
   "metadata": {},
   "outputs": [],
   "source": [
    "# Définition\n",
    "\n",
    "def cons(x, L) :\n",
    "\n",
    "    '''\n",
    "    * Description : \n",
    "    Renvoie un element x de la liste L.\n",
    "\n",
    "    * Exemple : \n",
    "    >>> cons(tableau[0], tableau)\n",
    "    4\n",
    "\n",
    "    * Précondition : \n",
    "    x (int) : x est un element de la liste en chiffre.\n",
    "    L (list) : on donne la liste dans laquelle on retrouve l'element qu'on veut afficher.\n",
    "\n",
    "    * Postcondition :\n",
    "    x (int) : x est sous forme de chiffre.\n",
    "    '''\n",
    "    # Asserssion\n",
    "    assert type(x) == int  , \"L'argument x doit être un chiffre.\"\n",
    "    assert type(L) == list  , \"L'argument L doit être une liste.\"\n",
    "\n",
    "    # Bloc s'instruction\n",
    "    return (x)"
   ]
  },
  {
   "cell_type": "code",
   "execution_count": 10,
   "metadata": {},
   "outputs": [],
   "source": [
    "# Définition \n",
    "\n",
    "def RechercheMinMax(tableau : list) -> dict :\n",
    "    '''\n",
    "    * Description : \n",
    "    Donne le plus petit \"minimum\" et le plus grand \"maximum\" nombre d'une liste \"tableau\" sous forme de dictionnaire\n",
    "\n",
    "    * Exemple :\n",
    "    >>> RechercheMinMax([0, 4, 1, -6, 9])\n",
    "    {'min' : -6, 'max' : 9}\n",
    "\n",
    "    * Précondition :\n",
    "    tableau (list) : on donne des chiffres dans une liste.\n",
    "\n",
    "    * Postcondition :\n",
    "    resultat (dict) : les chiffres minimum et maximum donnés sont convertis en dictionnaire après que la liste a été parcourue.\n",
    "    '''\n",
    "    # Asserssion\n",
    "    assert type(tableau) == list  , \"L'argument tableau doit être une liste.\"\n",
    "\n",
    "    # Bloc d'instructions\n",
    "    if tableau == [] :\n",
    "        resultat = {'min' : None, 'max' : None}\n",
    "\n",
    "    else :\n",
    "        for i in range(len(tableau)) :\n",
    "\n",
    "            if tableau[0] < cons(tableau[i], tableau) :\n",
    "                minimum = tableau[0]\n",
    "                \n",
    "            else :\n",
    "                maximum = cons(tableau[i], tableau)\n",
    "\n",
    "\n",
    "        resultat = {'min' : {minimum}, 'max' : {maximum}}\n",
    "\n",
    "\n",
    "    return resultat "
   ]
  },
  {
   "cell_type": "code",
   "execution_count": 2,
   "metadata": {},
   "outputs": [
    {
     "data": {
      "text/plain": [
       "{'min': None, 'max': None}"
      ]
     },
     "execution_count": 2,
     "metadata": {},
     "output_type": "execute_result"
    }
   ],
   "source": [
    "# Test 1\n",
    "RechercheMinMax([])"
   ]
  },
  {
   "cell_type": "code",
   "execution_count": 11,
   "metadata": {},
   "outputs": [
    {
     "data": {
      "text/plain": [
       "{'min': {0}, 'max': {0}}"
      ]
     },
     "execution_count": 11,
     "metadata": {},
     "output_type": "execute_result"
    }
   ],
   "source": [
    "# Test 2\n",
    "RechercheMinMax([0, 4, 1, 6, 9])"
   ]
  }
 ],
 "metadata": {
  "interpreter": {
   "hash": "3349e1f08092d7ce8963e3315399dd9dbaba56e2d1e3c3fef1b4321da290c3be"
  },
  "kernelspec": {
   "display_name": "Python 3.9.1 64-bit",
   "language": "python",
   "name": "python3"
  },
  "language_info": {
   "codemirror_mode": {
    "name": "ipython",
    "version": 3
   },
   "file_extension": ".py",
   "mimetype": "text/x-python",
   "name": "python",
   "nbconvert_exporter": "python",
   "pygments_lexer": "ipython3",
   "version": "3.9.1"
  },
  "orig_nbformat": 4
 },
 "nbformat": 4,
 "nbformat_minor": 2
}
