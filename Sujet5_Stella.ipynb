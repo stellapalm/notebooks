{
 "cells": [
  {
   "cell_type": "markdown",
   "metadata": {},
   "source": [
    "Sujet 5 : Exercice 1 : Recherche d'un minimum et d'un maximum"
   ]
  },
  {
   "cell_type": "code",
   "execution_count": 11,
   "metadata": {},
   "outputs": [],
   "source": [
    "# Définition \n",
    "\n",
    "def RechercheMinMax(tableau : list) -> dict :\n",
    "    '''\n",
    "    * Description : \n",
    "    Donne le plus petit \"minimum\" et le plus grand \"maximum\" nombre d'une liste \"tableau\" sous forme de dictionnaire\n",
    "\n",
    "    * Exemple :\n",
    "    >>> RechercheMinMax([0, 4, 1, -6, 9])\n",
    "    {'min' : -6, 'max' : 9}\n",
    "\n",
    "    >>> RechercheMinMax([0, 1, 4, 2, -2, 9, 3, 1, 7, 1])\n",
    "    {'min': -2, 'max': 9}\n",
    "\n",
    "    >>> RechercheMinMax([])\n",
    "    {'min': None, 'max': None}\n",
    "\n",
    "    * Précondition :\n",
    "    tableau est de type list, un tableau de nombres non triés ;\n",
    "\n",
    "    * Postcondition :\n",
    "    resultat (dict) : les chiffres minimum et maximum donnés sont affichés sous forme de dictionnaire après que la liste ai été parcourue.\n",
    "    '''\n",
    "    # Assertion\n",
    "    assert type(tableau) == list  , \"L'argument tableau doit être une liste.\"\n",
    "     \n",
    "    # Initialisation\n",
    "    maximum = tableau[0]\n",
    "    minimum = tableau[0]\n",
    "\n",
    "    # Bloc d'instructions\n",
    "\n",
    "    if tableau == [] :\n",
    "        resultat = {'min' : None, 'max' : None}\n",
    "\n",
    "    else :\n",
    "        for i in range(len(tableau)) :\n",
    "\n",
    "            if tableau[i] < minimum :\n",
    "                minimum = tableau[i]\n",
    "                \n",
    "            if tableau[i] > maximum :\n",
    "                maximum = tableau[i]\n",
    "\n",
    "\n",
    "        resultat = {'min' : {minimum}, 'max' : {maximum}}\n",
    "\n",
    "\n",
    "    return resultat "
   ]
  },
  {
   "cell_type": "code",
   "execution_count": 2,
   "metadata": {},
   "outputs": [
    {
     "data": {
      "text/plain": [
       "{'min': None, 'max': None}"
      ]
     },
     "execution_count": 2,
     "metadata": {},
     "output_type": "execute_result"
    }
   ],
   "source": [
    "# Test 1\n",
    "RechercheMinMax([])"
   ]
  },
  {
   "cell_type": "code",
   "execution_count": 12,
   "metadata": {},
   "outputs": [
    {
     "data": {
      "text/plain": [
       "{'min': {0}, 'max': {9}}"
      ]
     },
     "execution_count": 12,
     "metadata": {},
     "output_type": "execute_result"
    }
   ],
   "source": [
    "# Test 2 \n",
    "RechercheMinMax([0, 4, 1, 6, 9])"
   ]
  },
  {
   "cell_type": "code",
   "execution_count": 13,
   "metadata": {},
   "outputs": [
    {
     "data": {
      "text/plain": [
       "{'min': {-2}, 'max': {9}}"
      ]
     },
     "execution_count": 13,
     "metadata": {},
     "output_type": "execute_result"
    }
   ],
   "source": [
    "# Test 3\n",
    "RechercheMinMax([0, 1, 4, 2, -2, 9, 3, 1, 7, 1])"
   ]
  }
 ],
 "metadata": {
  "interpreter": {
   "hash": "3349e1f08092d7ce8963e3315399dd9dbaba56e2d1e3c3fef1b4321da290c3be"
  },
  "kernelspec": {
   "display_name": "Python 3.9.1 64-bit",
   "language": "python",
   "name": "python3"
  },
  "language_info": {
   "codemirror_mode": {
    "name": "ipython",
    "version": 3
   },
   "file_extension": ".py",
   "mimetype": "text/x-python",
   "name": "python",
   "nbconvert_exporter": "python",
   "pygments_lexer": "ipython3",
   "version": "3.9.1"
  },
  "orig_nbformat": 4
 },
 "nbformat": 4,
 "nbformat_minor": 2
}
