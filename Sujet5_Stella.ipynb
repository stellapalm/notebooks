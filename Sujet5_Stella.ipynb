{
 "cells": [
  {
   "cell_type": "markdown",
   "metadata": {},
   "source": [
    "Sujet 5 : Exercice 1 : Recherche d'un minimum et d'un maximum"
   ]
  },
  {
   "cell_type": "code",
   "execution_count": null,
   "metadata": {},
   "outputs": [],
   "source": [
    "# Dépendance\n",
    "\n",
    "from * import *"
   ]
  },
  {
   "cell_type": "code",
   "execution_count": 1,
   "metadata": {},
   "outputs": [],
   "source": [
    "# Définition \n",
    "\n",
    "def RechercheMinMax(tableau : list) -> dict :\n",
    "    '''\n",
    "    * Description : \n",
    "    Donne le plus petit \"minimum\" et le plus grand \"maximum\" nombre d'une liste \"tableau\" sous forme de dictionnaire\n",
    "\n",
    "    * Exemple :\n",
    "    >>> RechercheMinMax([0, 4, 1, -6, 9])\n",
    "    {'min' : -6, 'max' : 9}\n",
    "\n",
    "    * Précondition :\n",
    "    tableau (list) : on donne des chiffres dans une liste\n",
    "\n",
    "    * Postcondition :\n",
    "    resultat (dict) : les chiffres minimum et maximum donnés sont convertis en dictionnaire après que la liste a été parcourue.\n",
    "    '''\n",
    "    # Asserssion\n",
    "    assert type(tableau) == list  , \"L'argument tableau doit être une liste.\"\n",
    "\n",
    "    # Bloc d'instructions\n",
    "    if tableau == [] :\n",
    "        resultat = {'min' : None, 'max' : None}\n",
    "\n",
    "    else :\n",
    "        for i in range(len(tableau)) :\n",
    "\n",
    "            if tableau[0] < cons(tableau[i], tableau) :\n",
    "                minimum = tableau[0]\n",
    "                \n",
    "            elif tableau[0] > cons(tableau[i], tableau) :\n",
    "                maximum = cons(tableau[i], tableau)\n",
    "\n",
    "            else :\n",
    "                minimum = tableau[i]\n",
    "                maximum = tableau[i]\n",
    "\n",
    "        resultat = {'min' : {minimum}, 'max' : {maximum}}\n",
    "\n",
    "\n",
    "    return resultat "
   ]
  },
  {
   "cell_type": "code",
   "execution_count": 2,
   "metadata": {},
   "outputs": [
    {
     "data": {
      "text/plain": [
       "{'min': None, 'max': None}"
      ]
     },
     "execution_count": 2,
     "metadata": {},
     "output_type": "execute_result"
    }
   ],
   "source": [
    "# Test 1\n",
    "RechercheMinMax([])"
   ]
  },
  {
   "cell_type": "code",
   "execution_count": 3,
   "metadata": {},
   "outputs": [
    {
     "ename": "NameError",
     "evalue": "name 'cons' is not defined",
     "output_type": "error",
     "traceback": [
      "\u001b[1;31m---------------------------------------------------------------------------\u001b[0m",
      "\u001b[1;31mNameError\u001b[0m                                 Traceback (most recent call last)",
      "\u001b[1;32m<ipython-input-3-07593ecc2e0f>\u001b[0m in \u001b[0;36m<module>\u001b[1;34m\u001b[0m\n\u001b[0;32m      1\u001b[0m \u001b[1;31m# Test 2\u001b[0m\u001b[1;33m\u001b[0m\u001b[1;33m\u001b[0m\u001b[1;33m\u001b[0m\u001b[0m\n\u001b[1;32m----> 2\u001b[1;33m \u001b[0mRechercheMinMax\u001b[0m\u001b[1;33m(\u001b[0m\u001b[1;33m[\u001b[0m\u001b[1;36m0\u001b[0m\u001b[1;33m,\u001b[0m \u001b[1;36m4\u001b[0m\u001b[1;33m,\u001b[0m \u001b[1;36m1\u001b[0m\u001b[1;33m,\u001b[0m \u001b[1;33m-\u001b[0m\u001b[1;36m6\u001b[0m\u001b[1;33m,\u001b[0m \u001b[1;36m9\u001b[0m\u001b[1;33m]\u001b[0m\u001b[1;33m)\u001b[0m\u001b[1;33m\u001b[0m\u001b[1;33m\u001b[0m\u001b[0m\n\u001b[0m",
      "\u001b[1;32m<ipython-input-1-45b6db96ab54>\u001b[0m in \u001b[0;36mRechercheMinMax\u001b[1;34m(tableau)\u001b[0m\n\u001b[0;32m     26\u001b[0m         \u001b[1;32mfor\u001b[0m \u001b[0mi\u001b[0m \u001b[1;32min\u001b[0m \u001b[0mrange\u001b[0m\u001b[1;33m(\u001b[0m\u001b[0mlen\u001b[0m\u001b[1;33m(\u001b[0m\u001b[0mtableau\u001b[0m\u001b[1;33m)\u001b[0m\u001b[1;33m)\u001b[0m \u001b[1;33m:\u001b[0m\u001b[1;33m\u001b[0m\u001b[1;33m\u001b[0m\u001b[0m\n\u001b[0;32m     27\u001b[0m \u001b[1;33m\u001b[0m\u001b[0m\n\u001b[1;32m---> 28\u001b[1;33m             \u001b[1;32mif\u001b[0m \u001b[0mtableau\u001b[0m\u001b[1;33m[\u001b[0m\u001b[1;36m0\u001b[0m\u001b[1;33m]\u001b[0m \u001b[1;33m<\u001b[0m \u001b[0mcons\u001b[0m\u001b[1;33m(\u001b[0m\u001b[0mtableau\u001b[0m\u001b[1;33m[\u001b[0m\u001b[0mi\u001b[0m\u001b[1;33m]\u001b[0m\u001b[1;33m,\u001b[0m \u001b[0mtableau\u001b[0m\u001b[1;33m)\u001b[0m \u001b[1;33m:\u001b[0m\u001b[1;33m\u001b[0m\u001b[1;33m\u001b[0m\u001b[0m\n\u001b[0m\u001b[0;32m     29\u001b[0m                 \u001b[0mminimum\u001b[0m \u001b[1;33m=\u001b[0m \u001b[0mtableau\u001b[0m\u001b[1;33m[\u001b[0m\u001b[1;36m0\u001b[0m\u001b[1;33m]\u001b[0m\u001b[1;33m\u001b[0m\u001b[1;33m\u001b[0m\u001b[0m\n\u001b[0;32m     30\u001b[0m \u001b[1;33m\u001b[0m\u001b[0m\n",
      "\u001b[1;31mNameError\u001b[0m: name 'cons' is not defined"
     ]
    }
   ],
   "source": [
    "# Test 2\n",
    "RechercheMinMax([0, 4, 1, -6, 9])"
   ]
  }
 ],
 "metadata": {
  "interpreter": {
   "hash": "3349e1f08092d7ce8963e3315399dd9dbaba56e2d1e3c3fef1b4321da290c3be"
  },
  "kernelspec": {
   "display_name": "Python 3.9.1 64-bit",
   "language": "python",
   "name": "python3"
  },
  "language_info": {
   "codemirror_mode": {
    "name": "ipython",
    "version": 3
   },
   "file_extension": ".py",
   "mimetype": "text/x-python",
   "name": "python",
   "nbconvert_exporter": "python",
   "pygments_lexer": "ipython3",
   "version": "3.9.1"
  },
  "orig_nbformat": 4
 },
 "nbformat": 4,
 "nbformat_minor": 2
}
