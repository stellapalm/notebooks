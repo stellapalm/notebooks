{
 "cells": [
  {
   "cell_type": "markdown",
   "metadata": {},
   "source": [
    "# Mini-projet : \"Let it snow\"\n",
    "\n",
    "## But :\n",
    "\n",
    "On souhaite écrire un programme qui permet de générer un dessin animé simulant une chute de flocons de neige dans un notebook jupyter.\n",
    "\n",
    "\n",
    "<center><video width=\"400\" controls src=\"https://ericecmorlaix.github.io/img/Let_it_snow-demo.MP4\"></center>\n",
    "    \n",
    "    \n",
    "<!-- <img src=\"https://ericecmorlaix.github.io/img/Let_it_snow-tableau_de_flocons.png\" alt=\"Let_it_snow-tableau_de_flocons.png\" width = 60% > -->\n",
    "\n",
    "On utilisera pour cela le module **`ipycanvas`** de [Martin RENOU](https://github.com/martinRenou) :\n",
    "\n",
    "<img src=\"https://ericecmorlaix.github.io/img/ipycanvas-logo.svg\" alt=\"ipycanvas-logo.svg\" width = 25%>\n",
    "\n",
    "\n",
    "Si vous ne connaissez pas ce module, il vous faut donc préalablement le prendre en main en faisant, par exemple, les activités de [ipycanvas-Le_BN_pour_dessiner.ipynb\n",
    "](ipycanvas-Le_BN_pour_dessiner.ipynb)..."
   ]
  },
  {
   "cell_type": "markdown",
   "metadata": {},
   "source": [
    "**_Cette histoire prend corps dans un environnement très particulier mais favorable à son avènement..._**\n",
    "\n",
    "## La scène par ipycanvas :\n",
    "\n",
    "> Il s'agit d'un élément HTML `<canvas>` que l'on va pouvoir afficher dans ce notebook grace au module ipycanvas de Martin RENOU.\n",
    "\n",
    "- Importer les fonctionnalités de la classe `Canvas` de la bibliotèque `ipycanvas` dans ce notebook :  "
   ]
  },
  {
   "cell_type": "code",
   "execution_count": 1,
   "metadata": {},
   "outputs": [],
   "source": [
    "from ipycanvas import Canvas"
   ]
  },
  {
   "cell_type": "markdown",
   "metadata": {},
   "source": [
    "- Créer un canvas nommé `s`(pour \"scène\", ou \"stage\" en Anglais, et pour faire court), aux dimensions 600 pixels de largeur et 400 pixels de hauteur avec un fond noir et l'afficher"
   ]
  },
  {
   "cell_type": "code",
   "execution_count": 2,
   "metadata": {},
   "outputs": [],
   "source": [
    "# Création du canvas de la scène\n",
    "s = Canvas(width=600, height=400)\n",
    "\n",
    "# Fond noir\n",
    "s.fill_style = 'black'\n",
    "s.fill_rect(0, 0, s.width, s.height)"
   ]
  },
  {
   "cell_type": "code",
   "execution_count": 3,
   "metadata": {},
   "outputs": [
    {
     "data": {
      "application/vnd.jupyter.widget-view+json": {
       "model_id": "482ded56c3034f0b9287c4bc7a846e3c",
       "version_major": 2,
       "version_minor": 0
      },
      "text/plain": [
       "Canvas(height=400, width=600)"
      ]
     },
     "metadata": {},
     "output_type": "display_data"
    }
   ],
   "source": [
    "# Test d'affichage de la scène\n",
    "display(s)"
   ]
  },
  {
   "cell_type": "markdown",
   "metadata": {},
   "source": [
    "> Maintenant que le canvas existe, les commandes `s.width` et `s.height` nous renvoient ses dimensions"
   ]
  },
  {
   "cell_type": "code",
   "execution_count": 4,
   "metadata": {},
   "outputs": [
    {
     "data": {
      "text/plain": [
       "600"
      ]
     },
     "execution_count": 4,
     "metadata": {},
     "output_type": "execute_result"
    }
   ],
   "source": [
    "s.width"
   ]
  },
  {
   "cell_type": "markdown",
   "metadata": {},
   "source": [
    "> Saisir l'instruction `help(s.fill_rect)` pour obtenir de l'aide sur la méthode `fill_rect()`"
   ]
  },
  {
   "cell_type": "code",
   "execution_count": 5,
   "metadata": {},
   "outputs": [
    {
     "name": "stdout",
     "output_type": "stream",
     "text": [
      "Help on method fill_rect in module ipycanvas.canvas:\n",
      "\n",
      "fill_rect(x, y, width, height=None) method of ipycanvas.canvas.Canvas instance\n",
      "    Draw a filled rectangle of size ``(width, height)`` at the ``(x, y)`` position.\n",
      "\n"
     ]
    }
   ],
   "source": [
    "help(s.fill_rect)"
   ]
  },
  {
   "cell_type": "markdown",
   "metadata": {},
   "source": [
    "- Définir une fonction `background(couleur)` qui rafraichit la scène avec un fond de la couleur passée en paramètre"
   ]
  },
  {
   "cell_type": "code",
   "execution_count": 6,
   "metadata": {},
   "outputs": [],
   "source": [
    "# Une fonction pour effacer la scène et redessiner un background\n",
    "def background(couleur : str = 'black') :\n",
    "    '''\n",
    "    Rafraichit la scène avec un fond de la couleur\n",
    "    'couleur' passée en paramètre et fixée sur `black` par défaut\n",
    "    Préconditions :\n",
    "    - couleur (str) : une chaine de caractères définissant une couleur HTML valide\n",
    "    '''\n",
    "    s.fill_style = couleur\n",
    "    s.fill_rect(0, 0, s.width, s.height)  \n",
    "    \n",
    "    \n",
    "    "
   ]
  },
  {
   "cell_type": "code",
   "execution_count": 7,
   "metadata": {},
   "outputs": [
    {
     "data": {
      "application/vnd.jupyter.widget-view+json": {
       "model_id": "482ded56c3034f0b9287c4bc7a846e3c",
       "version_major": 2,
       "version_minor": 0
      },
      "text/plain": [
       "Canvas(height=400, width=600)"
      ]
     },
     "metadata": {},
     "output_type": "display_data"
    }
   ],
   "source": [
    "# Test pour la fonction background()\n",
    "display(s)\n",
    "background('black')"
   ]
  },
  {
   "cell_type": "markdown",
   "metadata": {},
   "source": [
    "Au fur et à mesure de vos essais, rassembler dans une même cellule de ce notebook les codes que vous avez validés et qui seront utilisés pour la suite. Il suffira alors de faire descendre cette cellule vers le bas du notebook (ou de la dupliquer) pour réaliser de nouveaux tests et de l'augmenter progresssivement...\n",
    "\n",
    "> Une autre solution consiste à enregistrer progressivement le code du développement validé dans un fichier `ma_scene.py` et à importer toutes les fonctionnalités de ce module `from ma_scene import *` dans le notebook pour pouvoir y effectuer de nouveaux essais s'appuyant sur cette base de la définition du projet à ce stade.\n",
    "\n",
    "- Compléter la cellule ci-dessous en application de cette méthode de développement"
   ]
  },
  {
   "cell_type": "code",
   "execution_count": 8,
   "metadata": {},
   "outputs": [
    {
     "data": {
      "application/vnd.jupyter.widget-view+json": {
       "model_id": "af19b42bf9914a679b49cba9a57010db",
       "version_major": 2,
       "version_minor": 0
      },
      "text/plain": [
       "Canvas(height=400, width=600)"
      ]
     },
     "metadata": {},
     "output_type": "display_data"
    }
   ],
   "source": [
    "# Dépendances\n",
    "from ipycanvas import Canvas\n",
    "\n",
    "# Définitions\n",
    "\n",
    "# Création du canvas de la scène\n",
    "s = Canvas(width=600, height=400)\n",
    "\n",
    "# Une fonction pour effacer la scène et redessiner un background\n",
    "def background(couleur : str = 'black') :\n",
    "    '''\n",
    "    Rafraichit la scène avec un fond de la couleur\n",
    "    'couleur' passée en paramètre et fixée sur `black` par défaut\n",
    "    Préconditions :\n",
    "    - couleur (str) : une chaine de caractères définissant une couleur HTML valide\n",
    "    '''    \n",
    "    s.fill_style = couleur\n",
    "    s.fill_rect(0, 0, s.width, s.height)  \n",
    "\n",
    "# Tests\n",
    "if __name__ == '__main__':\n",
    "    display(s)\n",
    "    background()"
   ]
  },
  {
   "cell_type": "markdown",
   "metadata": {},
   "source": [
    "**_Au commencement, il n'y en avait qu'1..._**\n",
    "\n",
    "## Le flocon :\n",
    "\n",
    "- Dessiner un disque blanc situé au centre du canvas, libre à vous de fixer son diamètre...\n",
    "\n",
    "> Saisir l'instruction `help(s.fill_circle)` pour obtenir de l'aide et voir aussi la [documentation d'ipycanvas](https://ipycanvas.readthedocs.io/en/latest/styles_and_colors.html)..."
   ]
  },
  {
   "cell_type": "code",
   "execution_count": 9,
   "metadata": {},
   "outputs": [
    {
     "name": "stdout",
     "output_type": "stream",
     "text": [
      "Help on method fill_circle in module ipycanvas.canvas:\n",
      "\n",
      "fill_circle(x, y, radius) method of ipycanvas.canvas.Canvas instance\n",
      "    Draw a filled circle centered at ``(x, y)`` with a radius of ``radius``.\n",
      "\n"
     ]
    }
   ],
   "source": [
    "help(s.fill_circle)"
   ]
  },
  {
   "cell_type": "code",
   "execution_count": 10,
   "metadata": {},
   "outputs": [],
   "source": [
    "from math import pi, sin, cos"
   ]
  },
  {
   "cell_type": "code",
   "execution_count": 11,
   "metadata": {},
   "outputs": [],
   "source": [
    "# Dessine un disque blanc au milieu de la scène\n",
    "s.fill_style = 'white'\n",
    "s.fill_circle(300, 200, 20)"
   ]
  },
  {
   "cell_type": "code",
   "execution_count": 12,
   "metadata": {},
   "outputs": [
    {
     "data": {
      "application/vnd.jupyter.widget-view+json": {
       "model_id": "af19b42bf9914a679b49cba9a57010db",
       "version_major": 2,
       "version_minor": 0
      },
      "text/plain": [
       "Canvas(height=400, width=600)"
      ]
     },
     "metadata": {},
     "output_type": "display_data"
    }
   ],
   "source": [
    "s"
   ]
  },
  {
   "cell_type": "markdown",
   "metadata": {},
   "source": [
    "> Le titre de cette partie c'est \"Le flocon\" or ce disque blanc ressemble plus à la balle d'un jeux de Pong qu'à un vrai flocon, non ?\n",
    "> \n",
    "> Pour produire une image de flocon plus réaliste, on peut superposer des disques de diamètre de plus en plus petit et de couleur `snow` (#FFFAFA, rgb(255, 250, 250)) avec de la [transparence](https://www.alsacreations.com/tuto/lire/909-CSS-transparence-couleur-rgba.html) pour donner un effet de flou au flocon.\n",
    "\n",
    "\n",
    "- Définir une fonction flocon telle que décrite par sa docstring et l'appeler plusieurs fois pour qu'enfin il ne soit plus le seul... :"
   ]
  },
  {
   "cell_type": "code",
   "execution_count": 13,
   "metadata": {},
   "outputs": [],
   "source": [
    "# Une fonction pour produire le dessin d'un flocon plus réaliste\n",
    "def flocon(x : float, y : float, diametre : float, taux : float = 50 ) :\n",
    "    '''\n",
    "    Dessine un flocon avec un effet de flou en superposant\n",
    "    des disques de diamètre de plus en plus petit\n",
    "    centrés sur le point de coordonnées '(x, y)'\n",
    "    inscrits dans un cercle de diametre extérieur 'diametre'\n",
    "    et avec 'taux' le niveau de transparence\n",
    "    en pourcentage de 0 à 100% et réglé par défaut sur 50%\n",
    "    '''\n",
    "    s.fill_style = f\"rgba(255, 250, 250, {taux/100})\"\n",
    "    \n",
    "    for i in range(4) :\n",
    "        s.fill_circle(x, y, diametre)\n",
    "        diametre = diametre/1.5\n",
    "    \n",
    "    \n",
    "    "
   ]
  },
  {
   "cell_type": "code",
   "execution_count": 14,
   "metadata": {},
   "outputs": [
    {
     "data": {
      "application/vnd.jupyter.widget-view+json": {
       "model_id": "af19b42bf9914a679b49cba9a57010db",
       "version_major": 2,
       "version_minor": 0
      },
      "text/plain": [
       "Canvas(height=400, width=600)"
      ]
     },
     "metadata": {},
     "output_type": "display_data"
    }
   ],
   "source": [
    "# Test pour la fonction flocon()\n",
    "display(s)\n",
    "background()\n",
    "flocon(100, 100, 20)"
   ]
  },
  {
   "cell_type": "markdown",
   "metadata": {},
   "source": [
    "> Est-ce que trois disques sont suffisants pour obtenir l'effet de flou escompté ou en faut-il davantage ?\n",
    "\n",
    "- Revoir si besoin la définition de votre fonction pour qu'elle permette très facilement de tester le nombre de disques nécessaires, leur diamètre, le niveau de transparence,...\n",
    "\n",
    "- Saisir l'instruction `help(s.fill_circles)` pour obtenir de l'aide sur cette méthode et envisager de l'utiliser dans une nouvelle définition candidate pour la fonction `flocon()` (voir aussi la [documentation d'ipycanvas](https://ipycanvas.readthedocs.io/en/latest/drawing_shapes.html))...\n",
    "\n",
    "- Mettre à jour à ce stade du développement le code validé par les tests pour afficher un flocon sur un fond noir de la scène"
   ]
  },
  {
   "cell_type": "code",
   "execution_count": 15,
   "metadata": {},
   "outputs": [
    {
     "name": "stdout",
     "output_type": "stream",
     "text": [
      "Help on method fill_circles in module ipycanvas.canvas:\n",
      "\n",
      "fill_circles(x, y, radius) method of ipycanvas.canvas.Canvas instance\n",
      "    Draw filled circles centered at ``(x, y)`` with a radius of ``radius``.\n",
      "    \n",
      "    Where ``x``, ``y``, ``radius`` and other arguments are NumPy arrays, lists or scalar values.\n",
      "\n"
     ]
    }
   ],
   "source": [
    "help(s.fill_circles)"
   ]
  },
  {
   "cell_type": "code",
   "execution_count": 16,
   "metadata": {},
   "outputs": [
    {
     "data": {
      "application/vnd.jupyter.widget-view+json": {
       "model_id": "505ae181486d4d8ea702f6e28cae3b85",
       "version_major": 2,
       "version_minor": 0
      },
      "text/plain": [
       "Canvas(height=400, width=600)"
      ]
     },
     "metadata": {},
     "output_type": "display_data"
    }
   ],
   "source": [
    "# Dépendances\n",
    "from ipycanvas import Canvas\n",
    "from math import pi\n",
    "\n",
    "# Définitions\n",
    "\n",
    "# Création du canvas de la scène\n",
    "s = Canvas(width=600, height=400)\n",
    "\n",
    "# Une fonction pour effacer la scène et redessiner un background\n",
    "def background(couleur : str = 'black') :\n",
    "    '''\n",
    "    Rafraichit la scène avec un fond de la couleur\n",
    "    'couleur' passée en paramètre et fixée sur `black` par défaut\n",
    "    Préconditions :\n",
    "    - couleur (str) : une chaine de caractères définissant une couleur HTML valide\n",
    "    '''    \n",
    "    s.fill_style = couleur\n",
    "    s.fill_rect(0, 0, s.width, s.height)  \n",
    "    \n",
    "\n",
    "# Une fonction pour produire le dessin d'un flocon plus réaliste\n",
    "def flocon(x : float, y : float, diametre : float, taux : float = 50) :\n",
    "    '''\n",
    "    Dessine un flocon avec un effet de flou en superposant\n",
    "    des disques de diamètre de plus en plus petit\n",
    "    centré sur le point de coordonnées '(x, y)'\n",
    "    inscrit dans un cercle de diametre extérieur 'diametre'\n",
    "    et avec 'taux' le niveau de transparence\n",
    "    en pourcentage de 0 à 100% et réglé par défaut sur 50%\n",
    "    '''\n",
    "    s.fill_style = f\"rgba(255, 250, 250, {taux/100})\"\n",
    "    \n",
    "    for i in range(4) :\n",
    "        s.fill_circle(x, y, diametre)\n",
    "        diametre = diametre/1.5\n",
    "    \n",
    "# Tests\n",
    "if __name__ == '__main__':\n",
    "    display(s)\n",
    "    background()\n",
    "    flocon(100, 100, 20)"
   ]
  },
  {
   "cell_type": "markdown",
   "metadata": {},
   "source": [
    "## Des boucles pour répéter le flocon et l'animer"
   ]
  },
  {
   "cell_type": "code",
   "execution_count": 17,
   "metadata": {},
   "outputs": [
    {
     "data": {
      "application/vnd.jupyter.widget-view+json": {
       "model_id": "505ae181486d4d8ea702f6e28cae3b85",
       "version_major": 2,
       "version_minor": 0
      },
      "text/plain": [
       "Canvas(height=400, width=600)"
      ]
     },
     "metadata": {},
     "output_type": "display_data"
    }
   ],
   "source": [
    "# Autre test avec une boucle\n",
    "display(s)\n",
    "background()\n",
    "for t in range(0, s.height, 10*2) :\n",
    "    flocon(200, t, 10)"
   ]
  },
  {
   "cell_type": "markdown",
   "metadata": {},
   "source": [
    "> On observe que les flocons s'affichent progressivement car les instructions sont transmises et interprétées au fur et à mesure l'une après l'autre. Au delà de 1000 commandes/seconde, il y a un risque de saturation... Pour éviter cela, on peut ajouter un appel à la méthode `hold_canvas(s)` pour n'envoyer le message des intructions à traiter qu'à la fin du script afin d'afficher seulement le résultat final et ainsi optimiser l'affichage.\n",
    "\n",
    "- Observer la différence produite par `hold_canvas(s)` dans la cellule suivante"
   ]
  },
  {
   "cell_type": "code",
   "execution_count": 18,
   "metadata": {},
   "outputs": [
    {
     "data": {
      "application/vnd.jupyter.widget-view+json": {
       "model_id": "505ae181486d4d8ea702f6e28cae3b85",
       "version_major": 2,
       "version_minor": 0
      },
      "text/plain": [
       "Canvas(height=400, width=600)"
      ]
     },
     "metadata": {},
     "output_type": "display_data"
    }
   ],
   "source": [
    "from ipycanvas import Canvas, hold_canvas\n",
    "\n",
    "# Autre test avec une boucle avec hold_canvas()\n",
    "display(s)\n",
    "background()\n",
    "\n",
    "for t in range(0, s.height, 10*2) :\n",
    "    with hold_canvas(s) :\n",
    "        flocon(200, t, 10)"
   ]
  },
  {
   "cell_type": "markdown",
   "metadata": {},
   "source": [
    "- on peut ajouter une petite pause dans la boucle du test précédent avec la méthode `sleep()` du module `time` pour obtenir un affichage progressif au cours du temps"
   ]
  },
  {
   "cell_type": "code",
   "execution_count": 19,
   "metadata": {},
   "outputs": [
    {
     "name": "stdout",
     "output_type": "stream",
     "text": [
      "Help on built-in function sleep in module time:\n",
      "\n",
      "sleep(...)\n",
      "    sleep(seconds)\n",
      "    \n",
      "    Delay execution for a given number of seconds.  The argument may be\n",
      "    a floating point number for subsecond precision.\n",
      "\n"
     ]
    }
   ],
   "source": [
    "from time import sleep\n",
    "help(sleep)"
   ]
  },
  {
   "cell_type": "code",
   "execution_count": 20,
   "metadata": {},
   "outputs": [
    {
     "data": {
      "application/vnd.jupyter.widget-view+json": {
       "model_id": "505ae181486d4d8ea702f6e28cae3b85",
       "version_major": 2,
       "version_minor": 0
      },
      "text/plain": [
       "Canvas(height=400, width=600)"
      ]
     },
     "metadata": {},
     "output_type": "display_data"
    }
   ],
   "source": [
    "# Autre test avec une boucle, sleep() et hold_canvas()\n",
    "from time import sleep\n",
    "display(s)\n",
    "background()\n",
    "for t in range(0, s.height, 10*2) :\n",
    "    with hold_canvas(s) :\n",
    "        flocon(200, t, 10)\n",
    "    sleep(0.2)"
   ]
  },
  {
   "cell_type": "markdown",
   "metadata": {},
   "source": [
    "- déplacer alors l'appel à la fonction `background()` pour le mettre dans la boucle ;\n",
    "- tester différentes positions possibles dans le code pour l'appel à la fonction `background()`\n",
    "- observer puis décrire l'effet produit dans chaque cas :\n",
    "\n",
    "\n",
    "    - test 1 : le flocon disparait un à un en se déplaçant.\n",
    "    \n",
    "    \n",
    "    - test 2 : idem.\n",
    "    \n",
    "    \n",
    "    - test 3 : aucun flocon.\n",
    "    \n",
    "    \n",
    "    - test 4 : le flocon disparait un à un en se déplaçant.\n",
    "    \n",
    "    "
   ]
  },
  {
   "cell_type": "code",
   "execution_count": 24,
   "metadata": {},
   "outputs": [
    {
     "data": {
      "application/vnd.jupyter.widget-view+json": {
       "model_id": "505ae181486d4d8ea702f6e28cae3b85",
       "version_major": 2,
       "version_minor": 0
      },
      "text/plain": [
       "Canvas(height=400, width=600)"
      ]
     },
     "metadata": {},
     "output_type": "display_data"
    }
   ],
   "source": [
    "# test 1\n",
    "from time import sleep\n",
    "display(s)\n",
    "for t in range(0, s.height, 10*2) :\n",
    "    with hold_canvas(s) :\n",
    "        background()\n",
    "        flocon(200, t, 10)\n",
    "    sleep(0.2)"
   ]
  },
  {
   "cell_type": "code",
   "execution_count": 22,
   "metadata": {},
   "outputs": [
    {
     "data": {
      "application/vnd.jupyter.widget-view+json": {
       "model_id": "505ae181486d4d8ea702f6e28cae3b85",
       "version_major": 2,
       "version_minor": 0
      },
      "text/plain": [
       "Canvas(height=400, width=600)"
      ]
     },
     "metadata": {},
     "output_type": "display_data"
    }
   ],
   "source": [
    "# test 2\n",
    "from time import sleep\n",
    "display(s)\n",
    "for t in range(0, s.height, 10*2) :\n",
    "    background()\n",
    "    with hold_canvas(s) :\n",
    "        flocon(200, t, 10)\n",
    "    sleep(0.2)"
   ]
  },
  {
   "cell_type": "code",
   "execution_count": 23,
   "metadata": {},
   "outputs": [
    {
     "data": {
      "application/vnd.jupyter.widget-view+json": {
       "model_id": "505ae181486d4d8ea702f6e28cae3b85",
       "version_major": 2,
       "version_minor": 0
      },
      "text/plain": [
       "Canvas(height=400, width=600)"
      ]
     },
     "metadata": {},
     "output_type": "display_data"
    }
   ],
   "source": [
    "# test 3\n",
    "from time import sleep\n",
    "display(s)\n",
    "for t in range(0, s.height, 10*2) :\n",
    "    with hold_canvas(s) :\n",
    "        flocon(200, t, 10)\n",
    "        background()\n",
    "    sleep(0.2)"
   ]
  },
  {
   "cell_type": "code",
   "execution_count": 25,
   "metadata": {},
   "outputs": [
    {
     "data": {
      "application/vnd.jupyter.widget-view+json": {
       "model_id": "505ae181486d4d8ea702f6e28cae3b85",
       "version_major": 2,
       "version_minor": 0
      },
      "text/plain": [
       "Canvas(height=400, width=600)"
      ]
     },
     "metadata": {},
     "output_type": "display_data"
    }
   ],
   "source": [
    "# test 4\n",
    "from time import sleep\n",
    "display(s)\n",
    "for t in range(0, s.height, 10*2) :\n",
    "    with hold_canvas(s) :\n",
    "        flocon(200, t, 10)\n",
    "    sleep(0.2)\n",
    "    background()"
   ]
  },
  {
   "cell_type": "markdown",
   "metadata": {},
   "source": [
    "**_Whaou ! Maintenant, il bouge !_**\n",
    "\n",
    "*Serait-il vivant ?*\n",
    "\n",
    "*Ou reproduit-il un phénomène expliqué par Newton ?*\n",
    "\n",
    "**_Il tombe, non, que dis-je, il chute !_** \n",
    "\n",
    "*Dans ce cas, cette simulation est-elle fidèle ?*\n",
    "\n",
    "*Quel est le rôle joué par la persistance rétinienne ici ? Elle fait disparaitre le flocon pour le rétablir plus bas : c'est une impression de gravité.*"
   ]
  },
  {
   "cell_type": "markdown",
   "metadata": {},
   "source": [
    "> Faire les appels aux fonctions `background()` et `flocon()` dans un `hold_canvas(s)` fluidifie la chute de notre flocon.\n",
    "\n",
    "- Mettre à jour à ce stade du développement le code validé par les tests pour produire une animation simulant la chute d'un flocon"
   ]
  },
  {
   "cell_type": "code",
   "execution_count": 26,
   "metadata": {},
   "outputs": [
    {
     "data": {
      "application/vnd.jupyter.widget-view+json": {
       "model_id": "14edab9064c84f1394c536d084ca3b9f",
       "version_major": 2,
       "version_minor": 0
      },
      "text/plain": [
       "Canvas(height=400, width=600)"
      ]
     },
     "metadata": {},
     "output_type": "display_data"
    }
   ],
   "source": [
    "# Dépendances\n",
    "from ipycanvas import Canvas, hold_canvas\n",
    "from math import pi\n",
    "from time import sleep\n",
    "\n",
    "\n",
    "# Définitions\n",
    "\n",
    "# Création d'un canvas pour la scène\n",
    "s = Canvas(width=600, height=400)\n",
    "\n",
    "# Une fonction pour effacer la scène et redessiner un background\n",
    "def background(couleur : str = 'black') :\n",
    "    '''\n",
    "    Rafraichit la scène avec un fond de la couleur\n",
    "    'couleur' passée en paramètre et fixée sur `black` par défaut\n",
    "    Préconditions :\n",
    "    - couleur (str) : une chaine de caractères définissant une couleur HTML valide\n",
    "    '''    \n",
    "    s.fill_style = couleur\n",
    "    s.fill_rect(0, 0, s.width, s.height)\n",
    "    \n",
    "# Une fonction pour produire le dessin d'un flocon plus réaliste\n",
    "def flocon(x : float, y : float, diametre : float, taux : float = 50) :\n",
    "    '''\n",
    "    Dessine un flocon avec un effet de flou en superposant\n",
    "    des disques de diamètre de plus en plus petit\n",
    "    centré sur le point de coordonnées '(x, y)'\n",
    "    inscrit dans un cercle de diametre extérieur 'diametre'\n",
    "    et avec 'taux' le niveau de transparence\n",
    "    en pourcentage de 0 à 100% et réglé par défaut sur 50%\n",
    "    '''\n",
    "    s.fill_style = f\"rgba(255, 250, 250, {taux/100})\"\n",
    "    \n",
    "    for i in range(4) :\n",
    "        s.fill_circle(x, y, diametre)\n",
    "        diametre = diametre/1.5\n",
    "    \n",
    "# Tests\n",
    "if __name__ == '__main__':\n",
    "    display(s)\n",
    "    for t in range(0, s.height, 4) :    \n",
    "        with hold_canvas(s) :\n",
    "            background()\n",
    "            flocon(200, t, 10)        \n",
    "        sleep(0.05)"
   ]
  },
  {
   "cell_type": "markdown",
   "metadata": {},
   "source": [
    "- Reproduire la chute du flocon en utilisant une boucle while"
   ]
  },
  {
   "cell_type": "code",
   "execution_count": 31,
   "metadata": {},
   "outputs": [
    {
     "data": {
      "application/vnd.jupyter.widget-view+json": {
       "model_id": "14edab9064c84f1394c536d084ca3b9f",
       "version_major": 2,
       "version_minor": 0
      },
      "text/plain": [
       "Canvas(height=400, width=600)"
      ]
     },
     "metadata": {},
     "output_type": "display_data"
    }
   ],
   "source": [
    "# Tests\n",
    "if __name__ == '__main__':\n",
    "    display(s)\n",
    "    y = s.height\n",
    "\n",
    "    while y == True :\n",
    "        # à compléter\n",
    "        \n",
    "        with hold_canvas(s) :\n",
    "            background()\n",
    "            flocon(200, y, 10)        \n",
    "        sleep(0.05)        "
   ]
  },
  {
   "cell_type": "markdown",
   "metadata": {},
   "source": [
    "- Faire en sorte que lorsqu'il atteint le bas de la scène sa chute recommence du haut comme s'il s'agissait d'un nouveau flocon."
   ]
  },
  {
   "cell_type": "code",
   "execution_count": null,
   "metadata": {},
   "outputs": [],
   "source": [
    "# Tests\n",
    "if __name__ == '__main__':\n",
    "    display(s)\n",
    "    # A compléter...\n",
    "    \n",
    "    while ... : \n",
    "        # A compléter...\n",
    "        \n",
    "        with hold_canvas(s) :\n",
    "            background()\n",
    "            flocon(200, y, 10)        \n",
    "        sleep(0.05)\n",
    "        \n",
    "        if ... :\n",
    "            # A compléter...\n",
    "                    "
   ]
  },
  {
   "cell_type": "markdown",
   "metadata": {},
   "source": [
    "- Faire en sorte que la chute du flocon démarre à une abscisse aléatoire de la scène "
   ]
  },
  {
   "cell_type": "code",
   "execution_count": null,
   "metadata": {},
   "outputs": [],
   "source": [
    "# Tests\n",
    "if __name__ == '__main__':\n",
    "    display(s)\n",
    "    # A compléter...\n",
    "    \n",
    "    \n",
    "    \n",
    "    while ... : \n",
    "        # A compléter...\n",
    "        \n",
    "        with hold_canvas(s) :\n",
    "            background()\n",
    "            flocon(x, y, 10)        \n",
    "        sleep(0.05)\n",
    "        if ... :\n",
    "            # A compléter...\n",
    "        \n",
    "        "
   ]
  },
  {
   "cell_type": "markdown",
   "metadata": {},
   "source": [
    "- Mettre à jour à ce stade du développement le code validé par les tests pour produire une animation simulant la chute perpétuelle d'un flocon à une abscisse aléatoire"
   ]
  },
  {
   "cell_type": "code",
   "execution_count": null,
   "metadata": {},
   "outputs": [],
   "source": [
    "# Dépendances\n",
    "from ipycanvas import Canvas, hold_canvas\n",
    "from math import pi\n",
    "from time import sleep\n",
    "from random import randint\n",
    "\n",
    "# Définitions\n",
    "\n",
    "# Création d'un canvas pour la scène\n",
    "s = Canvas(width=600, height=400)\n",
    "\n",
    "# Une fonction pour effacer la scène et redessiner un background\n",
    "def background(couleur : str = 'black') :\n",
    "    '''\n",
    "    Rafraichit la scène avec un fond de la couleur\n",
    "    'couleur' passée en paramètre et fixée sur `black` par défaut\n",
    "    Préconditions :\n",
    "    - couleur (str) : une chaine de caractères définissant une couleur HTML valide\n",
    "    '''    \n",
    "    s.fill_style = couleur\n",
    "    s.fill_rect(0, 0, s.width, s.height)\n",
    "        \n",
    "        \n",
    "        \n",
    "# Une fonction pour produire le dessin d'un flocon plus réaliste\n",
    "def flocon(x : float, y : float, diametre : float, taux : float = 50) :\n",
    "    '''\n",
    "    Dessine un flocon avec un effet de flou en superposant\n",
    "    des disques de diamètre de plus en plus petit\n",
    "    centré sur le point de coordonnées '(x, y)'\n",
    "    inscrit dans un cercle de diametre extérieur 'diametre'\n",
    "    et avec 'taux' le niveau de transparence\n",
    "    en pourcentage de 0 à 100% et réglé par défaut sur 50%\n",
    "    '''\n",
    "    s.fill_style = f\"rgba(255, 250, 250, {taux/100})\"\n",
    "    \n",
    "    for i in range(4) :\n",
    "        s.fill_circle(x, y, diametre)\n",
    "        diametre = diametre/1.5\n",
    "        \n",
    "        \n",
    "        \n",
    "# Tests\n",
    "if __name__ == '__main__':\n",
    "    display(s)\n",
    "    # A compléter...\n",
    "        \n",
    "        \n",
    "    while True :\n",
    "        # A compléter...\n",
    "        \n",
    "        with hold_canvas(s) :\n",
    "            background()\n",
    "            flocon(x, y, 10)        \n",
    "        sleep(0.05)\n",
    "        if ... :\n",
    "            # A compléter...\n",
    "        \n",
    "        "
   ]
  },
  {
   "cell_type": "markdown",
   "metadata": {},
   "source": [
    "**_Et maintenant, ils sont légion..._**"
   ]
  },
  {
   "cell_type": "markdown",
   "metadata": {},
   "source": [
    "## Un tableau de flocons\n",
    "\n",
    "- remplir par compréhension une liste de 150 abscisses et une autre de 150 ordonnées définient aléatoirement et afficher un flocon à chacun de ces points sur une image fixe\n",
    "\n",
    "\n",
    "> **Rappel**, une instruction par compréhension se construit de la façon suivante :\n",
    ">```python\n",
    "[fonction for i in sequence condition]\n",
    "```"
   ]
  },
  {
   "cell_type": "code",
   "execution_count": null,
   "metadata": {},
   "outputs": [],
   "source": [
    "# Dépendances\n",
    "from random import randint"
   ]
  },
  {
   "cell_type": "code",
   "execution_count": null,
   "metadata": {},
   "outputs": [],
   "source": [
    "# Définitions\n",
    "abscisses = [# A compléter...        ]\n",
    "ordonnees = [# A compléter...        ]"
   ]
  },
  {
   "cell_type": "code",
   "execution_count": null,
   "metadata": {},
   "outputs": [],
   "source": [
    "# Tests\n",
    "abscisses, ordonnees"
   ]
  },
  {
   "cell_type": "code",
   "execution_count": null,
   "metadata": {},
   "outputs": [],
   "source": [
    "# Tests pour un tableau figé de flocons\n",
    "display(s)\n",
    "background()\n",
    "for n in range(len(abscisses)) :\n",
    "    flocon(abscisses[n], ordonnees[n], 10)"
   ]
  },
  {
   "cell_type": "markdown",
   "metadata": {},
   "source": [
    "- définir une liste `diametres` pour défininir aléatoirement des diamètres de flocons différents et rendre ainsi un effet de profondeur avec la technique de la perspective  "
   ]
  },
  {
   "cell_type": "code",
   "execution_count": null,
   "metadata": {},
   "outputs": [],
   "source": [
    "diametres = [# A compléter...       ]"
   ]
  },
  {
   "cell_type": "code",
   "execution_count": null,
   "metadata": {},
   "outputs": [],
   "source": [
    "# Tests pour un tableau figé de flocons avec de la profondeur\n",
    "display(s)\n",
    "background()\n",
    "for n in range(len(abscisses)) :\n",
    "    flocon(abscisses[n], ordonnees[n], diametres[n])"
   ]
  },
  {
   "cell_type": "markdown",
   "metadata": {},
   "source": [
    "- Définir une fonction `initialisation(nb_flocons)` qui prend en paramètre le nombre de flocons présents sur la scène et qui renvoie un tableau constitué des listes d'abcisses, d'ordonnées et de diamètres aléatoires de chaque flocon."
   ]
  },
  {
   "cell_type": "code",
   "execution_count": null,
   "metadata": {},
   "outputs": [],
   "source": [
    "# Dépendances\n",
    "from random import randint"
   ]
  },
  {
   "cell_type": "code",
   "execution_count": null,
   "metadata": {},
   "outputs": [],
   "source": [
    "# Définitions\n",
    "\n",
    "# Une fonction pour générer un tableau de flocons\n",
    "def initialisation(nb_flocons : int) -> list :\n",
    "    '''\n",
    "    Prend en paramètre le nombre de flocons à placer sur la scène\n",
    "    et renvoie un tableau constitué des listes d'abcisses,\n",
    "    d'ordonnées et de tailles aléatoires de chaque flocon.\n",
    "    '''\n",
    "    # A compléter...       \n",
    "    \n",
    "    \n",
    "    \n",
    "    return # A compléter...       "
   ]
  },
  {
   "cell_type": "code",
   "execution_count": null,
   "metadata": {},
   "outputs": [],
   "source": [
    "# Tests pour l'affichage d'une matrice initiale de flocons avec de la perspective\n",
    "display(s)\n",
    "background()\n",
    "matrice = initialisation(50)\n",
    "for n in range(len(matrice[0])) :\n",
    "    flocon(matrice[0][n], matrice[1][n], matrice[2][n])"
   ]
  },
  {
   "cell_type": "markdown",
   "metadata": {},
   "source": [
    "> Tester pour mesurer à partir de combien de flocons il devient indispensable d'utiliser un `hold_canvas()` pour éviter d'atteindre la limite des `NotebookApp.iopub_msg_rate_limit=1000.0 (msgs/sec)`\n",
    "\n",
    "- Mettre à jour à ce stade du développement le code validé par les tests pour produire une image instantannée montrant une répartition aléatoire d'un nombre réglable de flocons sur la scène avec un effet de profondeur de champs"
   ]
  },
  {
   "cell_type": "code",
   "execution_count": null,
   "metadata": {},
   "outputs": [],
   "source": [
    "# Dépendances\n",
    "from ipycanvas import Canvas, hold_canvas\n",
    "from math import pi\n",
    "from time import sleep\n",
    "from random import randint\n",
    "\n",
    "# Définitions\n",
    "\n",
    "# Création d'un canvas pour la scène\n",
    "s = Canvas(width=600, height=400)\n",
    "\n",
    "# Une fonction pour effacer la scène et redessiner un background\n",
    "def background(couleur : str = 'black') :\n",
    "    '''\n",
    "    Rafraichit la scène avec un fond de la couleur\n",
    "    'couleur' passée en paramètre et fixée sur `black` par défaut\n",
    "    Préconditions :\n",
    "    - couleur (str) : une chaine de caractères définissant une couleur HTML valide\n",
    "    '''    \n",
    "    s.fill_style = couleur\n",
    "    s.fill_rect(0, 0, s.width, s.height)       \n",
    "    \n",
    "    \n",
    "    \n",
    "\n",
    "# Une fonction pour produire le dessin d'un flocon plus réaliste\n",
    "def flocon(x : float, y : float, diametre : float, taux : float = 50) :\n",
    "    '''\n",
    "    Dessine un flocon avec un effet de flou en superposant\n",
    "    des disques de diamètre de plus en plus petit\n",
    "    centré sur le point de coordonnées '(x, y)'\n",
    "    inscrit dans un cercle de diametre extérieur 'diametre'\n",
    "    et avec 'taux' le niveau de transparence\n",
    "    en pourcentage de 0 à 100% et réglé par défaut sur 50%\n",
    "    '''\n",
    "    s.fill_style = f\"rgba(255, 250, 250, {taux/100})\"\n",
    "    \n",
    "    for i in range(4) :\n",
    "        s.fill_circle(x, y, diametre)\n",
    "        diametre = diametre/1.5       \n",
    "    \n",
    "    \n",
    "\n",
    "        \n",
    "# Une fonction pour générer un tableau de flocons\n",
    "def initialisation(nb_flocons : int) -> list :\n",
    "    '''\n",
    "    Prend en paramètre le nombre de flocons à placer sur la scène\n",
    "    et renvoie un tableau constitué des listes d'abcisses,\n",
    "    d'ordonnées et de diametres aléatoires de chaque flocon.\n",
    "    '''\n",
    "    # A compléter...       \n",
    "    \n",
    "    \n",
    "    \n",
    "    return # A compléter...       \n",
    "\n",
    "\n",
    "# Tests pour l'affichage d'une matrice initiale de flocons avec de la perspective\n",
    "display(s)\n",
    "with hold_canvas(s) :\n",
    "    background()\n",
    "    matrice = initialisation(150)\n",
    "    for n in range(len(matrice[0])) :\n",
    "        flocon(matrice[0][n], matrice[1][n], matrice[2][n])"
   ]
  },
  {
   "cell_type": "markdown",
   "metadata": {},
   "source": [
    "- mettre tout cela en mouvement de chute perpétuelle"
   ]
  },
  {
   "cell_type": "code",
   "execution_count": null,
   "metadata": {},
   "outputs": [],
   "source": [
    "# Tests pour un mouvement de chute perpétuelle de la matrice de flocons\n",
    "\n",
    "display(s)\n",
    "matrice = initialisation(150)    \n",
    "while True :\n",
    "    with hold_canvas(s) :\n",
    "        background()\n",
    "        for i in range(len(matrice[0])) :\n",
    "            matrice[1][i] += 4\n",
    "                 \n",
    "            flocon(matrice[0][i], matrice[1][i], matrice[2][i])        \n",
    "\n",
    "            if matrice[1][i] >= s.height :\n",
    "                matrice[1][i] = 0\n",
    "                matrice[0][i] = randint(0, s.width)\n",
    "    sleep(0.02)"
   ]
  },
  {
   "cell_type": "markdown",
   "metadata": {},
   "source": [
    "- Définir une fonction `chute(tableau, time_lapse)` qui prend en paramètre le tableau de répartition sur la scène des flocons en position et en diamètre et qui simule une chute de neige avec un laps de temps `time_lapse` réglable entre l'affichage de deux images successives..."
   ]
  },
  {
   "cell_type": "code",
   "execution_count": null,
   "metadata": {},
   "outputs": [],
   "source": [
    "# Définition\n",
    "def chute(tableau : list, time_lapse : float) :\n",
    "    '''\n",
    "    Simule une chute de neige avec un laps de temps `time_lapse` réglable entre l'affichage de deux images successives\n",
    "    avec en paramètre le tableau de répartition sur la scène des flocons en position (x, y) et en diamètre\n",
    "    '''\n",
    "    # A compléter...\n",
    "    \n",
    "    \n",
    "    \n",
    "    \n",
    "    \n"
   ]
  },
  {
   "cell_type": "code",
   "execution_count": null,
   "metadata": {},
   "outputs": [],
   "source": [
    "# Test chute de neige\n",
    "display(s)\n",
    "matrice = initialisation(150)    \n",
    "chute(matrice, 0.005)"
   ]
  },
  {
   "cell_type": "markdown",
   "metadata": {},
   "source": [
    "Améliorations à prévoir :\n",
    "- Faire en sorte que le diamètre d'un flocon soit rédéfini aléatoirement à chaque relance de sa chute à partir du haut de la scène ; \n",
    "- Faire en sorte que tous les flocons n'aient pas la même vitesse de chute, par exemple, lier le pas d'incrémentation sur l'ordonnée d'un flocon au cours de sa chute à la moitié du diamètre du flocon ;\n",
    "- Ajouter une oscillation aléatoire en abscisse sur un intervale d'un pixel ;\n",
    "- ...\n",
    "\n",
    "\n",
    "- Mettre alors à jour à ce stade du développement le code validé par les tests pour produire une animation simulant une chute de neige la plus réaliste possible..."
   ]
  },
  {
   "cell_type": "code",
   "execution_count": null,
   "metadata": {},
   "outputs": [],
   "source": [
    "# Dépendances\n",
    "from ipycanvas import Canvas, hold_canvas\n",
    "from math import pi\n",
    "from time import sleep\n",
    "from random import randint\n",
    "\n",
    "# Définitions\n",
    "\n",
    "# Création d'un canvas pour la scène\n",
    "s = ...\n",
    "\n",
    "# Une fonction pour effacer la scène et redessiner un background\n",
    "def background(couleur : str = 'black') :\n",
    "    '''\n",
    "    Rafraichit la scène avec un fond de la couleur\n",
    "    'couleur' passée en paramètre et fixée sur `black` par défaut\n",
    "    Préconditions :\n",
    "    - couleur (str) : une chaine de caractères définissant une couleur HTML valide\n",
    "    '''    \n",
    "    # A compléter...\n",
    "    \n",
    "    \n",
    "    \n",
    "\n",
    "# Une fonction pour produire le dessin d'un flocon plus réaliste\n",
    "def flocon(x : float, y : float, diametre : float, taux : float = 50) :\n",
    "    '''\n",
    "    Dessine un flocon avec un effet de flou en superposant\n",
    "    des disques de diamètre de plus en plus petit\n",
    "    centrés sur le point de coordonnées '(x, y)'\n",
    "    inscrit dans un cercle de diametre extérieur 'diametre'\n",
    "    et avec 'taux' le niveau de transparence\n",
    "    en pourcentage de 0 à 100% et réglé par défaut sur 50%\n",
    "    '''\n",
    "    # A compléter...\n",
    "    \n",
    "    \n",
    "      \n",
    "\n",
    "        \n",
    "# Une fonction pour générer un tableau de flocons\n",
    "def initialisation(nb_flocons : int) -> list :\n",
    "    '''\n",
    "    Prend en paramètre le nombre de flocons à placer sur la scène\n",
    "    et renvoie un tableau constitué des listes d'abcisses,\n",
    "    d'ordonnées et de diametres aléatoires de chaque flocon.\n",
    "    '''\n",
    "    # A compléter...\n",
    "    \n",
    "    \n",
    "    \n",
    "\n",
    "# Une fonction pour simuler une chute de neige\n",
    "def chute(tableau : list, time_lapse : float) :\n",
    "    '''\n",
    "    Simule une chute de neige avec un laps de temps `time_lapse` réglable entre l'affichage de deux images successives\n",
    "    avec en paramètre le tableau de répartition sur la scène des flocons en position (x, y) et en diamètre\n",
    "    '''\n",
    "    # A compléter...\n",
    "    \n",
    "    \n",
    "    \n",
    "    \n",
    "    \n",
    "    \n",
    "    \n",
    "    \n",
    "    \n",
    "    \n",
    "\n",
    "# Tests pour l'affichage finale d'une chute de neige\n",
    "if __name__ == '__main__':\n",
    "    display(s)\n",
    "    matrice = initialisation(150)    \n",
    "    chute(matrice, 0.005)"
   ]
  },
  {
   "cell_type": "markdown",
   "metadata": {},
   "source": [
    "_**Une vrai armée de clones, ..., qui autorise quelques singularités...**_\n",
    "\n",
    "## L'usine à flocons en mode POO :\n",
    "\n",
    "- Créer une classe `Flocon` possédant les attributs `abscisse`, `ordonnee` et `diametre` ;\n",
    "- Ecrire une méthode `evolue()` pour définir le comportement d'un flocon dans sa chute ;\n",
    "- Ecrire une méthode `dessine()` pour afficher un flocon réaliste dans sa chute ;"
   ]
  },
  {
   "cell_type": "code",
   "execution_count": null,
   "metadata": {},
   "outputs": [],
   "source": [
    "# Dépendances\n",
    "from ipycanvas import Canvas, hold_canvas\n",
    "from math import pi\n",
    "from time import sleep\n",
    "from random import randint"
   ]
  },
  {
   "cell_type": "code",
   "execution_count": null,
   "metadata": {},
   "outputs": [],
   "source": [
    "# Définition d'une scène avec un fond noir\n",
    "\n",
    "# Création d'un canvas pour la scène\n",
    "s = ...\n",
    "\n",
    "# Une fonction pour effacer la scène et redessiner un background\n",
    "def background(couleur : str = 'black') :\n",
    "    '''\n",
    "    Rafraichit la scène avec un fond de la couleur\n",
    "    'couleur' passée en paramètre et fixée sur `black` par défaut\n",
    "    Préconditions :\n",
    "    - couleur (str) : une chaine de caractères définissant une couleur HTML valide\n",
    "    '''    \n",
    "    # A compléter...\n",
    "    \n",
    "    \n",
    "    "
   ]
  },
  {
   "cell_type": "code",
   "execution_count": null,
   "metadata": {},
   "outputs": [],
   "source": [
    "# Définition d'une classe Flocon\n",
    "\n",
    "class Flocon : # définition de la classe Flocon\n",
    "    \n",
    "    # Constructeur\n",
    "    def __init__(self) :\n",
    "        '''\n",
    "        Construit un flocon avec une abscisse,\n",
    "        une ordonnée et un diamètre définis aléatoirement\n",
    "        '''\n",
    "        # A compléter...\n",
    "    \n",
    "    \n",
    "    \n",
    "        \n",
    "    # Méthode pour modifier, faire évoluer\n",
    "    def evolue(self) : \n",
    "        '''\n",
    "        Modifie les valeurs des attributs du flocon\n",
    "        pour qu'il évolue en position et en diamètre\n",
    "        selon des règles définies pour sa chute\n",
    "        \n",
    "        '''\n",
    "        # A compléter...\n",
    "    \n",
    "    \n",
    "    \n",
    "    \n",
    "    \n",
    "        \n",
    "    # Méthode pour accéder    \n",
    "    def dessine(self, taux : float = 50) :\n",
    "        '''\n",
    "        Affiche un flocon avec un effet de flou en superposant\n",
    "        des disques de diamètre de plus en plus petit\n",
    "        centrés sur le point de coordonnées (x, y) et au diamètre\n",
    "        correspondants aux valeurs de ses attributs\n",
    "        et avec le niveau de transparence  'taux' en pourcentage de 0 à 100%\n",
    "        réglé par défaut sur 50%\n",
    "        '''\n",
    "        \n",
    "        \n",
    "        \n",
    "        \n",
    "        "
   ]
  },
  {
   "cell_type": "markdown",
   "metadata": {},
   "source": [
    "- Exécuter les cellules suivantes pour tester vos définitions :"
   ]
  },
  {
   "cell_type": "code",
   "execution_count": null,
   "metadata": {},
   "outputs": [],
   "source": [
    "# Test avec un flocon\n",
    "display(s)\n",
    "background()"
   ]
  },
  {
   "cell_type": "code",
   "execution_count": null,
   "metadata": {},
   "outputs": [],
   "source": [
    "# Création d'un objet flocon\n",
    "mon_flocon = Flocon()"
   ]
  },
  {
   "cell_type": "code",
   "execution_count": null,
   "metadata": {},
   "outputs": [],
   "source": [
    "mon_flocon.abscisse"
   ]
  },
  {
   "cell_type": "code",
   "execution_count": null,
   "metadata": {},
   "outputs": [],
   "source": [
    "mon_flocon.dessine()"
   ]
  },
  {
   "cell_type": "code",
   "execution_count": null,
   "metadata": {},
   "outputs": [],
   "source": [
    "# Création d'un autre objet flocon\n",
    "mon_autre_flocon = Flocon()"
   ]
  },
  {
   "cell_type": "code",
   "execution_count": null,
   "metadata": {},
   "outputs": [],
   "source": [
    "mon_autre_flocon.abscisse"
   ]
  },
  {
   "cell_type": "code",
   "execution_count": null,
   "metadata": {},
   "outputs": [],
   "source": [
    "mon_autre_flocon.dessine()"
   ]
  },
  {
   "cell_type": "code",
   "execution_count": null,
   "metadata": {},
   "outputs": [],
   "source": [
    "# Test avec un flocon\n",
    "display(s)\n",
    "while True :\n",
    "    with hold_canvas(s) :\n",
    "        background()\n",
    "        mon_flocon.evolue()\n",
    "        mon_flocon.dessine()\n",
    "    sleep(0.02)"
   ]
  },
  {
   "cell_type": "markdown",
   "metadata": {},
   "source": [
    "- Adapter le code de la cellule précédente pour tester avec plusieurs instances de `Flocon`"
   ]
  },
  {
   "cell_type": "code",
   "execution_count": null,
   "metadata": {},
   "outputs": [],
   "source": [
    "# Test avec plusieurs instances de Flocon\n",
    "display(s)\n",
    "while True :\n",
    "    with hold_canvas(s) :\n",
    "        background()\n",
    "        mon_flocon.evolue()\n",
    "        mon_flocon.dessine()\n",
    "        # A compléter...\n",
    "    \n",
    "    \n",
    "    \n",
    "       \n",
    "        \n",
    "        \n",
    "    sleep(0.02)"
   ]
  },
  {
   "cell_type": "markdown",
   "metadata": {},
   "source": [
    "## Production de flocons à la chaine :\n",
    "\n",
    "- Définir un tableau constitué de `nb_flocons` instances de `Flocons` "
   ]
  },
  {
   "cell_type": "code",
   "execution_count": null,
   "metadata": {},
   "outputs": [],
   "source": [
    "nb_flocons = ...\n",
    "mes_flocons = [# A compléter...     ]"
   ]
  },
  {
   "cell_type": "code",
   "execution_count": null,
   "metadata": {},
   "outputs": [],
   "source": [
    "# Test\n",
    "mes_flocons"
   ]
  },
  {
   "cell_type": "markdown",
   "metadata": {},
   "source": [
    "- Définir alors une nouvelle version pour la fonction `initialisation(nb_flocons)`"
   ]
  },
  {
   "cell_type": "code",
   "execution_count": null,
   "metadata": {},
   "outputs": [],
   "source": [
    "# Une fonction pour générer un tableau de flocons\n",
    "def initialisation(nb_flocons : int) -> list :\n",
    "    '''\n",
    "    Prend en paramètre le nombre de flocons à placer sur la scène\n",
    "    et renvoie un tableau constitué des `nb_flocons` instances de `Flocons`.\n",
    "    '''\n",
    "    return [# A compléter...     ]"
   ]
  },
  {
   "cell_type": "code",
   "execution_count": null,
   "metadata": {},
   "outputs": [],
   "source": [
    "# tests\n",
    "mes_flocons = initialisation(150)\n",
    "\n",
    "# Tests pour un tableau figé de flocons\n",
    "display(s)\n",
    "background()\n",
    "for n in range(len(mes_flocons)) :\n",
    "    mes_flocons[n].dessine()"
   ]
  },
  {
   "cell_type": "markdown",
   "metadata": {},
   "source": [
    "- Définir alors une nouvelle version pour la fonction `chute(tableau : list, time_lapse : float)`"
   ]
  },
  {
   "cell_type": "code",
   "execution_count": null,
   "metadata": {},
   "outputs": [],
   "source": [
    "# Définition\n",
    "def chute(tableau : list, time_lapse : float) :\n",
    "    '''\n",
    "    Simule une chute de neige avec un laps de temps `time_lapse` réglable entre l'affichage de deux images successives\n",
    "    avec en paramètre un tableau constitué des `nb_flocons` instances de `Flocons`\n",
    "    '''\n",
    "    # A compléter...\n",
    "    \n",
    "    \n",
    "    "
   ]
  },
  {
   "cell_type": "code",
   "execution_count": null,
   "metadata": {},
   "outputs": [],
   "source": [
    "# Tests pour l'affichage finale d'une chute de neige\n",
    "display(s)\n",
    "mes_flocons = initialisation(150)    \n",
    "chute(mes_flocons, 0.005)"
   ]
  },
  {
   "cell_type": "markdown",
   "metadata": {},
   "source": [
    "- Mettre alors à jour à ce stade du développement le code validé par les tests pour produire une animation simulant une chute de neige la plus réaliste possible..."
   ]
  },
  {
   "cell_type": "code",
   "execution_count": null,
   "metadata": {},
   "outputs": [],
   "source": [
    "# Dépendances\n",
    "from ipycanvas import Canvas, hold_canvas\n",
    "from math import pi\n",
    "from time import sleep\n",
    "from random import randint\n",
    "\n",
    "# Définition d'une scène avec un fond noir\n",
    "# Création d'un canvas pour la scène\n",
    "s = ...\n",
    "# Une fonction pour effacer la scène et redessiner un background\n",
    "def background(couleur : str = 'black') :\n",
    "    '''\n",
    "    Rafraichit la scène avec un fond de la couleur\n",
    "    'couleur' passée en paramètre et fixée sur `black` par défaut\n",
    "    Préconditions :\n",
    "    - couleur (str) : une chaine de caractères définissant une couleur HTML valide\n",
    "    '''    \n",
    "    # A compléter...\n",
    "    \n",
    "    \n",
    "    \n",
    "    \n",
    "# Définition d'une classe Flocon\n",
    "class Flocon : \n",
    "    \n",
    "    # Constructeur\n",
    "    def __init__(self) :\n",
    "        '''\n",
    "        Construit un flocon avec une abscisse,\n",
    "        une ordonnée et un diamètre définis aléatoirement\n",
    "        '''\n",
    "        # A compléter...\n",
    "    \n",
    "    \n",
    "    \n",
    "        \n",
    "    # Méthode pour modifier, faire évoluer\n",
    "    def evolue(self) : \n",
    "        '''\n",
    "        Modifie les valeurs des attributs du flocon\n",
    "        pour qu'il évolue en position et en diamètre\n",
    "        selon des règles définies pour sa chute\n",
    "        \n",
    "        '''\n",
    "        # A compléter...\n",
    "    \n",
    "    \n",
    "    \n",
    "    \n",
    "    \n",
    "    \n",
    "        \n",
    "    # Méthode pour accéder    \n",
    "    def dessine(self, taux : float = 50) :\n",
    "        '''\n",
    "        Affiche un flocon avec un effet de flou en superposant\n",
    "        des disques de diamètre de plus en plus petit\n",
    "        centrés sur le point de coordonnées (x, y) et au diamètre\n",
    "        correspondants aux valeurs de ses attributs\n",
    "        et avec le niveau de transparence  'taux' en pourcentage de 0 à 100%\n",
    "        réglé par défaut sur 50%\n",
    "        '''\n",
    "       # A compléter...\n",
    "    \n",
    "    \n",
    "    \n",
    "    \n",
    "    \n",
    "# Une fonction pour générer un tableau de flocons\n",
    "def initialisation(nb_flocons : int) -> list :\n",
    "    '''\n",
    "    Prend en paramètre le nombre de flocons à placer sur la scène\n",
    "    et renvoie un tableau constitué des `nb_flocons` instances de `Flocons`.\n",
    "    '''\n",
    "    return [# A compléter...    ]\n",
    "        \n",
    "\n",
    "# Une fonction pour générer une animation simulant une chute de neige\n",
    "def chute(tableau : list, time_lapse : float) :\n",
    "    '''\n",
    "    Simule une chute de neige avec un laps de temps `time_lapse` réglable entre l'affichage de deux images successives\n",
    "    avec en paramètre un tableau constitué des `nb_flocons` instances de `Flocons`\n",
    "    '''\n",
    "    # A compléter...\n",
    "    \n",
    "    \n",
    "        \n",
    "    \n",
    "        \n",
    "# Tests pour l'affichage finale d'une chute de neige\n",
    "if __name__ == '__main__':\n",
    "    display(s)\n",
    "    mes_flocons = initialisation(150)    \n",
    "    chute(mes_flocons, 0.005)"
   ]
  },
  {
   "cell_type": "markdown",
   "metadata": {},
   "source": [
    "****\n",
    "## Références aux programmes :\n",
    "\n",
    "### Représentation des données : types construits (Rappel 1ère) \n",
    "\n",
    "|Contenus|Capacités attendues|Commentaires|\n",
    "|--------|-------------------|------------|\n",
    "|Tableau indexé, tableau donné en compréhension.|Lire et modifier les éléments d’un tableau grâce à leurs index.<br/>Construire un tableau par compréhension.<br/>Utiliser des tableaux de tableaux pour représenter des matrices : notation a[i][j].<br/>Itérer sur les éléments d’un tableau.|Seuls les tableaux dont les éléments sont du même type sont présentés.<br/>Aucune connaissance des tranches (*slices*) n’est exigible.<br/>L’aspect dynamique des tableaux de Python n’est pas évoqué.<br/>Python identifie listes et tableaux.<br/>Il n’est pas fait référence aux tableaux de la bibliothèque NumPy.|\n",
    "\n",
    "### Langages et programmation\n",
    "\n",
    "|Contenus|Capacités attendues|Commentaires|\n",
    "|--------|-------------------|------------|\n",
    "|Modularité.|Utiliser des API (*Application Programming Interface*) ou des bibliothèques.<br/>Exploiter leur documentation.<br/>Créer des modules simples et les documenter.| |\n",
    "|Paradigmes de programmation.|Distinguer sur des exemples les paradigmes impératif, fonctionnel et objet.<br/> Choisir le paradigme de programmation selon le champ d’application d’un programme.|Avec un même langage de programmation, on peut utiliser des paradigmes différents. Dans un même programme, on peut utiliser des paradigmes différents.|\n",
    "\n",
    "### Structures de données\n",
    "\n",
    "|Contenus|Capacités attendues|Commentaires|\n",
    "|--------|-------------------|------------|\n",
    "| Vocabulaire de la programmation objet : classes, attributs, méthodes, objets.| Écrire la définition d’une classe.<br/>Accéder aux attributs et méthodes d’une classe. | On n’aborde pas ici tous les aspects de la programmation objet comme le polymorphisme et l’héritage. |"
   ]
  },
  {
   "cell_type": "markdown",
   "metadata": {},
   "source": [
    "## Ressources :\n",
    "\n",
    "- ipycanvas de Martin RENOU :\n",
    "\n",
    "    - https://blog.jupyter.org/ipycanvas-a-python-canvas-for-jupyter-bbb51e4777f7\n",
    "    - https://github.com/martinRenou/ipycanvas/\n",
    "    - https://ipycanvas.readthedocs.io/en/latest/?badge=latest\n",
    "\n",
    "\n",
    "- Dans mon Glitch https://glitch.com/edit/#!/neige?path=flocon.js%3A1%3A0\n",
    "\n",
    "\n",
    "Un blog plein de tutoriels très intéressants :\n",
    "- Neige : https://pictalink.blogspot.com/2017/12/programmation-orientee-objets-dans.html\n",
    "- Pluie : https://pictalink.blogspot.com/2017/12/boucle-et-programmation-orientee-objets.html\n",
    " "
   ]
  },
  {
   "cell_type": "markdown",
   "metadata": {},
   "source": [
    "<a rel=\"license\" href=\"http://creativecommons.org/licenses/by-sa/4.0/\"><img alt=\"Licence Creative Commons\" style=\"border-width:0\" src=\"https://i.creativecommons.org/l/by-sa/4.0/88x31.png\" /></a><br />Ce document s'inspire de ressources du web sitée ci-dessus et s'appuie sur le développement du module `ipycanvas` par [Martin RENOU](https://github.com/martinRenou) ingénieur logiciel scientifique chez [QuantStack](https://quantstack.net/index.html). Il est mis à disposition selon les termes de la <a rel=\"license\" href=\"http://creativecommons.org/licenses/by-sa/4.0/\">Licence Creative Commons Attribution -  Partage dans les Mêmes Conditions 4.0 International</a>.\n",
    "\n",
    "Pour toute question, suggestion ou commentaire : <a href=\"mailto:eric.madec@ecmorlaix.fr\">eric.madec@ecmorlaix.fr</a>"
   ]
  }
 ],
 "metadata": {
  "kernelspec": {
   "display_name": "Python 3",
   "language": "python",
   "name": "python3"
  },
  "language_info": {
   "codemirror_mode": {
    "name": "ipython",
    "version": 3
   },
   "file_extension": ".py",
   "mimetype": "text/x-python",
   "name": "python",
   "nbconvert_exporter": "python",
   "pygments_lexer": "ipython3",
   "version": "3.9.9"
  },
  "toc": {
   "base_numbering": 1,
   "nav_menu": {},
   "number_sections": true,
   "sideBar": true,
   "skip_h1_title": false,
   "title_cell": "Table of Contents",
   "title_sidebar": "Contents",
   "toc_cell": false,
   "toc_position": {},
   "toc_section_display": true,
   "toc_window_display": false
  },
  "varInspector": {
   "cols": {
    "lenName": 16,
    "lenType": 16,
    "lenVar": 40
   },
   "kernels_config": {
    "python": {
     "delete_cmd_postfix": "",
     "delete_cmd_prefix": "del ",
     "library": "var_list.py",
     "varRefreshCmd": "print(var_dic_list())"
    },
    "r": {
     "delete_cmd_postfix": ") ",
     "delete_cmd_prefix": "rm(",
     "library": "var_list.r",
     "varRefreshCmd": "cat(var_dic_list()) "
    }
   },
   "types_to_exclude": [
    "module",
    "function",
    "builtin_function_or_method",
    "instance",
    "_Feature"
   ],
   "window_display": false
  }
 },
 "nbformat": 4,
 "nbformat_minor": 4
}
