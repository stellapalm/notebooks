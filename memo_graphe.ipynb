{
 "cells": [
  {
   "cell_type": "markdown",
   "metadata": {},
   "source": [
    "<h2> Mémo sur les termes des graphes :</h2> "
   ]
  },
  {
   "cell_type": "markdown",
   "metadata": {},
   "source": [
    "- sommets\n",
    "- arêtes\n",
    "- relation\n",
    "- voisin\n",
    "- rayon\n",
    "- degré\n",
    "- longueur\n",
    "- cycle\n",
    "- connexe\n",
    "- arbre = graphe particulier (connexe et sans cycle)\n",
    "- somme des degré -> 2 fois le nombre d'arêtes"
   ]
  }
 ],
 "metadata": {
  "language_info": {
   "name": "python"
  },
  "orig_nbformat": 4
 },
 "nbformat": 4,
 "nbformat_minor": 2
}
