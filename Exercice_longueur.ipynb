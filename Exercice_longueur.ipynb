{
 "cells": [
  {
   "cell_type": "markdown",
   "metadata": {},
   "source": [
    "## Exercice 3 : ##"
   ]
  },
  {
   "cell_type": "markdown",
   "metadata": {},
   "source": [
    "En utilisant les fonctions données ci-dessus, proposer une version itérative et une version récursive pour la fonction longueur(liste) qui renvoie la longueur de la liste chaînée liste telle que :"
   ]
  },
  {
   "cell_type": "markdown",
   "metadata": {},
   "source": [
    "    >>> longueur(nil) = 0\n",
    "    >>> longueur(cons(7, cons(0, cons(12, cons)))) = 3"
   ]
  },
  {
   "cell_type": "markdown",
   "metadata": {},
   "source": [
    "#### version itérative  : ####"
   ]
  },
  {
   "cell_type": "code",
   "execution_count": null,
   "metadata": {},
   "outputs": [],
   "source": [
    "def longueur(liste) :\n",
    "    maillons = 0\n",
    "    maillons2 = maillons\n",
    "    while not est_vide(maillons2) :\n",
    "        maillons += 1\n",
    "        maillons2 = queue(maillons2)\n",
    "    return maillons"
   ]
  },
  {
   "cell_type": "markdown",
   "metadata": {},
   "source": [
    "#### version récursive : ####"
   ]
  },
  {
   "cell_type": "code",
   "execution_count": null,
   "metadata": {},
   "outputs": [],
   "source": [
    "def longueur(liste) :\n",
    "    maillons = 0\n",
    "    if est_vide(liste) == True :\n",
    "        maillons = 0\n",
    "    else :\n",
    "        maillons = maillons(queue(liste))\n",
    "\n",
    "    return maillons"
   ]
  }
 ],
 "metadata": {
  "kernelspec": {
   "display_name": "Python 3",
   "language": "python",
   "name": "python3"
  },
  "language_info": {
   "codemirror_mode": {
    "name": "ipython",
    "version": 3
   },
   "file_extension": ".py",
   "mimetype": "text/x-python",
   "name": "python",
   "nbconvert_exporter": "python",
   "pygments_lexer": "ipython3",
   "version": "3.9.9"
  }
 },
 "nbformat": 4,
 "nbformat_minor": 2
}
