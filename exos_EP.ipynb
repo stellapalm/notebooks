{
 "cells": [
  {
   "cell_type": "markdown",
   "metadata": {},
   "source": [
    "Exercice 01.1 :"
   ]
  },
  {
   "cell_type": "code",
   "execution_count": 6,
   "metadata": {},
   "outputs": [],
   "source": [
    "def recherche(caractere : str, mot : str) :\n",
    "    nb = 0\n",
    "\n",
    "    for i in range(len(mot)) :\n",
    "\n",
    "        if caractere == mot[i] :\n",
    "            nb += 1\n",
    "        \n",
    "        else :\n",
    "            nb += 0\n",
    "    \n",
    "    return nb"
   ]
  },
  {
   "cell_type": "code",
   "execution_count": 7,
   "metadata": {},
   "outputs": [
    {
     "data": {
      "text/plain": [
       "1"
      ]
     },
     "execution_count": 7,
     "metadata": {},
     "output_type": "execute_result"
    }
   ],
   "source": [
    "recherche('c', 'chiffre')"
   ]
  },
  {
   "cell_type": "code",
   "execution_count": 8,
   "metadata": {},
   "outputs": [
    {
     "data": {
      "text/plain": [
       "3"
      ]
     },
     "execution_count": 8,
     "metadata": {},
     "output_type": "execute_result"
    }
   ],
   "source": [
    "recherche('e', 'echelle')"
   ]
  },
  {
   "cell_type": "markdown",
   "metadata": {},
   "source": [
    "Exercice 02.1 :"
   ]
  },
  {
   "cell_type": "code",
   "execution_count": 38,
   "metadata": {},
   "outputs": [],
   "source": [
    "def moyenne(liste_notes_ponderees : list) -> float :\n",
    "    \n",
    "    denominateur = 0\n",
    "    numerateur = 0\n",
    "\n",
    "    for i in range(len(liste_notes_ponderees)) :\n",
    "        numerateur += liste_notes_ponderees[i][0] * liste_notes_ponderees[i][1]\n",
    "        denominateur += liste_notes_ponderees[i][1]\n",
    "    \n",
    "    return numerateur / denominateur"
   ]
  },
  {
   "cell_type": "code",
   "execution_count": 39,
   "metadata": {},
   "outputs": [
    {
     "data": {
      "text/plain": [
       "13.825"
      ]
     },
     "execution_count": 39,
     "metadata": {},
     "output_type": "execute_result"
    }
   ],
   "source": [
    "moyenne([(12.8, 2), (15, 1), (14.7, 1)])"
   ]
  },
  {
   "cell_type": "markdown",
   "metadata": {},
   "source": [
    "Sujet 5 : Exercice 1 : Recherche d'un minimum et d'un maximum"
   ]
  },
  {
   "cell_type": "code",
   "execution_count": 2,
   "metadata": {},
   "outputs": [],
   "source": [
    "# Définition \n",
    "\n",
    "def RechercheMinMax(tableau : list) -> dict :\n",
    "    '''\n",
    "    * Description : \n",
    "    Donne le plus petit \"minimum\" et le plus grand \"maximum\" nombre d'une liste \"tableau\" sous forme de dictionnaire\n",
    "\n",
    "    * Exemple :\n",
    "    >>> RechercheMinMax([0, 4, 1, -6, 9])\n",
    "    {'min' : -6, 'max' : 9}\n",
    "\n",
    "    >>> RechercheMinMax([0, 1, 4, 2, -2, 9, 3, 1, 7, 1])\n",
    "    {'min': -2, 'max': 9}\n",
    "\n",
    "    >>> RechercheMinMax([])\n",
    "    {'min': None, 'max': None}\n",
    "\n",
    "    * Précondition :\n",
    "    tableau est de type list, un tableau de nombres non triés ;\n",
    "\n",
    "    * Postcondition :\n",
    "    resultat (dict) : les chiffres minimum et maximum donnés sont affichés sous forme de dictionnaire après que la liste ai été parcourue.\n",
    "    '''\n",
    "    # Assertion\n",
    "    assert type(tableau) == list  , \"L'argument tableau doit être une liste.\"\n",
    "     \n",
    "    # Initialisation\n",
    "    maximum = tableau[0]\n",
    "    minimum = tableau[0]\n",
    "\n",
    "    # Bloc d'instructions\n",
    "\n",
    "    if tableau == [] :\n",
    "        resultat = {'min' : None, 'max' : None}\n",
    "\n",
    "    else :\n",
    "        for i in range(len(tableau)) :\n",
    "\n",
    "            if tableau[i] < minimum :\n",
    "                minimum = tableau[i]\n",
    "                \n",
    "            if tableau[i] > maximum :\n",
    "                maximum = tableau[i]\n",
    "\n",
    "\n",
    "        resultat = {'min' : {minimum}, 'max' : {maximum}}\n",
    "\n",
    "\n",
    "    return resultat "
   ]
  },
  {
   "cell_type": "code",
   "execution_count": 2,
   "metadata": {},
   "outputs": [
    {
     "data": {
      "text/plain": [
       "{'min': None, 'max': None}"
      ]
     },
     "execution_count": 2,
     "metadata": {},
     "output_type": "execute_result"
    }
   ],
   "source": [
    "RechercheMinMax([])"
   ]
  },
  {
   "cell_type": "code",
   "execution_count": 3,
   "metadata": {},
   "outputs": [
    {
     "data": {
      "text/plain": [
       "{'min': {-6}, 'max': {9}}"
      ]
     },
     "execution_count": 3,
     "metadata": {},
     "output_type": "execute_result"
    }
   ],
   "source": [
    "RechercheMinMax([0, 4, 1, -6, 9])"
   ]
  },
  {
   "cell_type": "markdown",
   "metadata": {},
   "source": [
    "Sujet 5 : Exercice 2"
   ]
  },
  {
   "cell_type": "markdown",
   "metadata": {},
   "source": [
    "<h6>Code incomplet -></h6>"
   ]
  },
  {
   "cell_type": "code",
   "execution_count": null,
   "metadata": {},
   "outputs": [],
   "source": [
    "class Carte:\n",
    "    \"\"\"Initialise Couleur (entre 1 a 4), et Valeur (entre 1 a 13)\"\"\"\n",
    "    def __init__(self, c, v):\n",
    "        self.Couleur = c\n",
    "        self.Valeur = v\n",
    "\n",
    "    \"\"\"Renvoie le nom de la Carte As, 2, ... 10, \n",
    "       Valet, Dame, Roi\"\"\"\n",
    "    def getNom(self):\n",
    "        if ( self.Valeur > 1 and self.Valeur < 11):\n",
    "            return str( self.Valeur)\n",
    "        elif self.Valeur == 11:\n",
    "            return \"Valet\"\n",
    "        elif self.Valeur == 12:\n",
    "            return \"Dame\"\n",
    "        elif self.Valeur == 13:\n",
    "            return \"Roi\"\n",
    "        else:\n",
    "            return \"As\"\n",
    "\n",
    "    \"\"\"Renvoie la couleur de la Carte (parmi pique, coeur, carreau, trefle\"\"\"\n",
    "    def getCouleur(self):\n",
    "        return ['pique', 'coeur', 'carreau', 'trefle' ][self.Couleur - 1]\n",
    "\n",
    "class PaquetDeCarte:\n",
    "    def __init__(self):\n",
    "        self.contenu = []\n",
    "\n",
    "    \"\"\"Remplit le paquet de cartes\"\"\"\n",
    "    def remplir(self):\n",
    "        ??? = [ ??? for couleur in range(1, ???) for valeur in range( 1, ???)]\n",
    "\n",
    "    \"\"\"Renvoie la Carte qui se trouve a  la position donnee\"\"\"\n",
    "    def getCarteAt(self, pos):\n",
    "        if 0 <= pos < ??? :\n",
    "            return ???"
   ]
  },
  {
   "cell_type": "markdown",
   "metadata": {},
   "source": [
    "<h6>Code complété -></h6>"
   ]
  },
  {
   "cell_type": "code",
   "execution_count": 24,
   "metadata": {},
   "outputs": [],
   "source": [
    "class Carte:\n",
    "    \n",
    "    # Constructeur de la classe Carte\n",
    "    def __init__(self, c, v):\n",
    "        \"\"\"Initialise Couleur (entre 1 a 4), et Valeur (entre 1 a 13)\"\"\"\n",
    "        self.Couleur = c\n",
    "        self.Valeur = v\n",
    "\n",
    "    # Accesseur de la valeur de la carte\n",
    "    def getNom(self):\n",
    "        \"\"\"Renvoie le nom de la Carte As, 2, ... 10, \n",
    "       Valet, Dame, Roi\"\"\"\n",
    "        if ( self.Valeur > 1 and self.Valeur < 11):\n",
    "            return str( self.Valeur)\n",
    "        elif self.Valeur == 11:\n",
    "            return \"Valet\"\n",
    "        elif self.Valeur == 12:\n",
    "            return \"Dame\"\n",
    "        elif self.Valeur == 13:\n",
    "            return \"Roi\"\n",
    "        else:\n",
    "            return \"As\"\n",
    "\n",
    "    # Accesseur de la couleur de la carte\n",
    "    def getCouleur(self):\n",
    "        \"\"\"Renvoie la couleur de la Carte (parmi pique, coeur, carreau, trefle\"\"\"\n",
    "        return ['pique', 'coeur', 'carreau', 'trefle' ][self.Couleur - 1]\n",
    "\n",
    "class PaquetDeCarte:\n",
    "    \n",
    "    # Constructeur de la classe PaquetDeCarte\n",
    "    def __init__(self):\n",
    "        self.contenu = []\n",
    "\n",
    "    # Mutateur\n",
    "    def remplir(self):\n",
    "        \"\"\"Remplit le paquet de cartes\"\"\"\n",
    "        self.contenu = [ Carte(couleur, valeur) for couleur in range(1, 5) for valeur in range( 1, 14)]\n",
    "\n",
    "    # Accesseur de la valeur et la couleur de la carte selon sa position\n",
    "    def getCarteAt(self, pos):\n",
    "        \"\"\"Renvoie la Carte qui se trouve à la position donnee\"\"\"\n",
    "        if 0 <= pos < len(self.contenu) :\n",
    "            return self.contenu[pos]\n"
   ]
  },
  {
   "cell_type": "code",
   "execution_count": 25,
   "metadata": {},
   "outputs": [],
   "source": [
    "unPaquet = PaquetDeCarte()"
   ]
  },
  {
   "cell_type": "code",
   "execution_count": 26,
   "metadata": {},
   "outputs": [
    {
     "data": {
      "text/plain": [
       "[]"
      ]
     },
     "execution_count": 26,
     "metadata": {},
     "output_type": "execute_result"
    }
   ],
   "source": [
    "unPaquet.contenu"
   ]
  },
  {
   "cell_type": "code",
   "execution_count": 27,
   "metadata": {},
   "outputs": [],
   "source": [
    "unPaquet.remplir()"
   ]
  },
  {
   "cell_type": "code",
   "execution_count": 28,
   "metadata": {},
   "outputs": [],
   "source": [
    "uneCarte = unPaquet.getCarteAt(20)"
   ]
  },
  {
   "cell_type": "code",
   "execution_count": 29,
   "metadata": {},
   "outputs": [
    {
     "name": "stdout",
     "output_type": "stream",
     "text": [
      "8 de coeur\n"
     ]
    }
   ],
   "source": [
    "print(uneCarte.getNom() + \" de \" + uneCarte.getCouleur())"
   ]
  },
  {
   "cell_type": "markdown",
   "metadata": {},
   "source": [
    "Sujet 21 : Exercice 1"
   ]
  },
  {
   "cell_type": "code",
   "execution_count": null,
   "metadata": {},
   "outputs": [],
   "source": [
    "# Définition\n",
    "\n",
    "def multiplication(n1 : int, n2 : int) -> int :\n",
    "    \n",
    "    '''\n",
    "    * Description : Effectue une multiplication\n",
    "\n",
    "    * Exemple :\n",
    "    >>> multiplication(2, 4)\n",
    "    8\n",
    "\n",
    "    * Préconditions :\n",
    "    n1 (int) : n1 est un nombre entier\n",
    "    n2 (int) : n2 est un nombre entier\n",
    "\n",
    "    * Postcondition :\n",
    "    resultat (int) : resultat est un nombre entier\n",
    "    '''\n",
    "    # Assertion\n",
    "    assert type(n1 and n2) == int  , \"Les arguments n1 et n2 sont des nombres entiers (int).\"\n",
    "\n",
    "    # Initialisation\n",
    "    resultat = 0\n",
    "\n",
    "    # Bloc d'instructions\n",
    "    for loop in range(n1) :\n",
    "        resultat += n2\n",
    "\n",
    "    return resultat"
   ]
  },
  {
   "cell_type": "code",
   "execution_count": 31,
   "metadata": {},
   "outputs": [
    {
     "data": {
      "text/plain": [
       "8"
      ]
     },
     "execution_count": 31,
     "metadata": {},
     "output_type": "execute_result"
    }
   ],
   "source": [
    "multiplication(2, 4)"
   ]
  },
  {
   "cell_type": "code",
   "execution_count": 32,
   "metadata": {},
   "outputs": [
    {
     "data": {
      "text/plain": [
       "9"
      ]
     },
     "execution_count": 32,
     "metadata": {},
     "output_type": "execute_result"
    }
   ],
   "source": [
    "multiplication(3, 3)"
   ]
  },
  {
   "cell_type": "markdown",
   "metadata": {},
   "source": [
    "<h1>Sujet 17</h1>"
   ]
  },
  {
   "cell_type": "markdown",
   "metadata": {},
   "source": [
    "<h3>Exercice 1 :</h3>"
   ]
  },
  {
   "cell_type": "code",
   "execution_count": 4,
   "metadata": {},
   "outputs": [],
   "source": [
    "def nombre_de_mots(phrase : str) -> int :\n",
    "    '''\n",
    "    * Description : Cette fonction compte le nombre de mots apparaissant dans une phrase.\n",
    "\n",
    "    * Exemple :\n",
    "    >>> nombre_de_mots('Le point d exclamation est separe !')\n",
    "    6\n",
    "\n",
    "    * Préconditions :\n",
    "    phrase (str) : la valeur phrase doit être une chaîne de caractère \n",
    "\n",
    "    * Postcondition :\n",
    "    nb_mots (int) : la valeur nb_mots donne un entier\n",
    "    '''\n",
    "    \n",
    "    nb_mots = 0\n",
    "    for mots in phrase :\n",
    "        for caractere in mots :\n",
    "            if caractere == ' ' :\n",
    "                nb_mots += 1\n",
    "            else :\n",
    "                nb_mots += 0\n",
    "            \n",
    "    return nb_mots"
   ]
  },
  {
   "cell_type": "code",
   "execution_count": 5,
   "metadata": {},
   "outputs": [
    {
     "data": {
      "text/plain": [
       "6"
      ]
     },
     "execution_count": 5,
     "metadata": {},
     "output_type": "execute_result"
    }
   ],
   "source": [
    "nombre_de_mots('Le point d exclamation est separe !')"
   ]
  },
  {
   "cell_type": "code",
   "execution_count": 6,
   "metadata": {},
   "outputs": [
    {
     "data": {
      "text/plain": [
       "9"
      ]
     },
     "execution_count": 6,
     "metadata": {},
     "output_type": "execute_result"
    }
   ],
   "source": [
    "nombre_de_mots('Il y a un seul espace entre les mots !')"
   ]
  },
  {
   "cell_type": "markdown",
   "metadata": {},
   "source": [
    "<h1>Sujet 27</h1>"
   ]
  },
  {
   "cell_type": "markdown",
   "metadata": {},
   "source": [
    "<h3>Exercice 1 :</h3>"
   ]
  },
  {
   "cell_type": "code",
   "execution_count": 12,
   "metadata": {},
   "outputs": [],
   "source": [
    "def taille(arbre : dict, lettre : str) -> int :\n",
    "    '''\n",
    "    * Description : Cette fonction donne la taille d'un arbre, c'est-à-dire le nombre de noeud dans un arbre sous forme de dictionnaire\n",
    "\n",
    "    * Exemple :\n",
    "    >>> taille(a, 'F')\n",
    "    9\n",
    "\n",
    "    * Préconditions :\n",
    "    arbre (dict) : la valeur arbre est un dictionnaire\n",
    "    lettre (str) : la valeur lettre est un caractère\n",
    "\n",
    "    * Postcondition :\n",
    "    La valeur donnée est un entier\n",
    "    '''\n",
    "    \n",
    "    return len(arbre)"
   ]
  },
  {
   "cell_type": "code",
   "execution_count": 8,
   "metadata": {},
   "outputs": [],
   "source": [
    "a = {'F':['B','G'], 'B':['A','D'], 'A':['',''], 'D':['C','E'], \\\n",
    "'C':['',''], 'E':['',''], 'G':['','I'], 'I':['','H'], \\\n",
    "'H':['','']}"
   ]
  },
  {
   "cell_type": "code",
   "execution_count": 13,
   "metadata": {},
   "outputs": [
    {
     "data": {
      "text/plain": [
       "9"
      ]
     },
     "execution_count": 13,
     "metadata": {},
     "output_type": "execute_result"
    }
   ],
   "source": [
    "taille(a, 'F')"
   ]
  }
 ],
 "metadata": {
  "interpreter": {
   "hash": "cb0d8732965f5ddf62787997273b565aebf28274693b0e690353998827542672"
  },
  "kernelspec": {
   "display_name": "Python 3.9.1 64-bit",
   "language": "python",
   "name": "python3"
  },
  "language_info": {
   "codemirror_mode": {
    "name": "ipython",
    "version": 3
   },
   "file_extension": ".py",
   "mimetype": "text/x-python",
   "name": "python",
   "nbconvert_exporter": "python",
   "pygments_lexer": "ipython3",
   "version": "3.9.1"
  },
  "orig_nbformat": 4
 },
 "nbformat": 4,
 "nbformat_minor": 2
}
