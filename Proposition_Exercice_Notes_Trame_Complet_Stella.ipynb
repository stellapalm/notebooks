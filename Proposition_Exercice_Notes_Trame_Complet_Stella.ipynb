{
 "cells": [
  {
   "cell_type": "markdown",
   "source": [
    "# Exercice 1 : Série de notes\n",
    "Écrire un programme qui permet :\n",
    "- de demander à l’utilisateur combien de notes il souhaite saisir → [ n ]\n",
    "\n",
    "- de saisir les [ n ] notes comprise entre [ 0 ; 20 ]\n",
    "- d’afficher la note la plus faible et la note la plus élevée\n",
    "- de calculer la moyenne"
   ],
   "metadata": {}
  },
  {
   "cell_type": "markdown",
   "source": [
    "## Construction de l'algorithme :"
   ],
   "metadata": {}
  },
  {
   "cell_type": "code",
   "execution_count": null,
   "source": [
    "# Construction du programme à développer à l'aide des commentaires :\r\n",
    "\r\n",
    "# demander à l’utilisateur combien de notes il souhaite saisir → [ n ]\r\n",
    "nb_notes = demander_entier(\"Combien de notes sont à saisir ? \")\r\n",
    "\r\n",
    "# saisir les [ n ] notes comprise entre [ 0 ; 20 ]\r\n",
    "notes = [ saisir_note() for i in range(nb_notes)] # Complété en classe\r\n",
    "\r\n",
    "# afficher la note la plus faible et la note la plus élevée\r\n",
    "print(f\"La note mini est {minimum_table(notes)}\")\r\n",
    "print(f\"La note maxi est {maximum_table(notes)}\")\r\n",
    "\r\n",
    "# calculer la moyenne\r\n",
    "print(f\"La moyenne des notes est {moyenne_table(notes)}\")"
   ],
   "outputs": [],
   "metadata": {}
  },
  {
   "cell_type": "markdown",
   "source": [
    "## Une première version pour `demander_entier()` :"
   ],
   "metadata": {}
  },
  {
   "cell_type": "code",
   "execution_count": null,
   "source": [
    "def demander_entier_V1(message : str) -> int :\r\n",
    "    \"\"\" ==================================================================================================================\r\n",
    "    \r\n",
    "        * Description : \r\n",
    "            Je demande à l'utilisateur un nombre correspondant à la question du message et renvoie le résultat au format entier ;\r\n",
    "                > Remarque : Ici, pas de gestion de vérification de validité de la saisie utilisateur.\r\n",
    "                        \r\n",
    "        * Exemple :\r\n",
    "            >>> demander_entier(\"Combien de notes sont à saisir ? \")\r\n",
    "            Combien de notes sont à saisir ? 5\r\n",
    "            5\r\n",
    "                    \r\n",
    "        * Préconditions :\r\n",
    "            message (str) : question définissant le nombre à saisir ;\r\n",
    "                    \r\n",
    "        * Postconditions :\r\n",
    "            (int) : la valeur saisie convertie en entier.       \r\n",
    "        \r\n",
    "        ==================================================================================================================\r\n",
    "    \"\"\"\r\n",
    "    # Assertions de vérification des préconditions :\r\n",
    "    assert type(message) == str  , \"L'argument message doit être une chaine de caractères.\"\r\n",
    "            \r\n",
    "    # bloc d'instructions :\r\n",
    "    nombre = int(input(message))\r\n",
    "    return nombre"
   ],
   "outputs": [],
   "metadata": {}
  },
  {
   "cell_type": "markdown",
   "source": [
    "### Pour tester :"
   ],
   "metadata": {}
  },
  {
   "cell_type": "code",
   "execution_count": null,
   "source": [
    "help(demander_entier_V1)"
   ],
   "outputs": [],
   "metadata": {}
  },
  {
   "cell_type": "code",
   "execution_count": null,
   "source": [
    "nb_notes = demander_entier_V1(10)"
   ],
   "outputs": [],
   "metadata": {}
  },
  {
   "cell_type": "code",
   "execution_count": null,
   "source": [
    "nb_notes = demander_entier_V1(\"Combien de notes sont à saisir ? \") # Tester avec les saisies 5, 5.0, toto "
   ],
   "outputs": [],
   "metadata": {}
  },
  {
   "cell_type": "markdown",
   "source": [
    "## Une seconde version pour `demander_entier()` :"
   ],
   "metadata": {}
  },
  {
   "cell_type": "code",
   "execution_count": null,
   "source": [
    "def demander_entier_V2(message : str) -> int :\r\n",
    "    \"\"\" ==================================================================================================================\r\n",
    "    \r\n",
    "        * Description : \r\n",
    "            Je demande à l'utilisateur un nombre correspondant à la question du message et renvoie le résultat au format entier ;\r\n",
    "                > avec une gestion de vérification de la validité de la saisie utilisateur.\r\n",
    "                        \r\n",
    "        * Exemple :\r\n",
    "            >>> demander_entier(\"Combien de notes sont à saisir ? \")\r\n",
    "            Combien de notes sont à saisir ? 5\r\n",
    "            5\r\n",
    "                                           \r\n",
    "        * Préconditions :\r\n",
    "            message (str) : question définissant le nombre à saisir ;\r\n",
    "                    \r\n",
    "        * Postconditions :\r\n",
    "            (int) : la valeur saisie convertie en entier.       \r\n",
    "        \r\n",
    "        ==================================================================================================================\r\n",
    "    \"\"\"\r\n",
    "    # Assertions de vérification des préconditions :\r\n",
    "    assert type(message) == str  , \"L'argument message doit être une chaine de caractères.\"\r\n",
    "            \r\n",
    "    # bloc d'instructions :\r\n",
    "    try :\r\n",
    "        nombre = int(input(message))\r\n",
    "        return nombre\r\n",
    "    except ValueError :\r\n",
    "        print(\"La valeur saisie doit être convertible en un nombre entier exprimé en base 10 : \\n    -> la saisie ne doit pas contenir d'autres caractères que 0, 1, 2, 3, 4, 5, 6, 7, 8, 9\")\r\n",
    "        "
   ],
   "outputs": [],
   "metadata": {}
  },
  {
   "cell_type": "markdown",
   "source": [
    "### Pour tester :"
   ],
   "metadata": {}
  },
  {
   "cell_type": "code",
   "execution_count": null,
   "source": [
    "demander_entier_V2(\"Combien de notes sont à saisir ? \") # Tester avec les saisies 5, 5.0, toto "
   ],
   "outputs": [],
   "metadata": {}
  },
  {
   "cell_type": "markdown",
   "source": [
    "## Autres fonctions :"
   ],
   "metadata": {}
  },
  {
   "cell_type": "code",
   "execution_count": null,
   "source": [
    "def saisir_note() -> float :\r\n",
    "    \"\"\" ==================================================================================================================\r\n",
    "    \r\n",
    "        * Description : \r\n",
    "            Je demande à l'utilisateur une note comprise entre 0.0 et 20.0 et renvoie le résultat au format flottant ;\r\n",
    "                > avec une gestion de vérification de la validité de la saisie utilisateur.\r\n",
    "                        \r\n",
    "        * Exemple :\r\n",
    "            >>> saisir_note()\r\n",
    "            Saisir une note comprise entre 0.0 et 20.0 : 5\r\n",
    "            5.0\r\n",
    "                                           \r\n",
    "        * Préconditions :\r\n",
    "            \r\n",
    "                    \r\n",
    "        * Postconditions :\r\n",
    "            (float) : la valeur de la note saisie convertie en float.       \r\n",
    "        \r\n",
    "        ==================================================================================================================\r\n",
    "    \"\"\"\r\n",
    "      \r\n",
    "    \r\n",
    "    # bloc d'instructions :\r\n",
    "    try :\r\n",
    "        saisie = input(f\"Saisir une note comprise entre 0.0 et 20.0 : \")\r\n",
    "        saisie.replace(',','.') # prévoir de remplacer le séparateur décimal au cas où ...\r\n",
    "        note = float(saisie)\r\n",
    "        if note <= 0.0 or note >= 20.0 :\r\n",
    "            raise ValueError\r\n",
    "        return note\r\n",
    "    \r\n",
    "    except ValueError :\r\n",
    "        print(f\"La valeur saisie doit être un nombre entier ou décimal suppérieur ou égal à 0.0 et inférieur ou égal à 20.0.\")   \r\n",
    "        "
   ],
   "outputs": [],
   "metadata": {}
  },
  {
   "cell_type": "code",
   "execution_count": null,
   "source": [
    "saisir_note()"
   ],
   "outputs": [],
   "metadata": {}
  },
  {
   "cell_type": "code",
   "execution_count": null,
   "source": [
    "def minimum_table(valeurs:list) -> float :\r\n",
    "    \"\"\" ==================================================================================================================\r\n",
    "    \r\n",
    "        * Description : \r\n",
    "            Je recherche et renvoie la valeur min d'un tableau de valeurs.\r\n",
    "        \r\n",
    "        * Exemple :\r\n",
    "            >>> minimum_table([5.0, 19.0, 11.0, -1.1])\r\n",
    "            -1.1\r\n",
    "                                           \r\n",
    "        * Préconditions :\r\n",
    "            valeurs (list) : tableau des valeurs à traiter ;\r\n",
    "                    \r\n",
    "        * Postconditions :\r\n",
    "            (float) : la valeur mini de la liste d'entrée.       \r\n",
    "        \r\n",
    "        ==================================================================================================================\r\n",
    "    \"\"\"\r\n",
    "    # Assertions de vérification des préconditions :\r\n",
    "    assert type(valeurs) == list,\"l'argument valeurs doit être de type list\"\r\n",
    "    \r\n",
    "    # bloc d'instructions :\r\n",
    "    min = valeurs[0]\r\n",
    "    for k in valeurs :\r\n",
    "        if k < min :\r\n",
    "            min = k\r\n",
    "    return min"
   ],
   "outputs": [],
   "metadata": {}
  },
  {
   "cell_type": "code",
   "execution_count": null,
   "source": [
    "minimum_table([5.0, 19.0, 11.0, -1.1])"
   ],
   "outputs": [],
   "metadata": {}
  },
  {
   "cell_type": "code",
   "execution_count": null,
   "source": [
    "def maximum_table(valeurs:list) -> float :\r\n",
    "    \"\"\" ==================================================================================================================\r\n",
    "    \r\n",
    "        * Description : \r\n",
    "            Je recherche et renvoie la valeur max d'un tableau de valeurs.\r\n",
    "        \r\n",
    "        * Exemple :\r\n",
    "            >>> maximum_table([5.0, 19.0, 11.0, -1.1])\r\n",
    "            19.0\r\n",
    "                                           \r\n",
    "        * Préconditions :\r\n",
    "            valeurs (list) : tableau des valeurs à traiter ;\r\n",
    "                    \r\n",
    "        * Postconditions :\r\n",
    "            (float) : la valeur maxi de la liste d'entrée.       \r\n",
    "        \r\n",
    "        ==================================================================================================================\r\n",
    "    \"\"\"\r\n",
    "    # Assertions de vérification des préconditions :\r\n",
    "    assert type(valeurs) == list,\"l'argument valeurs doit être de type list\"    \r\n",
    "    \r\n",
    "    # bloc d'instructions :\r\n",
    "    max = valeurs[0]\r\n",
    "    for j in valeurs :\r\n",
    "        if j > max :\r\n",
    "            max = j\r\n",
    "    return max"
   ],
   "outputs": [],
   "metadata": {}
  },
  {
   "cell_type": "code",
   "execution_count": null,
   "source": [
    "maximum_table([5.0, 19.0, 11.0, -1.1])"
   ],
   "outputs": [],
   "metadata": {}
  },
  {
   "cell_type": "code",
   "execution_count": null,
   "source": [
    "def moyenne_table(valeurs:list) -> float :\r\n",
    "    \"\"\" ==================================================================================================================\r\n",
    "    \r\n",
    "        * Description : \r\n",
    "            Je calcule et renvoie la valeur moyenne d'un tableau de valeurs.\r\n",
    "        \r\n",
    "        * Exemple :\r\n",
    "            >>> moyenne_table([5.0, 19.0, 11.0, -1.1])\r\n",
    "            8.475\r\n",
    "        \r\n",
    "        * Préconditions :\r\n",
    "            valeurs (list) : tableau des valeurs à traiter ;        \r\n",
    "                    \r\n",
    "        * Postconditions :\r\n",
    "            (float) : la valeur moyenne de la liste d'entrée.       \r\n",
    "        \r\n",
    "        ==================================================================================================================\r\n",
    "    \"\"\"\r\n",
    "    # Assertions de vérification des préconditions :\r\n",
    "    assert type(valeurs) == list,\"l'argument valeurs doit être de type list\"\r\n",
    "    \r\n",
    "    # Instructions\r\n",
    "    total = 0\r\n",
    "    for v in valeurs :\r\n",
    "        total += v\r\n",
    "    return total/len(valeurs)"
   ],
   "outputs": [],
   "metadata": {}
  },
  {
   "cell_type": "code",
   "execution_count": null,
   "source": [
    "moyenne_table([5.0, 19.0, 11.0, -1.1])"
   ],
   "outputs": [],
   "metadata": {}
  },
  {
   "cell_type": "markdown",
   "source": [
    "## Modularisation :\n",
    "\n",
    "Copier/coller les codes de vos fonctions dans un fichier nommé `notes.py` accessible depuis ce notebook jupyter et tester le script du programme principal :"
   ],
   "metadata": {}
  },
  {
   "cell_type": "code",
   "execution_count": null,
   "source": [
    "from notes.py import *\r\n",
    "# Script du programme : Série de notes\r\n",
    "\r\n",
    "# demander à l’utilisateur combien de notes il souhaite saisir → [ n ]\r\n",
    "nb_notes = demander_entier_V2(\"Combien de notes sont à saisir ? \")\r\n",
    "\r\n",
    "# saisir les [ n ] notes comprise entre [ 0 ; 20 ]\r\n",
    "notes = [ saisir_note() for i in range(nb_notes)]\r\n",
    "\r\n",
    "# afficher la note la plus faible et la note la plus élevée\r\n",
    "print(f\"La note mini est {minimum_table(notes)}\")\r\n",
    "print(f\"La note maxi est {maximum_table(notes)}\")\r\n",
    "\r\n",
    "# calculer la moyenne\r\n",
    "print(f\"La moyenne des notes est {moyenne_table(notes)}\")"
   ],
   "outputs": [],
   "metadata": {}
  },
  {
   "cell_type": "code",
   "execution_count": null,
   "source": [],
   "outputs": [],
   "metadata": {}
  }
 ],
 "metadata": {
  "kernelspec": {
   "display_name": "Python 3",
   "language": "python",
   "name": "python3"
  },
  "language_info": {
   "codemirror_mode": {
    "name": "ipython",
    "version": 3
   },
   "file_extension": ".py",
   "mimetype": "text/x-python",
   "name": "python",
   "nbconvert_exporter": "python",
   "pygments_lexer": "ipython3",
   "version": "3.8.5"
  },
  "toc": {
   "base_numbering": 1,
   "nav_menu": {},
   "number_sections": true,
   "sideBar": true,
   "skip_h1_title": false,
   "title_cell": "Table of Contents",
   "title_sidebar": "Contents",
   "toc_cell": false,
   "toc_position": {},
   "toc_section_display": true,
   "toc_window_display": false
  },
  "varInspector": {
   "cols": {
    "lenName": 16,
    "lenType": 16,
    "lenVar": 40
   },
   "kernels_config": {
    "python": {
     "delete_cmd_postfix": "",
     "delete_cmd_prefix": "del ",
     "library": "var_list.py",
     "varRefreshCmd": "print(var_dic_list())"
    },
    "r": {
     "delete_cmd_postfix": ") ",
     "delete_cmd_prefix": "rm(",
     "library": "var_list.r",
     "varRefreshCmd": "cat(var_dic_list()) "
    }
   },
   "types_to_exclude": [
    "module",
    "function",
    "builtin_function_or_method",
    "instance",
    "_Feature"
   ],
   "window_display": false
  }
 },
 "nbformat": 4,
 "nbformat_minor": 4
}