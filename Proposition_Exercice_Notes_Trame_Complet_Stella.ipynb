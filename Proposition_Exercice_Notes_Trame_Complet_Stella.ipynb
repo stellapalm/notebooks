{
 "cells": [
  {
   "cell_type": "markdown",
   "metadata": {},
   "source": [
    "# Exercice 1 : Série de notes\n",
    "Écrire un programme qui permet :\n",
    "- de demander à l’utilisateur combien de notes il souhaite saisir → [ n ]\n",
    "\n",
    "- de saisir les [ n ] notes comprise entre [ 0 ; 20 ]\n",
    "- d’afficher la note la plus faible et la note la plus élevée\n",
    "- de calculer la moyenne"
   ]
  },
  {
   "cell_type": "markdown",
   "metadata": {},
   "source": [
    "## Construction de l'algorithme :"
   ]
  },
  {
   "cell_type": "code",
   "execution_count": null,
   "metadata": {},
   "outputs": [],
   "source": [
    "# Construction du programme à développer à l'aide des commentaires :\n",
    "\n",
    "# demander à l’utilisateur combien de notes il souhaite saisir → [ n ]\n",
    "nb_notes = demander_entier(\"Combien de notes sont à saisir ? \")\n",
    "\n",
    "# saisir les [ n ] notes comprise entre [ 0 ; 20 ]\n",
    "notes = [ saisir_note() for i in range(nb_notes)] # Complété en classe\n",
    "\n",
    "# afficher la note la plus faible et la note la plus élevée\n",
    "print(f\"La note mini est {minimum_table(notes)}\")\n",
    "print(f\"La note maxi est {maximum_table(notes)}\")\n",
    "\n",
    "# calculer la moyenne\n",
    "print(f\"La moyenne des notes est {moyenne_table(notes)}\")"
   ]
  },
  {
   "cell_type": "markdown",
   "metadata": {},
   "source": [
    "## Une première version pour `demander_entier()` :"
   ]
  },
  {
   "cell_type": "code",
   "execution_count": null,
   "metadata": {},
   "outputs": [],
   "source": [
    "def demander_entier_V1(message : str) -> int :\n",
    "    \"\"\" ==================================================================================================================\n",
    "    \n",
    "        * Description : \n",
    "            Je demande à l'utilisateur un nombre correspondant à la question du message et renvoie le résultat au format entier ;\n",
    "                > Remarque : Ici, pas de gestion de vérification de validité de la saisie utilisateur.\n",
    "                        \n",
    "        * Exemple :\n",
    "            >>> demander_entier(\"Combien de notes sont à saisir ? \")\n",
    "            Combien de notes sont à saisir ? 5\n",
    "            5\n",
    "                    \n",
    "        * Préconditions :\n",
    "            message (str) : question définissant le nombre à saisir ;\n",
    "                    \n",
    "        * Postconditions :\n",
    "            (int) : la valeur saisie convertie en entier.       \n",
    "        \n",
    "        ==================================================================================================================\n",
    "    \"\"\"\n",
    "    # Assertions de vérification des préconditions :\n",
    "    assert type(message) == str  , \"L'argument message doit être une chaine de caractères.\"\n",
    "            \n",
    "    # bloc d'instructions :\n",
    "    nombre = int(input(message))\n",
    "    return nombre"
   ]
  },
  {
   "cell_type": "markdown",
   "metadata": {},
   "source": [
    "### Pour tester :"
   ]
  },
  {
   "cell_type": "code",
   "execution_count": null,
   "metadata": {},
   "outputs": [],
   "source": [
    "help(demander_entier_V1)"
   ]
  },
  {
   "cell_type": "code",
   "execution_count": null,
   "metadata": {},
   "outputs": [],
   "source": [
    "nb_notes = demander_entier_V1(10)"
   ]
  },
  {
   "cell_type": "code",
   "execution_count": null,
   "metadata": {},
   "outputs": [],
   "source": [
    "nb_notes = demander_entier_V1(\"Combien de notes sont à saisir ? \") # Tester avec les saisies 5, 5.0, toto "
   ]
  },
  {
   "cell_type": "markdown",
   "metadata": {},
   "source": [
    "## Une seconde version pour `demander_entier()` :"
   ]
  },
  {
   "cell_type": "code",
   "execution_count": null,
   "metadata": {},
   "outputs": [],
   "source": [
    "def demander_entier_V2(message : str) -> int :\n",
    "    \"\"\" ==================================================================================================================\n",
    "    \n",
    "        * Description : \n",
    "            Je demande à l'utilisateur un nombre correspondant à la question du message et renvoie le résultat au format entier ;\n",
    "                > avec une gestion de vérification de la validité de la saisie utilisateur.\n",
    "                        \n",
    "        * Exemple :\n",
    "            >>> demander_entier(\"Combien de notes sont à saisir ? \")\n",
    "            Combien de notes sont à saisir ? 5\n",
    "            5\n",
    "                                           \n",
    "        * Préconditions :\n",
    "            message (str) : question définissant le nombre à saisir ;\n",
    "                    \n",
    "        * Postconditions :\n",
    "            (int) : la valeur saisie convertie en entier.       \n",
    "        \n",
    "        ==================================================================================================================\n",
    "    \"\"\"\n",
    "    # Assertions de vérification des préconditions :\n",
    "    assert type(message) == str  , \"L'argument message doit être une chaine de caractères.\"\n",
    "            \n",
    "    # bloc d'instructions :\n",
    "    try :\n",
    "        nombre = int(input(message))\n",
    "        return nombre\n",
    "    except ValueError :\n",
    "        print(\"La valeur saisie doit être convertible en un nombre entier exprimé en base 10 : \\n    -> la saisie ne doit pas contenir d'autres caractères que 0, 1, 2, 3, 4, 5, 6, 7, 8, 9\")\n",
    "        "
   ]
  },
  {
   "cell_type": "markdown",
   "metadata": {},
   "source": [
    "### Pour tester :"
   ]
  },
  {
   "cell_type": "code",
   "execution_count": null,
   "metadata": {},
   "outputs": [],
   "source": [
    "demander_entier_V2(\"Combien de notes sont à saisir ? \") # Tester avec les saisies 5, 5.0, toto "
   ]
  },
  {
   "cell_type": "markdown",
   "metadata": {},
   "source": [
    "## Autres fonctions :"
   ]
  },
  {
   "cell_type": "code",
   "execution_count": null,
   "metadata": {},
   "outputs": [],
   "source": [
    "def saisir_note() -> float :\n",
    "    \"\"\" ==================================================================================================================\n",
    "    \n",
    "        * Description : \n",
    "            Je demande à l'utilisateur une note comprise entre 0.0 et 20.0 et renvoie le résultat au format flottant ;\n",
    "                > avec une gestion de vérification de la validité de la saisie utilisateur.\n",
    "                        \n",
    "        * Exemple :\n",
    "            >>> saisir_note()\n",
    "            Saisir une note comprise entre 0.0 et 20.0 : 5\n",
    "            5.0\n",
    "                                           \n",
    "        * Préconditions :\n",
    "            \n",
    "                    \n",
    "        * Postconditions :\n",
    "            (float) : la valeur de la note saisie convertie en float.       \n",
    "        \n",
    "        ==================================================================================================================\n",
    "    \"\"\"\n",
    "      \n",
    "    \n",
    "    # bloc d'instructions :\n",
    "    try :\n",
    "        saisie = input(f\"Saisir une note comprise entre 0.0 et 20.0 : \")\n",
    "        saisie.replace(',','.') # prévoir de remplacer le séparateur décimal au cas où ...\n",
    "        note = float(saisie)\n",
    "        if note <= 0.0 or note >= 20.0 :\n",
    "            raise ValueError\n",
    "        return note\n",
    "    \n",
    "    except ValueError :\n",
    "        print(f\"La valeur saisie doit être un nombre entier ou décimal suppérieur ou égal à 0.0 et inférieur ou égal à 20.0.\")   \n",
    "        "
   ]
  },
  {
   "cell_type": "code",
   "execution_count": null,
   "metadata": {},
   "outputs": [],
   "source": [
    "saisir_note()"
   ]
  },
  {
   "cell_type": "code",
   "execution_count": null,
   "metadata": {},
   "outputs": [],
   "source": [
    "def minimum_table(valeurs:list) -> float :\n",
    "    \"\"\" ==================================================================================================================\n",
    "    \n",
    "        * Description : \n",
    "            Je recherche et renvoie la valeur min d'un tableau de valeurs.\n",
    "        \n",
    "        * Exemple :\n",
    "            >>> minimum_table([5.0, 19.0, 11.0, -1.1])\n",
    "            -1.1\n",
    "                                           \n",
    "        * Préconditions :\n",
    "            valeurs (list) : tableau des valeurs à traiter ;\n",
    "                    \n",
    "        * Postconditions :\n",
    "            (float) : la valeur mini de la liste d'entrée.       \n",
    "        \n",
    "        ==================================================================================================================\n",
    "    \"\"\"\n",
    "    # Assertions de vérification des préconditions :\n",
    "    assert type(valeurs) == list,\"l'argument valeurs doit être de type list\"\n",
    "    \n",
    "    # bloc d'instructions :\n",
    "    min = valeurs[0]\n",
    "    for k in valeurs :\n",
    "        if k < min :\n",
    "            min = k\n",
    "    return min"
   ]
  },
  {
   "cell_type": "code",
   "execution_count": null,
   "metadata": {},
   "outputs": [],
   "source": [
    "minimum_table([5.0, 19.0, 11.0, -1.1])"
   ]
  },
  {
   "cell_type": "code",
   "execution_count": null,
   "metadata": {},
   "outputs": [],
   "source": [
    "def maximum_table(valeurs:list) -> float :\n",
    "    \"\"\" ==================================================================================================================\n",
    "    \n",
    "        * Description : \n",
    "            Je recherche et renvoie la valeur max d'un tableau de valeurs.\n",
    "        \n",
    "        * Exemple :\n",
    "            >>> maximum_table([5.0, 19.0, 11.0, -1.1])\n",
    "            19.0\n",
    "                                           \n",
    "        * Préconditions :\n",
    "            valeurs (list) : tableau des valeurs à traiter ;\n",
    "                    \n",
    "        * Postconditions :\n",
    "            (float) : la valeur maxi de la liste d'entrée.       \n",
    "        \n",
    "        ==================================================================================================================\n",
    "    \"\"\"\n",
    "    # Assertions de vérification des préconditions :\n",
    "    assert type(valeurs) == list,\"l'argument valeurs doit être de type list\"    \n",
    "    \n",
    "    # bloc d'instructions :\n",
    "    max = valeurs[0]\n",
    "    for j in valeurs :\n",
    "        if j > max :\n",
    "            max = j\n",
    "    return max"
   ]
  },
  {
   "cell_type": "code",
   "execution_count": null,
   "metadata": {},
   "outputs": [],
   "source": [
    "maximum_table([5.0, 19.0, 11.0, -1.1])"
   ]
  },
  {
   "cell_type": "code",
   "execution_count": null,
   "metadata": {},
   "outputs": [],
   "source": [
    "def moyenne_table(valeurs:list) -> float :\n",
    "    \"\"\" ==================================================================================================================\n",
    "    \n",
    "        * Description : \n",
    "            Je calcule et renvoie la valeur moyenne d'un tableau de valeurs.\n",
    "        \n",
    "        * Exemple :\n",
    "            >>> moyenne_table([5.0, 19.0, 11.0, -1.1])\n",
    "            8.475\n",
    "        \n",
    "        * Préconditions :\n",
    "            valeurs (list) : tableau des valeurs à traiter ;        \n",
    "                    \n",
    "        * Postconditions :\n",
    "            (float) : la valeur moyenne de la liste d'entrée.       \n",
    "        \n",
    "        ==================================================================================================================\n",
    "    \"\"\"\n",
    "    # Assertions de vérification des préconditions :\n",
    "    assert type(valeurs) == list,\"l'argument valeurs doit être de type list\"\n",
    "    \n",
    "    # Instructions\n",
    "    total = 0\n",
    "    for v in valeurs :\n",
    "        total += v\n",
    "    return total/len(valeurs)"
   ]
  },
  {
   "cell_type": "code",
   "execution_count": null,
   "metadata": {},
   "outputs": [],
   "source": [
    "moyenne_table([5.0, 19.0, 11.0, -1.1])"
   ]
  },
  {
   "cell_type": "markdown",
   "metadata": {},
   "source": [
    "## Modularisation :\n",
    "\n",
    "Copier/coller les codes de vos fonctions dans un fichier nommé `notes.py` accessible depuis ce notebook jupyter et tester le script du programme principal :"
   ]
  },
  {
   "cell_type": "code",
   "execution_count": null,
   "metadata": {},
   "outputs": [],
   "source": [
    "#import notes\n",
    "# Script du programme : Série de notes\n",
    "\n",
    "# demander à l’utilisateur combien de notes il souhaite saisir → [ n ]\n",
    "nb_notes = demander_entier_V2(\"Combien de notes sont à saisir ? \")\n",
    "\n",
    "# saisir les [ n ] notes comprise entre [ 0 ; 20 ]\n",
    "notes = [ saisir_note() for i in range(nb_notes)]\n",
    "\n",
    "# afficher la note la plus faible et la note la plus élevée\n",
    "print(f\"La note mini est {minimum_table(notes)}\")\n",
    "print(f\"La note maxi est {maximum_table(notes)}\")\n",
    "\n",
    "# calculer la moyenne\n",
    "print(f\"La moyenne des notes est {moyenne_table(notes)}\")"
   ]
  },
  {
   "cell_type": "code",
   "execution_count": null,
   "metadata": {},
   "outputs": [],
   "source": []
  }
 ],
 "metadata": {
  "kernelspec": {
   "display_name": "Python 3",
   "language": "python",
   "name": "python3"
  },
  "language_info": {
   "codemirror_mode": {
    "name": "ipython",
    "version": 3
   },
   "file_extension": ".py",
   "mimetype": "text/x-python",
   "name": "python",
   "nbconvert_exporter": "python",
   "pygments_lexer": "ipython3",
   "version": "3.8.5"
  },
  "toc": {
   "base_numbering": 1,
   "nav_menu": {},
   "number_sections": true,
   "sideBar": true,
   "skip_h1_title": false,
   "title_cell": "Table of Contents",
   "title_sidebar": "Contents",
   "toc_cell": false,
   "toc_position": {},
   "toc_section_display": true,
   "toc_window_display": false
  },
  "varInspector": {
   "cols": {
    "lenName": 16,
    "lenType": 16,
    "lenVar": 40
   },
   "kernels_config": {
    "python": {
     "delete_cmd_postfix": "",
     "delete_cmd_prefix": "del ",
     "library": "var_list.py",
     "varRefreshCmd": "print(var_dic_list())"
    },
    "r": {
     "delete_cmd_postfix": ") ",
     "delete_cmd_prefix": "rm(",
     "library": "var_list.r",
     "varRefreshCmd": "cat(var_dic_list()) "
    }
   },
   "types_to_exclude": [
    "module",
    "function",
    "builtin_function_or_method",
    "instance",
    "_Feature"
   ],
   "window_display": false
  }
 },
 "nbformat": 4,
 "nbformat_minor": 4
}
