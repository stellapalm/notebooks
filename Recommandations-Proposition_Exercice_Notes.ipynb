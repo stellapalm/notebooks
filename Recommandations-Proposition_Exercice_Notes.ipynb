{
 "cells": [
  {
   "cell_type": "markdown",
   "metadata": {},
   "source": [
    "<h1>Quelques recommandations de programmation afin d'anticiper des erreurs...</h1>\n",
    "\n",
    "<h3>Eviter de développer des dizaines de lignes de code dans un seul bloc.</h3>\n",
    "\n",
    "  Il vaut mieux découper son algorithme en fonctions où chaque fonction réalise une tâche précise. Ces fonctions pourront être éventuellement réutilisées ensuite dans un autre contexte. Recommencer à coder une solution c'est investir à nouveau du temps de développement, de degogage, de documentation, ... De plus, il est toujours plus compliqué de chercher une erreur d'algorithme dans 200 lignes de code que dans une des 20 fonctions de 10 lignes chacune.\n",
    "  \n",
    "<h3>Utiliser des assertions comme \"garde fou\"</h3>\n",
    "\n",
    "  <code>assert condition,\"texte d'explication\"</code>\n",
    "  \n",
    "  \n",
    "  > Revoir : [Fonctions_et_modularisation.ipynb](https://nbviewer.jupyter.org/github/ericECmorlaix/1NSI_2019-2020/blob/master/Fonctions_et_modularisation.ipynb)\n",
    "\n",
    "\n",
    "<h3>Développer son algorithme grace aux commentaires</h3>\n",
    "\n",
    "  Avant de commencer à coder assurez vous d'avoir une idée claire de vote algorithme. \n",
    "  \n",
    "  Une méthode efficace consiste à :\n",
    "  \n",
    "  1. Ecrire son algorithme sous forme de commentaires\n",
    "  \n",
    "  2. Si certaines parties de l'algorithme ne sont pas encore suffisamment précises, elles pourront être détaillées ensuite dans une fonction spécifique\n",
    "  \n",
    "  3. Lorsque des fonctions ou méthodes sont stables et éprouvées, elles  peuvent être placées dans des bibliothèques pour alléger la lecture du code... => [Fonctions_et_modularisation.ipynb#Modules-:](https://nbviewer.jupyter.org/github/ericECmorlaix/1NSI_2019-2020/blob/master/Fonctions_et_modularisation.ipynb#Modules-:)\n",
    "\n",
    "<h3>Gérer les situations problématiques sans provoquer de message d'erreur ou de \"plantage\"</h3>\n",
    "<h4> try : ... raise ... except ... :</h4>\n",
    "\n",
    "  Si on souhaite éviter une situation de plantage lors d'une erreur, il faut gérer les erreurs provoquées lors de l'exécution de la fonction.\n",
    "\n",
    "*Exemple : un système automatisé doit être capable d'indiquer qu'une commande est incorrecte sans pour cela s'arrêter*\n",
    "\n",
    "<code>\n",
    "  try : <br>\n",
    "&nbsp;&nbsp;&nbsp;if not {condition à respecter} :<br>\n",
    "&nbsp;&nbsp;&nbsp;&nbsp;&nbsp;&nbsp;raise {type d'erreur}()<br>\n",
    "&nbsp;&nbsp;&nbsp;except {type d'erreur} :<br>\n",
    "&nbsp;&nbsp;&nbsp;&nbsp;&nbsp;&nbsp;*Gérer la situation avant de sortir de la fonction*\n",
    "</code><br>\n",
    "\n",
    "Sources d'informations à lire :\n",
    "  - https://docs.python.org/fr/3.5/tutorial/errors.html\n",
    "  - https://openclassrooms.com/fr/courses/235344-apprenez-a-programmer-en-python/231688-gerez-les-exceptions\n",
    "\n",
    "\n",
    "\n",
    "## Exemple avec l'exercice : Série de notes\n",
    "Écrire un programme qui permet :\n",
    "- de demander à l’utilisateur combien de notes il souhaite saisir → [ n ]\n",
    "\n",
    "- de saisir les [ n ] notes comprise entre [ 0 ; 20 ]\n",
    "- d’afficher la note la plus faible et la note la plus élevée\n",
    "- de calculer la moyenne"
   ]
  },
  {
   "cell_type": "markdown",
   "metadata": {},
   "source": [
    "## Construction de l'algorithme :"
   ]
  },
  {
   "cell_type": "code",
   "execution_count": null,
   "metadata": {},
   "outputs": [],
   "source": [
    "# Construction du programme à développer à l'aide des commentaires :\n",
    "\n",
    "# demander à l’utilisateur combien de notes il souhaite saisir → [ n ]\n",
    "nb_notes = demander_entier(\"Combien de notes sont à saisir ? \")\n",
    "\n",
    "# saisir les [ n ] notes comprise entre [ 0 ; 20 ]\n",
    "notes = [ saisir_note() for i in range(nb_notes)] # Complété en classe\n",
    "\n",
    "# afficher la note la plus faible et la note la plus élevée\n",
    "print(f\"La note mini est {minimum_table(notes)}\")\n",
    "print(f\"La note maxi est {maximum_table(notes)}\")\n",
    "\n",
    "# calculer la moyenne\n",
    "print(f\"La moyenne des notes est {moyenne_table(notes)}\")"
   ]
  },
  {
   "cell_type": "markdown",
   "metadata": {},
   "source": [
    "## Une première version pour `demander_entier()` :"
   ]
  },
  {
   "cell_type": "code",
   "execution_count": null,
   "metadata": {},
   "outputs": [],
   "source": [
    "def demander_entier_V1(message : str) -> int :\n",
    "    \"\"\" ==================================================================================================================\n",
    "    \n",
    "        * Description : \n",
    "            Je demande à l'utilisateur un nombre correspondant à la question du message et renvoie le résultat au format entier ;\n",
    "                > Remarque : Ici, pas de gestion de vérification de validité de la saisie utilisateur.\n",
    "                        \n",
    "        * Exemple :\n",
    "            >>> demander_entier(\"Combien de notes sont à saisir ? \")\n",
    "            Combien de notes sont à saisir ? 5\n",
    "            5\n",
    "                    \n",
    "        * Préconditions :\n",
    "            message (str) : question définissant le nombre à saisir ;\n",
    "                    \n",
    "        * Postconditions :\n",
    "            (int) : la valeur saisie convertie en entier.       \n",
    "        \n",
    "        ==================================================================================================================\n",
    "    \"\"\"\n",
    "    # Assertions de vérification des préconditions :\n",
    "    assert type(message) == str  , \"Le message doit être une chaine de caractères.\"\n",
    "            \n",
    "    # bloc d'instructions :\n",
    "    nombre = int(input(message))\n",
    "    return nombre"
   ]
  },
  {
   "cell_type": "markdown",
   "metadata": {},
   "source": [
    "### Pour tester :"
   ]
  },
  {
   "cell_type": "code",
   "execution_count": null,
   "metadata": {},
   "outputs": [],
   "source": [
    "help(demander_entier_V1)"
   ]
  },
  {
   "cell_type": "code",
   "execution_count": null,
   "metadata": {},
   "outputs": [],
   "source": [
    "nb_notes = demander_entier_V1(10)"
   ]
  },
  {
   "cell_type": "code",
   "execution_count": null,
   "metadata": {},
   "outputs": [],
   "source": [
    "nb_notes = demander_entier_V1(\"Combien de notes sont à saisir ? \") # Tester avec les saisies 5, 5.0, toto "
   ]
  },
  {
   "cell_type": "markdown",
   "metadata": {},
   "source": [
    "## Une seconde version pour `demander_entier()` :"
   ]
  },
  {
   "cell_type": "code",
   "execution_count": 2,
   "metadata": {},
   "outputs": [],
   "source": [
    "def demander_entier_V2(message : str) -> int :\n",
    "    \"\"\" ==================================================================================================================\n",
    "    \n",
    "        * Description : \n",
    "            Je demande à l'utilisateur un nombre correspondant à la question du message et renvoie le résultat au format entier ;\n",
    "                > avec une gestion de vérification de la validité de la saisie utilisateur.\n",
    "                        \n",
    "        * Exemple :\n",
    "            >>> demander_entier(\"Combien de notes sont à saisir ? \")\n",
    "            Combien de notes sont à saisir ? 5\n",
    "            5\n",
    "                                           \n",
    "        * Préconditions :\n",
    "            message (str) : question définissant le nombre à saisir ;\n",
    "                    \n",
    "        * Postconditions :\n",
    "            (int) : la valeur saisie convertie en entier.       \n",
    "        \n",
    "        ==================================================================================================================\n",
    "    \"\"\"\n",
    "    # Assertions de vérification des préconditions :\n",
    "    assert type(message) == str  , \"Le message doit être une chaine de caractères.\"\n",
    "            \n",
    "    # bloc d'instructions :\n",
    "    try :\n",
    "        nombre = int(input(message))\n",
    "        return nombre\n",
    "    except ValueError :\n",
    "        print(\"La valeur saisie doit être convertible en un nombre entier exprimé en base 10 : \\n    -> la saisie ne doit pas contenir d'autres caractères que 0, 1, 2, 3, 4, 5, 6, 7, 8, 9\")\n",
    "        "
   ]
  },
  {
   "cell_type": "markdown",
   "metadata": {},
   "source": [
    "### Pour tester :"
   ]
  },
  {
   "cell_type": "code",
   "execution_count": 5,
   "metadata": {},
   "outputs": [
    {
     "name": "stdout",
     "output_type": "stream",
     "text": [
      "Combien de notes sont à saisir ? Toto\n",
      "La valeur saisie doit être convertible en un nombre entier exprimé en base 10 : \n",
      "    -> la saisie ne doit pas contenir d'autres caractères que 0, 1, 2, 3, 4, 5, 6, 7, 8, 9\n"
     ]
    }
   ],
   "source": [
    "demander_entier_V2(\"Combien de notes sont à saisir ? \") # Tester avec les saisies 5, 5.0, toto "
   ]
  },
  {
   "cell_type": "markdown",
   "metadata": {},
   "source": [
    "## Autres fonctions :"
   ]
  },
  {
   "cell_type": "code",
   "execution_count": null,
   "metadata": {},
   "outputs": [],
   "source": [
    "def saisir_note(nb_note, note, liste) -> float :\n",
    "    \"\"\" ==================================================================================================================\n",
    "    \n",
    "        * Description : Cette fonction permet de saisir les notes obtenues.\n",
    "        \n",
    "        * Exemple :\n",
    "            >>> saisir_notes(5)\n",
    "                5\n",
    "                \n",
    "        * Préconditions : \n",
    "            (float) : la valeur saisie doit être en float.\n",
    "                    \n",
    "        * Postconditions :\n",
    "            (float) : la valeur saisie convertie en float.       \n",
    "        \n",
    "        ==================================================================================================================\n",
    "    \"\"\"\n",
    "    # Assertions de vérification des préconditions :\n",
    "    assert type(note) == int , \"La note doit être un nombre.\"\n",
    "    \n",
    "    nb_note = int(input())\n",
    "    liste = []\n",
    "    \n",
    "    for loop in range(nb_note) :\n",
    "        note = int(input())\n",
    "        liste += note\n",
    "    \n",
    "    return liste"
   ]
  },
  {
   "cell_type": "code",
   "execution_count": null,
   "metadata": {},
   "outputs": [],
   "source": [
    "def minimum_table(valeurs:list) -> float :\n",
    "    \"\"\" ==================================================================================================================\n",
    "    \n",
    "        * Description : Cette fonction permet de trouver la plus petite note parmi la liste.\n",
    "        \n",
    "        * Préconditions :\n",
    "            (list) : la liste doit être en chaîne de caractères.\n",
    "                    \n",
    "        * Postconditions :\n",
    "            (float) : la valeur mini de la liste d'entrée.       \n",
    "        \n",
    "        ==================================================================================================================\n",
    "    \"\"\"\n",
    "    # Assertions de vérification des préconditions :\n",
    "    assert type(liste) == str , \"La liste doit être une chaîne de caractères.\"\n",
    "    \n",
    "    # Instructions A CODER\n",
    "    \n",
    "    return mini"
   ]
  },
  {
   "cell_type": "code",
   "execution_count": null,
   "metadata": {},
   "outputs": [],
   "source": [
    "def maximum_table(valeurs:list) -> float :\n",
    "    \"\"\" ==================================================================================================================\n",
    "    \n",
    "        * Description : Cette fonction permet de trouver la plus grande note parmi la liste.\n",
    "        \n",
    "        * Préconditions :\n",
    "            (list) : la valeur est une liste.\n",
    "                    \n",
    "        * Postconditions :\n",
    "            (float) : la valeur maxi de la liste d'entrée.       \n",
    "        \n",
    "        ==================================================================================================================\n",
    "    \"\"\"\n",
    "    # Assertions de vérification des préconditions :\n",
    "    assert type(liste) == str , \"La liste doit être une chaîne de caractères.\"\n",
    "    \n",
    "    # Instructions A CODER\n",
    "    \n",
    "    return maxi"
   ]
  },
  {
   "cell_type": "code",
   "execution_count": null,
   "metadata": {},
   "outputs": [],
   "source": [
    "def moyenne_table(valeurs:list) -> float :\n",
    "    \"\"\" ==================================================================================================================\n",
    "    \n",
    "        * Description : Cette fonction permet de faire la moyenne des notes saisies avec la définition saisir_note et sa liste.\n",
    "        \n",
    "        * Exemple :\n",
    "            >>> moyenne_table([8, 15, 16])\n",
    "                13.0\n",
    "        \n",
    "        * Préconditions :\n",
    "            (list) : la valeur est une liste.\n",
    "                    \n",
    "        * Postconditions :\n",
    "            (float) : la valeur moyenne de la liste d'entrée.       \n",
    "        \n",
    "        ==================================================================================================================\n",
    "    \"\"\"\n",
    "    #  Assertions de vérification des préconditions :\n",
    "    assert type(liste) == str , \"La liste doit être une chaîne de caractères.\"\n",
    "    \n",
    "    moyenne = liste / nb_note\n",
    "    \n",
    "    return moyenne"
   ]
  }
 ],
 "metadata": {
  "kernelspec": {
   "display_name": "Python 3",
   "language": "python",
   "name": "python3"
  },
  "language_info": {
   "codemirror_mode": {
    "name": "ipython",
    "version": 3
   },
   "file_extension": ".py",
   "mimetype": "text/x-python",
   "name": "python",
   "nbconvert_exporter": "python",
   "pygments_lexer": "ipython3",
   "version": "3.9.0+"
  },
  "toc": {
   "base_numbering": 1,
   "nav_menu": {},
   "number_sections": true,
   "sideBar": true,
   "skip_h1_title": false,
   "title_cell": "Table of Contents",
   "title_sidebar": "Contents",
   "toc_cell": false,
   "toc_position": {},
   "toc_section_display": true,
   "toc_window_display": false
  },
  "varInspector": {
   "cols": {
    "lenName": 16,
    "lenType": 16,
    "lenVar": 40
   },
   "kernels_config": {
    "python": {
     "delete_cmd_postfix": "",
     "delete_cmd_prefix": "del ",
     "library": "var_list.py",
     "varRefreshCmd": "print(var_dic_list())"
    },
    "r": {
     "delete_cmd_postfix": ") ",
     "delete_cmd_prefix": "rm(",
     "library": "var_list.r",
     "varRefreshCmd": "cat(var_dic_list()) "
    }
   },
   "types_to_exclude": [
    "module",
    "function",
    "builtin_function_or_method",
    "instance",
    "_Feature"
   ],
   "window_display": false
  }
 },
 "nbformat": 4,
 "nbformat_minor": 4
}
