{
 "cells": [
  {
   "cell_type": "markdown",
   "metadata": {},
   "source": [
    "# La récursivité\n",
    "\n",
    "La notion de récursivité est une notion essentielle, et pas seulement en informatique.\n",
    "\n",
    "En effet, pour expliquer une situation, on utilise souvent cette même situation à un état précédent.\n",
    "\n",
    "## Introduction :\n",
    "\n",
    "<h3 class='fa fa-cog' style=\"color: MediumSeaGreen\"> A faire vous même n°1 :</h3>\n",
    "\n",
    "- Regarder cette vidéo d'introduction..."
   ]
  },
  {
   "cell_type": "code",
   "execution_count": 2,
   "metadata": {},
   "outputs": [
    {
     "data": {
      "text/html": [
       "<center>\n",
       "    <iframe width=\"560\" height=\"315\" src=\"https://www.youtube-nocookie.com/embed/U3nGNJTxYc4?rel=0\" frameborder=\"0\" allow=\"accelerometer; autoplay; clipboard-write; encrypted-media; gyroscope; picture-in-picture\" allowfullscreen></iframe>\n",
       "</center>\n"
      ],
      "text/plain": [
       "<IPython.core.display.HTML object>"
      ]
     },
     "metadata": {},
     "output_type": "display_data"
    }
   ],
   "source": [
    "%%HTML\n",
    "<center>\n",
    "    <iframe width=\"560\" height=\"315\" src=\"https://www.youtube-nocookie.com/embed/U3nGNJTxYc4?rel=0\" frameborder=\"0\" allow=\"accelerometer; autoplay; clipboard-write; encrypted-media; gyroscope; picture-in-picture\" allowfullscreen></iframe>\n",
    "</center>"
   ]
  },
  {
   "cell_type": "markdown",
   "metadata": {},
   "source": [
    "**La récursivité est donc une méthode de résolution de problèmes qui consiste à décomposer le problème en sous-problèmes identiques de plus en plus petits jusqu’à obtenir un problème suffisamment petit pour qu’il puisse être résolu de manière triviale.**\n",
    "\n",
    "<img src=\"https://ericecmorlaix.github.io/img/Recursif-Gru.jpg\" alt=\"Recursif-Gru.jpg\" title=\"Gru explique son plan récursif\" width=60% >"
   ]
  },
  {
   "cell_type": "markdown",
   "metadata": {},
   "source": [
    "## Exemple :\n",
    "\n",
    "Étant donné une liste d’entiers `L=[2,12,1,8,5,10,20]`, calculer la somme des éléments de cette liste.\n",
    "\n",
    "Comme les listes sont itérables, nous pouvons simplement résoudre ce problème avec l’un ou l'autre de ces algorithmes que l’on dit **itératifs** :\n",
    "\n",
    "```pseudo\n",
    "Données : liste ← une liste d’entiers\n",
    "fonction somme_1(liste)\n",
    "    S ← 0\n",
    "    n ← longueur de la liste\n",
    "    Pour i allant de 0 à n faire\n",
    "        S ← S + liste[i]\n",
    "    renvoyer S\n",
    "```\n",
    "\n",
    "OU\n",
    "\n",
    "```pseudo\n",
    "Données : liste ← une liste d’entiers\n",
    "fonction somme_2(liste)\n",
    "    S ← 0\n",
    "    Pour chaque element de liste faire\n",
    "    S ← S + element\n",
    "renvoyer S\n",
    "```\n",
    "\n",
    "OU\n",
    "\n",
    "```pseudo\n",
    "Données : liste ← une liste d’entiers\n",
    "fonction somme_3(liste)\n",
    "    S ← 0\n",
    "    i ← 0\n",
    "    Tant que i < longueur de la liste \n",
    "        S ← S + liste[i]\n",
    "        i ← i + 1\n",
    "renvoyer S\n",
    "```\n",
    "\n",
    "<h3 class='fa fa-code' style=\"color: MediumSeaGreen\"> A faire vous même n°2 :</h3>\n",
    "\n",
    "- Pour vous échauffer, implémenter en Python ces trois algorithmes itératifs et tester les :"
   ]
  },
  {
   "cell_type": "code",
   "execution_count": null,
   "metadata": {},
   "outputs": [],
   "source": [
    "def somme_1(liste) :\n",
    "    S = 0\n",
    "    n = len(liste)\n",
    "    while i "
   ]
  },
  {
   "cell_type": "code",
   "execution_count": null,
   "metadata": {},
   "outputs": [],
   "source": [
    "assert somme([2,12,1,8,5,10,20]) == 58, \"Test non concluant !\"\n",
    "print(\"Test concluant !\")"
   ]
  },
  {
   "cell_type": "markdown",
   "metadata": {},
   "source": [
    "Supposons maintenant que nous n’ayons pas la possibilité de faire de \"boucles\".\n",
    "\n",
    "On peut alors aborder le problème sous un autre angle :\n",
    "\n",
    "> La somme des termes de cette liste est: 2 + ( la somme des termes de [12,1,8,5,10,20])\n",
    ">\n",
    "> Soit : 2 + (12 + (la somme des termes de [1,8,5,10,20])\n",
    ">\n",
    "> et ainsi de suite... jusqu’à : 2 + (12 + (1 + (8 + (5 + (10 + ( la somme des termes de [20]))))))\n",
    ">\n",
    "> il est clair que : la somme des termes de [20] est 20\n",
    ">\n",
    "> Au final le calcul à faire est : 2 + (12 + (1 + (8 + (5 + (10 + (20)))))) = 58\n",
    "\n",
    "Considérons alors une fonction `sommeliste(liste)` et qui renvoie le résultat de la somme des éléments de la liste.\n",
    "\n",
    "L’algorithme ci-dessous que l’on dit **récursif** réalise cette seconde approche:\n",
    "\n",
    "```pseudo\n",
    "Données : liste ← une liste d’entiers\n",
    "fonction sommeliste(liste)\n",
    "    Si la longueur de la liste est égale à 1 alors\n",
    "        renvoyer liste[0]\n",
    "    Sinon\n",
    "        renvoyer liste[0] + sommeliste(liste[1:])\n",
    "```\n",
    "\n",
    "<h3 class='fa fa-code' style=\"color: MediumSeaGreen\"> A faire vous même n°3 :</h3>\n",
    "\n",
    "- Implémenter en Python cette fonction et la tester également :"
   ]
  },
  {
   "cell_type": "code",
   "execution_count": null,
   "metadata": {},
   "outputs": [],
   "source": []
  },
  {
   "cell_type": "code",
   "execution_count": null,
   "metadata": {},
   "outputs": [],
   "source": [
    "assert sommeliste([2,12,1,8,5,10,20]) == 58, \"Test non concluant\"\n",
    "print(\"Test concluant !\")"
   ]
  },
  {
   "cell_type": "markdown",
   "metadata": {},
   "source": [
    "<h3 class='fa fa-cog' style=\"color: MediumSeaGreen\"> A faire vous même n°4 :</h3>\n",
    "\n",
    "- Comparer les vitesses d’exécutions des programmes version itérative et version récursive de l’exemple précédent.\n",
    "\n",
    "> Pour tester la vitesse d’exécution d’une fonction on utilise le module timeit, comme le montre le code ci-dessous pour une liste de 1000 entiers choisis aléatoirement entre 0 et 100 avec le module random.\n",
    "\n"
   ]
  },
  {
   "cell_type": "code",
   "execution_count": null,
   "metadata": {},
   "outputs": [],
   "source": [
    "from timeit import default_timer as timer\n",
    "from random import randint\n",
    "\n",
    "# Ajouter les codes des deux fonctions à comparer ici\n",
    "\n",
    "\n",
    "\n",
    "L=[randint(0,100) for i in range(1000)]\n",
    "\n",
    "debut = timer()\n",
    "print(sommeliste(L))\n",
    "fin = timer()\n",
    "print(fin-debut)\n",
    "debut = timer()\n",
    "print(somme(L))\n",
    "fin = timer()\n",
    "print(fin - debut)"
   ]
  },
  {
   "cell_type": "markdown",
   "metadata": {},
   "source": [
    "- Que pouvez-vous en conclure (pour cet exemple)?\n",
    "\n",
    "..."
   ]
  },
  {
   "cell_type": "markdown",
   "metadata": {},
   "source": [
    "## Complexité et fonctionnement d'un programme récursif :\n",
    "\n",
    "<h3 class='fa fa-cog' style=\"color: MediumSeaGreen\"> A faire vous même n°5 :</h3>\n",
    "\n",
    "- Observer le fonctionnement des appels récursifs de la fonction `sommeliste(liste)` dans votre programme avec l'outil [Python tutor](http://pythontutor.com/) permet de visualiser pas à pas ce que fait votre script.\n",
    "\n",
    "> Il est possible de l'utiliser dans un notebook jupyter pour celà il faut :\n",
    "    > 1. l'installer (si ce n'est pas déjà fait) : ``%pip install metakernel``\n",
    "    > 1. puis exécuter les instructions de la cellule suivante :"
   ]
  },
  {
   "cell_type": "code",
   "execution_count": null,
   "metadata": {},
   "outputs": [],
   "source": [
    "from metakernel import register_ipython_magics\n",
    "register_ipython_magics()"
   ]
  },
  {
   "cell_type": "markdown",
   "metadata": {},
   "source": [
    ">    \n",
    "    >3. inscrire la commande ``%%tutor`` devant le script à tester dans la cellule :"
   ]
  },
  {
   "cell_type": "code",
   "execution_count": null,
   "metadata": {},
   "outputs": [],
   "source": [
    "%%tutor\n",
    "# Script à tester :\n",
    "\n",
    "# Ajouter le code de votre fonction sommeliste(liste) ici\n",
    "\n",
    "\n",
    "print(sommeliste([2,12,1,8,5,10,20]))"
   ]
  },
  {
   "cell_type": "markdown",
   "metadata": {},
   "source": [
    "Un programme est une suite d’instructions, son exécution peut être représentée par un parcours de chemin ayant une origine et une extrémité.\n",
    "\n",
    "Lors de l’appel d’une fonction, cette suite est interrompue le temps de cette fonction, avant de reprendre à l’endroit où le programme s’est arrêté.\n",
    "\n",
    "<img src=\"https://ericecmorlaix.github.io/img/Recursif-Pile_1.png\" alt=\"Recursif-Pile_1.png\" title=\"Pile d'exécution : appel fonction\" width=60% >\n",
    "\n",
    "Au moment où débute cette bifurcation, le processeur sauvegarde un certain nombre d’informations : adresse de retour, état des\n",
    "variables, etc.\n",
    "\n",
    "Toutes ces données forment ce qu’on appelle le contexte du programme, et elles sont stockées dans ce qu’on appelle la pile d’exécution.\n",
    "\n",
    "À la fin de l’exécution de la fonction, le contexte est sorti pour permettre la poursuite de l’exécution du programme.\n",
    "\n",
    "<img src=\"https://ericecmorlaix.github.io/img/Recursif-Pile_2.png\" alt=\"Recursif-Pile_.png\" title=\"Pile d'exécution : appels récursifs\" width=60% >\n",
    "\n",
    "Lors de l’exécution d’une fonction récursive, chaque appel récursif conduit, au moment où il se produit, à un empilement du contexte dans la pile d’exécution.\n",
    "\n",
    "Lorsqu’au bout de n appels se produit la condition d’arrêt, les différents contextes sont progressivement dépilés pour poursuivre l’exécution de la fonction.\n",
    "\n",
    "Il est important de prendre conscience qu’**une fonction récursive s’accompagne d’une complexité qui va croître avec le nombre d’appels récursifs** (en général linéairement, mais ce n’est pas une règle, cela dépend du contenu du contexte)."
   ]
  },
  {
   "cell_type": "markdown",
   "metadata": {},
   "source": [
    "## Les trois règles...\n",
    "\n",
    "A l'instar des robots d’[Azimov](https://fr.wikipedia.org/wiki/Trois_lois_de_la_robotique), les algorithmes récursifs doivent obéir à trois règles :\n",
    "\n",
    "1. Un algorithme récursif doit avoir un \" état trivial \", cela permet d’avoir une condition d’arrêt.\n",
    "\n",
    "> Dans notre exemple, il s’agit de : _si la liste est de longueur 1 alors on renvoie le seul élément de la liste_.\n",
    "\n",
    "2. Un algorithme récursif doit conduire vers cet \" état d’arrêt \", cela permet de ne pas faire une infinité d’appels récursifs.\n",
    "\n",
    "> Dans notre exemple, à chaque appel récursif, la liste est diminuée d’un élément donc nécessairement elle finira par n’en n’avoir plus qu’un.\n",
    "\n",
    "3. Un algorithme récursif s’appelle lui même..."
   ]
  },
  {
   "cell_type": "markdown",
   "metadata": {},
   "source": [
    "## Itératif vs Récursif\n",
    "\n",
    "Il n’existe pas de réponse définitive à la question de savoir si un algorithme récursif est préférable à un algorithme itératif ou le contraire.\n",
    "\n",
    "Il a été prouvé que ces deux paradigmes de programmation sont équivalents ; autrement dit, tout algorithme itératif possède une version récursive, et réciproquement.\n",
    "\n",
    "Le choix du langage peut aussi avoir son importance : un langage fonctionnel est conçu pour exploiter la récursivité et le programmeur est naturellement amené à choisir la version récursive de l’algorithme qu’il souhaite écrire.\n",
    "\n",
    "À l’inverse, Python, même s’il l’autorise, ne favorise pas l’écriture récursive (limitation basse (1000 par défaut) du nombre\n",
    "d’appels récursifs).\n",
    "\n",
    "Enfin, le choix d’écrire une fonction récursive ou itérative peut dépendre du problème à résoudre : certains problèmes se résolvent particulièrement simplement sous forme récursive."
   ]
  },
  {
   "cell_type": "markdown",
   "metadata": {},
   "source": [
    "<h2 class='fa fa-code' style=\"color: purple\"> Application 1 : version récursive du convertisseur...</h2>\n",
    "\n",
    "\n",
    "> ### Petit rappel :\n",
    ">\n",
    ">Une méthode de conversion consiste à diviser le nombre décimal à convertir par la base b et conserver le reste de la division. Le quotient obtenu est divisé par b et conserver le reste. Il faut répéter l’opération sur chaque quotient obtenu.\n",
    ">\n",
    "> Par exemple, pour la conversion : $91$ = $01011011_2$\n",
    ">\n",
    "><img src=\"https://ericecmorlaix.github.io/img/Stepper-ConversionBinaire2.svg\" alt=\"ConversionBinaire2\">\n",
    ">\n",
    ">Les restes successifs sont écrits, en commençant par le dernier, de la gauche vers la droite. Cette méthode est dite « Méthode des divisions successives ».\n",
    "\n",
    "Voici un programme itératif qui réalise ce changement de base :"
   ]
  },
  {
   "cell_type": "code",
   "execution_count": 11,
   "metadata": {},
   "outputs": [],
   "source": [
    "def decTob(n,b):\n",
    "    assert (b > 1 and b < 17) , \"b doit être compris entre 2 et 16\"\n",
    "    signes = [\"0\",\"1\",\"2\",\"3\",\"4\",\"5\",\"6\",\"7\",\"8\",\"9\",\"A\",\"B\",\"C\",\"D\",\"E\",\"F\"]\n",
    "    mot = \"\"\n",
    "    while n != 0:\n",
    "        mot = signes[n % b] + mot\n",
    "        n = n // b\n",
    "    return mot"
   ]
  },
  {
   "cell_type": "markdown",
   "metadata": {},
   "source": [
    "Analysons ce programme :\n",
    "\n",
    "- La première ligne permet de s’assurer que les conditions sur b sont assurées ;\n",
    "- La liste signes nous permet d’avoir accès aux symboles représentant les nombres jusqu’à la base 16 ;\n",
    "- On utilisera la variable mot de type str pour le résultat ;\n",
    "- Tant que n != 0 (tant que le quotient n’est pas nul), on ajoute par la gauche le reste au résultat et on remplace n par le nouveau quotient n // b.\n",
    "\n",
    "<h3 class='fa fa-cog' style=\"color: MediumSeaGreen\"> A faire vous même n°6 :</h3>\n",
    "\n",
    "- Tester ce programme avec différentes bases pour vérifier que vous obtenez les mêmes résultats qu'avec :\n",
    "```python\n",
    "print(bin(77)[2:]) ## affiche 77 en base 2\n",
    "print(oct(77)[2:]) ## affiche 77 en base 8\n",
    "print(hex(77)[2:]) ## affiche 77 en base 16\n",
    "```"
   ]
  },
  {
   "cell_type": "code",
   "execution_count": null,
   "metadata": {},
   "outputs": [],
   "source": []
  },
  {
   "cell_type": "markdown",
   "metadata": {},
   "source": [
    "Recherchons maintenant une version récursive de ce programme.\n",
    "\n",
    "L’idée est : \n",
    "\n",
    "```python\n",
    "decTobr(n, b) = decTobr(n // b, b) + reste\n",
    "```\n",
    "\n",
    "Pour ce faire suivons les trois règles :\n",
    "\n",
    "1. Un algorithme récursif doit avoir un \"état trivial\", cela permet d’avoir une condition d’arrêt.\n",
    "\n",
    "2. Un algorithme récursif doit conduire vers cet \"état d’arrêt\", cela permet de ne pas faire une infinité d’appels récursifs.\n",
    "\n",
    "3. Un algorithme récursif s’appelle lui même...\n",
    "\n",
    "\n",
    "<h3 class='fa fa-code' style=\"color: darkorange\"> A faire vous même n°7 :</h3>\n",
    "\n",
    "- Répondre aux questions :\n",
    "\n",
    "Q1) Dans notre cas quel est \"l’état trivial\" ?\n",
    "\n",
    "\n",
    "...\n",
    "\n",
    "Q2) Expliquer ce qui va conduire à cet \"état trivial\" ?\n",
    "\n",
    "...\n",
    "\n",
    "...\n",
    "\n",
    "...\n",
    "\n",
    "- Réaliser une version récursive du programme précédent :"
   ]
  },
  {
   "cell_type": "code",
   "execution_count": null,
   "metadata": {},
   "outputs": [],
   "source": []
  },
  {
   "cell_type": "markdown",
   "metadata": {},
   "source": [
    "<h2 class='fa fa-graduation-cap' style=\"color: purple\"> Application 2 : Calculer le factoriel d'un nombre :</h2>\n",
    "\n",
    "\n",
    "Écrire les versions itérative et récursive de fonctions calculant $n!$ où ${n\\in\\mathbf{N}}$ ;\n",
    "\n",
    "sachant que : $n! = n × (n − 1) × (n − 2) × ... × 2 × 1 $ ;\n",
    "\n",
    "et que par définition $0! = 1$."
   ]
  },
  {
   "cell_type": "code",
   "execution_count": null,
   "metadata": {},
   "outputs": [],
   "source": []
  },
  {
   "cell_type": "markdown",
   "metadata": {},
   "source": [
    "<h2 class='fa fa-graduation-cap' style=\"color: purple\"> Application 3 : Les tours de Hanoï :</h2>\n",
    "\n",
    "Faire le [TP des tours de Hanoï](https://ericecmorlaix.github.io/pdf/res_tp_tour_de_hanoi.pdf)\n"
   ]
  },
  {
   "cell_type": "markdown",
   "metadata": {},
   "source": [
    "****\n",
    "## Références aux programmes :\n",
    "\n",
    "<style type=\"text/css\">\n",
    ".tg  {border-collapse:collapse;border-spacing:0;}\n",
    ".tg td{font-family:Arial, sans-serif;font-size:14px;padding:10px 5px;border-style:solid;border-width:1px;overflow:hidden;word-break:normal;border-color:black;}\n",
    ".tg th{font-family:Arial, sans-serif;font-size:14px;font-weight:normal;padding:10px 5px;border-style:solid;border-width:1px;overflow:hidden;word-break:normal;border-color:black;}\n",
    ".tg .tg-cv16{font-weight:bold;background-color:#dae8fc;border-color:inherit;text-align:center}\n",
    ".tg .tg-xldj{border-color:inherit;text-align:left}\n",
    "</style>\n",
    "<h3 >Langages et programmation</h3> \n",
    "<table class=\"tg\">\n",
    "  <tr>\n",
    "    <th class=\"tg-cv16\">Contenus</th>\n",
    "    <th class=\"tg-cv16\">Capacités attendues</th>\n",
    "    <th class=\"tg-cv16\">Commentaires</th>\n",
    "  </tr>\n",
    "  <tr>\n",
    "    <td class=\"tg-xldj\">Récursivité.</td>\n",
    "    <td class=\"tg-xldj\">Écrire un programme récursif.<br>Analyser le fonctionnement d’un programme récursif.</td>\n",
    "    <td class=\"tg-xldj\">Des exemples relevant de domaines variés sont à privilégier.</td>\n",
    "  </tr>\n",
    "    \n",
    "</table>\n",
    "\n"
   ]
  },
  {
   "cell_type": "markdown",
   "metadata": {},
   "source": [
    "<a rel=\"license\" href=\"http://creativecommons.org/licenses/by-sa/4.0/\"><img alt=\"Licence Creative Commons\" style=\"border-width:0\" src=\"https://i.creativecommons.org/l/by-sa/4.0/88x31.png\" /></a><br />Ce document, basé sur le travail de Stephan VAN ZUIJLEN, est mis à disposition selon les termes de la <a rel=\"license\" href=\"http://creativecommons.org/licenses/by-sa/4.0/\">Licence Creative Commons Attribution -  Partage dans les Mêmes Conditions 4.0 International</a>.\n",
    "\n",
    "Pour toute question, suggestion ou commentaire : <a href=\"mailto:eric.madec@ecmorlaix.fr\">eric.madec@ecmorlaix.fr</a>"
   ]
  },
  {
   "cell_type": "code",
   "execution_count": null,
   "metadata": {},
   "outputs": [],
   "source": []
  }
 ],
 "metadata": {
  "interpreter": {
   "hash": "6a4bd70ece1deaa8dcaa8549ecd6c43f8790db6a34e9c57cb56bc1b109de61be"
  },
  "kernelspec": {
   "display_name": "Python 3.9.7 64-bit (windows store)",
   "name": "python3"
  },
  "language_info": {
   "codemirror_mode": {
    "name": "ipython",
    "version": 3
   },
   "file_extension": ".py",
   "mimetype": "text/x-python",
   "name": "python",
   "nbconvert_exporter": "python",
   "pygments_lexer": "ipython3",
   "version": "3.9.7"
  },
  "toc": {
   "base_numbering": 1,
   "nav_menu": {},
   "number_sections": true,
   "sideBar": true,
   "skip_h1_title": false,
   "title_cell": "Table of Contents",
   "title_sidebar": "Contents",
   "toc_cell": false,
   "toc_position": {},
   "toc_section_display": true,
   "toc_window_display": false
  },
  "varInspector": {
   "cols": {
    "lenName": 16,
    "lenType": 16,
    "lenVar": 40
   },
   "kernels_config": {
    "python": {
     "delete_cmd_postfix": "",
     "delete_cmd_prefix": "del ",
     "library": "var_list.py",
     "varRefreshCmd": "print(var_dic_list())"
    },
    "r": {
     "delete_cmd_postfix": ") ",
     "delete_cmd_prefix": "rm(",
     "library": "var_list.r",
     "varRefreshCmd": "cat(var_dic_list()) "
    }
   },
   "types_to_exclude": [
    "module",
    "function",
    "builtin_function_or_method",
    "instance",
    "_Feature"
   ],
   "window_display": false
  }
 },
 "nbformat": 4,
 "nbformat_minor": 4
}
