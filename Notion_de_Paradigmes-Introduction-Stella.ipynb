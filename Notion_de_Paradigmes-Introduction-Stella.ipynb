{
 "cells": [
  {
   "cell_type": "markdown",
   "metadata": {},
   "source": [
    "# Paradigmes de programmation\n",
    "\n",
    "\n",
    "Il existe de nombreuses façons de programmer une machine, différents schéma de pensée qui sont apparus et ont évolués au cours du temps, ce sont les **[paradigmes de programmation](https://fr.wikipedia.org/wiki/Paradigme_(programmation))**.\n",
    "\n",
    "\n",
    "Les langages de programmation sont nombreux et variés.\n",
    "Il n’est pas inusuel qu’un langage appartienne à plusieurs de ces paradigmes, c’est par exemple le cas de Python.\n",
    "\n",
    "Certains de ces paradigmes sont mieux adaptés que d’autres pour traiter des problèmes spécifiques.\n",
    "On verra aussi ultérieurement qu’il est possible d’utiliser plusieurs paradigmes à l’intérieur d’un même programme.\n",
    "\n",
    "Les paradigmes principaux sont impératif, objet, fonctionnel..."
   ]
  },
  {
   "cell_type": "code",
   "execution_count": 1,
   "metadata": {},
   "outputs": [
    {
     "data": {
      "text/html": [
       "<center>\n",
       "<iframe width=\"560\" height=\"315\" src=\"https://www.youtube.com/embed/5D7Shf9nG0Q\" frameborder=\"0\" allow=\"accelerometer; autoplay; encrypted-media; gyroscope; picture-in-picture\" allowfullscreen></iframe>\n",
       "</center>\n"
      ],
      "text/plain": [
       "<IPython.core.display.HTML object>"
      ]
     },
     "metadata": {},
     "output_type": "display_data"
    }
   ],
   "source": [
    "%%HTML\n",
    "<center>\n",
    "<iframe width=\"560\" height=\"315\" src=\"https://www.youtube.com/embed/5D7Shf9nG0Q\" frameborder=\"0\" allow=\"accelerometer; autoplay; encrypted-media; gyroscope; picture-in-picture\" allowfullscreen></iframe>\n",
    "</center>"
   ]
  },
  {
   "cell_type": "markdown",
   "metadata": {},
   "source": [
    "> [Vidéo complémentaire à voir aussi](https://youtu.be/3S1iPJJ-lPA)"
   ]
  },
  {
   "cell_type": "markdown",
   "metadata": {},
   "source": [
    "## Programmation impérative :\n",
    "\n",
    "Le paradigme sinon le plus ancien, tout au moins le plus traditionnel, est le **paradigme impératif**.\n",
    "\n",
    "Les premiers programmes ont été conçus sur ce principe :\n",
    "\n",
    "- Une suite d’instructions qui s’exécutent séquentiellement, les unes après les autres ;\n",
    "\n",
    "    Ces instructions comportent :\n",
    "    - Affectations\n",
    "    - Boucles (pour.., tant que…, répéter…jusqu’à…)\n",
    "    - Conditions (si…sinon)\n",
    "    - Branchement/saut sans condition\n",
    "    \n",
    "    \n",
    "- La programmation impérative actuelle limite autant que possible les sauts sans condition. Ce sous-paradigme est appelé **programmation structurée** :\n",
    "    \n",
    "    Les sauts sont utilisés en assembleur (instructions BR adr, « branch vers adresse » ).\n",
    "    \n",
    "    En Python, on limite ainsi l’utilisation du `break` à certains cas particuliers.\n",
    "    \n",
    "    A l’inverse, une programmation utilisant de nombreux sauts est qualifié de « programmation spaghetti », pour la « clarté » toute relative avec laquelle on peut le dérouler. Certains langages conduisent facilement  à ce style de code (BASIC, FORTRAN,…)\n",
    "    \n",
    "    \n",
    "- L’usage des fonctions comme vu en première est aussi une variante de la programmation impérative, appelée **programmation procédurale**.\n",
    "    Elle permet de mieux suivre l’exécution d’un programme, de le rendre plus facile à concevoir et à maintenir, et aussi d’utiliser des bibliothèques."
   ]
  },
  {
   "cell_type": "markdown",
   "metadata": {},
   "source": [
    "## Rappels de programmation impérative structurée et procédurale en Python...\n",
    "\n",
    "<h3 class='fa fa-code' style=\"color: darkorange\"> Activités de rappels à faire :</h3>\n",
    "\n",
    "### Exercice : Série de notes\n",
    "Écrire un programme qui permet :\n",
    "- de demander à l’utilisateur combien de notes il souhaite saisir → [ n ]\n",
    "- de saisir les [ n ] notes comprise entre [ 0 ; 20 ]\n",
    "- d’afficher la note la plus faible et la note la plus élevée\n",
    "- de calculer la moyenne\n",
    "\n",
    "### TP : Clé de vérification du code ISBN d’un livre\n",
    "\n",
    "A l'aide du [document ressource](https://ericecmorlaix.github.io/pdf/res_ISBN.pdf), écrire un programme qui vérifie que le code ISBN saisi ne contient pas d’erreur.\n",
    "\n",
    "Afin de vérifier les codes suivants :\n",
    "\n",
    "![Codes à vérifier](https://isn-icn-ljm.pagesperso-orange.fr/1-NSI/res/image_isbn2_1.png)"
   ]
  },
  {
   "cell_type": "code",
   "execution_count": 1,
   "metadata": {},
   "outputs": [
    {
     "ename": "IndentationError",
     "evalue": "expected an indented block (<ipython-input-1-caf28c2c3a20>, line 14)",
     "output_type": "error",
     "traceback": [
      "\u001b[0;36m  File \u001b[0;32m\"<ipython-input-1-caf28c2c3a20>\"\u001b[0;36m, line \u001b[0;32m14\u001b[0m\n\u001b[0;31m    li += [n]\u001b[0m\n\u001b[0m    ^\u001b[0m\n\u001b[0;31mIndentationError\u001b[0m\u001b[0;31m:\u001b[0m expected an indented block\n"
     ]
    }
   ],
   "source": [
    "def saisir_notes(n):\n",
    "    '''\n",
    "    * Description : Cette fonction permet de saisir les notes obtenues.\n",
    "    \n",
    "    * Exemple :\n",
    "        >>> saisir_notes(5)\n",
    "            5\n",
    "    \n",
    "    * Précondition : int\n",
    "    \n",
    "    * Postcondition : int\n",
    "    '''\n",
    "    n = int(input())\n",
    "    return n\n",
    "\n",
    "def liste(li):\n",
    "    li=[]\n",
    "    if n >= 0 and n <= 20 :\n",
    "    li += [n]\n",
    "    return li\n",
    "\n",
    "def moyenne(n):\n",
    "    moy += n / len(n)\n",
    "    return moy\n"
   ]
  },
  {
   "cell_type": "code",
   "execution_count": 2,
   "metadata": {
    "scrolled": true
   },
   "outputs": [
    {
     "ename": "NameError",
     "evalue": "name 'li' is not defined",
     "output_type": "error",
     "traceback": [
      "\u001b[0;31m---------------------------------------------------------------------------\u001b[0m",
      "\u001b[0;31mNameError\u001b[0m                                 Traceback (most recent call last)",
      "\u001b[0;32m<ipython-input-2-99e672646f66>\u001b[0m in \u001b[0;36m<module>\u001b[0;34m\u001b[0m\n\u001b[0;32m----> 1\u001b[0;31m \u001b[0;32mfor\u001b[0m \u001b[0mi\u001b[0m \u001b[0;32min\u001b[0m \u001b[0mrange\u001b[0m\u001b[0;34m(\u001b[0m\u001b[0mlen\u001b[0m\u001b[0;34m(\u001b[0m\u001b[0mli\u001b[0m\u001b[0;34m)\u001b[0m\u001b[0;34m)\u001b[0m\u001b[0;34m:\u001b[0m\u001b[0;34m\u001b[0m\u001b[0;34m\u001b[0m\u001b[0m\n\u001b[0m\u001b[1;32m      2\u001b[0m     \u001b[0msaisir_notes\u001b[0m\u001b[0;34m\u001b[0m\u001b[0;34m\u001b[0m\u001b[0m\n\u001b[1;32m      3\u001b[0m     \u001b[0mliste\u001b[0m\u001b[0;34m\u001b[0m\u001b[0;34m\u001b[0m\u001b[0m\n\u001b[1;32m      4\u001b[0m     \u001b[0mmoyenne\u001b[0m\u001b[0;34m\u001b[0m\u001b[0;34m\u001b[0m\u001b[0m\n\u001b[1;32m      5\u001b[0m \u001b[0;34m\u001b[0m\u001b[0m\n",
      "\u001b[0;31mNameError\u001b[0m: name 'li' is not defined"
     ]
    }
   ],
   "source": [
    "for i in range(len(li)):\n",
    "    saisir_notes()\n",
    "    liste()\n",
    "    moyenne()\n",
    "    \n",
    "print(Min(li))\n",
    "print(Max(li))\n"
   ]
  }
 ],
 "metadata": {
  "kernelspec": {
   "display_name": "Python 3",
   "language": "python",
   "name": "python3"
  },
  "language_info": {
   "codemirror_mode": {
    "name": "ipython",
    "version": 3
   },
   "file_extension": ".py",
   "mimetype": "text/x-python",
   "name": "python",
   "nbconvert_exporter": "python",
   "pygments_lexer": "ipython3",
   "version": "3.9.0+"
  },
  "toc": {
   "base_numbering": 1,
   "nav_menu": {},
   "number_sections": true,
   "sideBar": true,
   "skip_h1_title": false,
   "title_cell": "Table of Contents",
   "title_sidebar": "Contents",
   "toc_cell": false,
   "toc_position": {},
   "toc_section_display": true,
   "toc_window_display": false
  },
  "varInspector": {
   "cols": {
    "lenName": 16,
    "lenType": 16,
    "lenVar": 40
   },
   "kernels_config": {
    "python": {
     "delete_cmd_postfix": "",
     "delete_cmd_prefix": "del ",
     "library": "var_list.py",
     "varRefreshCmd": "print(var_dic_list())"
    },
    "r": {
     "delete_cmd_postfix": ") ",
     "delete_cmd_prefix": "rm(",
     "library": "var_list.r",
     "varRefreshCmd": "cat(var_dic_list()) "
    }
   },
   "types_to_exclude": [
    "module",
    "function",
    "builtin_function_or_method",
    "instance",
    "_Feature"
   ],
   "window_display": false
  }
 },
 "nbformat": 4,
 "nbformat_minor": 4
}
