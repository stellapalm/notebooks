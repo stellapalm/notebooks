{
 "cells": [
  {
   "cell_type": "markdown",
   "metadata": {},
   "source": [
    "<h1>Sujet 5 :</h1>"
   ]
  },
  {
   "cell_type": "markdown",
   "metadata": {},
   "source": [
    "<h3>Exercice 1 :</h3> Recherche d'un minimum et d'un maximum"
   ]
  },
  {
   "cell_type": "markdown",
   "metadata": {},
   "source": [
    "<h4>Consigne :</h4> Créer une fonction RechercheMinMax qui prend en compte une liste de nombre non triés et ressort un dictionnaire comprennant 2 clés 'min' et 'max'."
   ]
  },
  {
   "cell_type": "code",
   "execution_count": 11,
   "metadata": {},
   "outputs": [],
   "source": [
    "# Définition \n",
    "\n",
    "def RechercheMinMax(tableau : list) -> dict :\n",
    "    '''\n",
    "    * Description : \n",
    "    Donne le plus petit \"minimum\" et le plus grand \"maximum\" nombre d'une liste \"tableau\" sous forme de dictionnaire\n",
    "\n",
    "    * Exemple :\n",
    "    >>> RechercheMinMax([0, 4, 1, -6, 9])\n",
    "    {'min' : -6, 'max' : 9}\n",
    "\n",
    "    >>> RechercheMinMax([0, 1, 4, 2, -2, 9, 3, 1, 7, 1])\n",
    "    {'min': -2, 'max': 9}\n",
    "\n",
    "    >>> RechercheMinMax([])\n",
    "    {'min': None, 'max': None}\n",
    "\n",
    "    * Précondition :\n",
    "    tableau est de type list, un tableau de nombres non triés ;\n",
    "\n",
    "    * Postcondition :\n",
    "    resultat (dict) : les chiffres minimum et maximum donnés sont affichés sous forme de dictionnaire après que la liste ai été parcourue.\n",
    "    '''\n",
    "    # Assertion\n",
    "    assert type(tableau) == list  , \"L'argument tableau doit être une liste.\"\n",
    "     \n",
    "    # Initialisation\n",
    "    maximum = tableau[0]\n",
    "    minimum = tableau[0]\n",
    "\n",
    "    # Bloc d'instructions\n",
    "\n",
    "    if tableau == [] :\n",
    "        resultat = {'min' : None, 'max' : None}\n",
    "\n",
    "    else :\n",
    "        for i in range(len(tableau)) :\n",
    "\n",
    "            if tableau[i] < minimum :\n",
    "                minimum = tableau[i]\n",
    "                \n",
    "            if tableau[i] > maximum :\n",
    "                maximum = tableau[i]\n",
    "\n",
    "\n",
    "        resultat = {'min' : {minimum}, 'max' : {maximum}}\n",
    "\n",
    "\n",
    "    return resultat "
   ]
  },
  {
   "cell_type": "code",
   "execution_count": 2,
   "metadata": {},
   "outputs": [
    {
     "data": {
      "text/plain": [
       "{'min': None, 'max': None}"
      ]
     },
     "execution_count": 2,
     "metadata": {},
     "output_type": "execute_result"
    }
   ],
   "source": [
    "# Test 1\n",
    "RechercheMinMax([])"
   ]
  },
  {
   "cell_type": "code",
   "execution_count": 12,
   "metadata": {},
   "outputs": [
    {
     "data": {
      "text/plain": [
       "{'min': {0}, 'max': {9}}"
      ]
     },
     "execution_count": 12,
     "metadata": {},
     "output_type": "execute_result"
    }
   ],
   "source": [
    "# Test 2 \n",
    "RechercheMinMax([0, 4, 1, 6, 9])"
   ]
  },
  {
   "cell_type": "code",
   "execution_count": 13,
   "metadata": {},
   "outputs": [
    {
     "data": {
      "text/plain": [
       "{'min': {-2}, 'max': {9}}"
      ]
     },
     "execution_count": 13,
     "metadata": {},
     "output_type": "execute_result"
    }
   ],
   "source": [
    "# Test 3\n",
    "RechercheMinMax([0, 1, 4, 2, -2, 9, 3, 1, 7, 1])"
   ]
  },
  {
   "cell_type": "markdown",
   "metadata": {},
   "source": [
    "<h3>Exercice 2 :</h3> Le paquet de carte"
   ]
  },
  {
   "cell_type": "markdown",
   "metadata": {},
   "source": [
    "<h4>Consigne :</h4> Compléter un programme permettant de créer un objet de type PaquetDeCarte et ajouter des assertions."
   ]
  },
  {
   "cell_type": "markdown",
   "metadata": {},
   "source": [
    "Code incomplet + défaut avec la Docstring (se place en dessous d'une fonction) -->"
   ]
  },
  {
   "cell_type": "code",
   "execution_count": null,
   "metadata": {},
   "outputs": [],
   "source": [
    "class Carte:\n",
    "    \"\"\"Initialise Couleur (entre 1 a 4), et Valeur (entre 1 a 13)\"\"\"\n",
    "    def __init__(self, c, v):\n",
    "        self.Couleur = c\n",
    "        self.Valeur = v\n",
    "\n",
    "    \"\"\"Renvoie le nom de la Carte As, 2, ... 10, \n",
    "       Valet, Dame, Roi\"\"\"\n",
    "    def getNom(self):\n",
    "        if ( self.Valeur > 1 and self.Valeur < 11):\n",
    "            return str( self.Valeur)\n",
    "        elif self.Valeur == 11:\n",
    "            return \"Valet\"\n",
    "        elif self.Valeur == 12:\n",
    "            return \"Dame\"\n",
    "        elif self.Valeur == 13:\n",
    "            return \"Roi\"\n",
    "        else:\n",
    "            return \"As\"\n",
    "\n",
    "    \"\"\"Renvoie la couleur de la Carte (parmi pique, coeur, carreau, trefle\"\"\"\n",
    "    def getCouleur(self):\n",
    "        return ['pique', 'coeur', 'carreau', 'trefle' ][self.Couleur - 1]\n",
    "\n",
    "class PaquetDeCarte:\n",
    "    def __init__(self):\n",
    "        self.contenu = []\n",
    "\n",
    "    \"\"\"Remplit le paquet de cartes\"\"\"\n",
    "    def remplir(self):\n",
    "        ??? = [ ??? for couleur in range(1, ???) for valeur in range( 1, ???)]\n",
    "\n",
    "    \"\"\"Renvoie la Carte qui se trouve a  la position donnee\"\"\"\n",
    "    def getCarteAt(self, pos):\n",
    "        if 0 <= pos < ??? :\n",
    "            return ???"
   ]
  },
  {
   "cell_type": "markdown",
   "metadata": {},
   "source": [
    "Résultat attendu -->"
   ]
  },
  {
   "cell_type": "code",
   "execution_count": null,
   "metadata": {},
   "outputs": [],
   "source": [
    ">>> unPaquet = PaquetDeCarte()\n",
    ">>> unPaquet.remplir()\n",
    ">>> uneCarte = unPaquet.getCarteAt(20)\n",
    ">>> print(uneCarte.getNom() + \" de \" + uneCarte.getCouleur())\n",
    "  8 de coeur"
   ]
  },
  {
   "cell_type": "markdown",
   "metadata": {},
   "source": [
    "Code complété -->"
   ]
  },
  {
   "cell_type": "code",
   "execution_count": 58,
   "metadata": {},
   "outputs": [],
   "source": [
    "class Carte:\n",
    "    \n",
    "    # Constructeur de la classe Carte\n",
    "    def __init__(self, c, v):\n",
    "        \"\"\"Initialise Couleur (entre 1 a 4), et Valeur (entre 1 a 13)\"\"\"\n",
    "        self.Couleur = c\n",
    "        self.Valeur = v\n",
    "\n",
    "    # Accesseur de la valeur de la carte\n",
    "    def getNom(self):\n",
    "        \"\"\"Renvoie le nom de la Carte As, 2, ... 10, \n",
    "       Valet, Dame, Roi\"\"\"\n",
    "        if ( self.Valeur > 1 and self.Valeur < 11):\n",
    "            return str( self.Valeur)\n",
    "        elif self.Valeur == 11:\n",
    "            return \"Valet\"\n",
    "        elif self.Valeur == 12:\n",
    "            return \"Dame\"\n",
    "        elif self.Valeur == 13:\n",
    "            return \"Roi\"\n",
    "        else:\n",
    "            return \"As\"\n",
    "\n",
    "    # Accesseur de la couleur de la carte\n",
    "    def getCouleur(self):\n",
    "        \"\"\"Renvoie la couleur de la Carte (parmi pique, coeur, carreau, trefle\"\"\"\n",
    "        return ['pique', 'coeur', 'carreau', 'trefle' ][self.Couleur - 1]\n",
    "\n",
    "class PaquetDeCarte:\n",
    "    \n",
    "    # Constructeur de la classe PaquetDeCarte\n",
    "    def __init__(self):\n",
    "        self.contenu = []\n",
    "\n",
    "    # Mutateur\n",
    "    def remplir(self):\n",
    "        \"\"\"Remplit le paquet de cartes\"\"\"\n",
    "        self.contenu = [ Carte(couleur, valeur) for couleur in range(1, 5) for valeur in range( 1, 14)]\n",
    "\n",
    "    # Accesseur de la valeur et la couleur de la carte selon sa position\n",
    "    def getCarteAt(self, pos):\n",
    "        \"\"\"Renvoie la Carte qui se trouve à la position donnee\"\"\"\n",
    "        if 0 <= pos < len(self.contenu) :\n",
    "            return self.contenu[pos]\n"
   ]
  },
  {
   "cell_type": "markdown",
   "metadata": {},
   "source": [
    "Tests :"
   ]
  },
  {
   "cell_type": "code",
   "execution_count": 59,
   "metadata": {},
   "outputs": [],
   "source": [
    "unPaquet = PaquetDeCarte()"
   ]
  },
  {
   "cell_type": "code",
   "execution_count": 60,
   "metadata": {},
   "outputs": [
    {
     "data": {
      "text/plain": [
       "[]"
      ]
     },
     "execution_count": 60,
     "metadata": {},
     "output_type": "execute_result"
    }
   ],
   "source": [
    "unPaquet.contenu"
   ]
  },
  {
   "cell_type": "code",
   "execution_count": 61,
   "metadata": {},
   "outputs": [],
   "source": [
    "unPaquet.remplir()"
   ]
  },
  {
   "cell_type": "code",
   "execution_count": 62,
   "metadata": {},
   "outputs": [],
   "source": [
    "uneCarte = unPaquet.getCarteAt(20)"
   ]
  },
  {
   "cell_type": "code",
   "execution_count": 63,
   "metadata": {},
   "outputs": [
    {
     "name": "stdout",
     "output_type": "stream",
     "text": [
      "8 de coeur\n"
     ]
    }
   ],
   "source": [
    "print(uneCarte.getNom() + \" de \" + uneCarte.getCouleur())"
   ]
  },
  {
   "cell_type": "markdown",
   "metadata": {},
   "source": [
    "<b>Approfondissement :</b>\n"
   ]
  },
  {
   "cell_type": "code",
   "execution_count": null,
   "metadata": {},
   "outputs": [],
   "source": [
    "[ Carte(couleur, valeur) for couleur in range(1, 5) for valeur in range( 1, 14)]"
   ]
  },
  {
   "cell_type": "markdown",
   "metadata": {},
   "source": [
    "La partie du code ci-dessus s'appelle en fait une liste par compréhension. Cette méthode consiste à remplir une liste "
   ]
  },
  {
   "cell_type": "markdown",
   "metadata": {},
   "source": [
    "<h1>Sujet 21 :</h1>"
   ]
  },
  {
   "cell_type": "markdown",
   "metadata": {},
   "source": [
    "<h3>Exercice 1 :</h3> Fonction de multiplication"
   ]
  },
  {
   "cell_type": "markdown",
   "metadata": {},
   "source": [
    "<h4>Consigne :</h4> Programmer la fonction multiplication, prenant en paramètres deux nombres entiers n1 et n2, et qui renvoie le produit de ces deux nombres. Les seules opérations autorisées sont l’addition et la soustraction."
   ]
  },
  {
   "cell_type": "code",
   "execution_count": 4,
   "metadata": {},
   "outputs": [],
   "source": [
    "# Définition\n",
    "\n",
    "def multiplication(n1 : int, n2 : int) -> int :\n",
    "    \n",
    "    '''\n",
    "    * Description : Effectue une multiplication\n",
    "\n",
    "    * Exemple :\n",
    "    >>> multiplication(2, 4)\n",
    "    8\n",
    "\n",
    "    * Préconditions :\n",
    "    n1 (int) : n1 est un nombre entier\n",
    "    n2 (int) : n2 est un nombre entier\n",
    "\n",
    "    * Postcondition :\n",
    "    resultat (int) : resultat est un nombre entier\n",
    "    '''\n",
    "    # Assertion\n",
    "    assert type(n1 and n2) == int  , \"Les arguments n1 et n2 sont des nombres entiers (int).\"\n",
    "\n",
    "    # Initialisation\n",
    "    resultat = 0\n",
    "\n",
    "    # Bloc d'instructions\n",
    "    for loop in range(n1) :\n",
    "        resultat += n2\n",
    "\n",
    "    return resultat"
   ]
  },
  {
   "cell_type": "code",
   "execution_count": 2,
   "metadata": {},
   "outputs": [
    {
     "data": {
      "text/plain": [
       "8"
      ]
     },
     "execution_count": 2,
     "metadata": {},
     "output_type": "execute_result"
    }
   ],
   "source": [
    "# Test 1\n",
    "multiplication(2, 4)"
   ]
  },
  {
   "cell_type": "code",
   "execution_count": 3,
   "metadata": {},
   "outputs": [
    {
     "data": {
      "text/plain": [
       "9"
      ]
     },
     "execution_count": 3,
     "metadata": {},
     "output_type": "execute_result"
    }
   ],
   "source": [
    "# Test 2\n",
    "multiplication(3, 3)"
   ]
  },
  {
   "cell_type": "markdown",
   "metadata": {},
   "source": [
    "<h3>Exercice 2 :</h3> La dichotomie"
   ]
  },
  {
   "cell_type": "markdown",
   "metadata": {},
   "source": [
    "Code incomplet -->"
   ]
  },
  {
   "cell_type": "code",
   "execution_count": null,
   "metadata": {},
   "outputs": [],
   "source": [
    "def dichotomie(tab, x):\n",
    "    \"\"\"\n",
    "    tab : tableau d’entiers trié dans l’ordre croissant\n",
    "    x : nombre entier\n",
    "    La fonction renvoie True si tab contient x et False sinon\n",
    "    \"\"\"\n",
    "    debut = 0\n",
    "    fin = len(tab) - 1\n",
    "    while debut <= fin:\n",
    "        m = ...\n",
    "        if x == tab[m]:\n",
    "            return ...\n",
    "        if x > tab[m]:\n",
    "            debut = m + 1\n",
    "        else:\n",
    "            fin = ...\n",
    "    return ...\n"
   ]
  },
  {
   "cell_type": "markdown",
   "metadata": {},
   "source": [
    "Résultat attendu -->"
   ]
  },
  {
   "cell_type": "code",
   "execution_count": null,
   "metadata": {},
   "outputs": [],
   "source": [
    ">>> dichotomie([15, 16, 18, 19, 23, 24, 28, 29, 31, 33],28)\n",
    "True\n",
    ">>> dichotomie([15, 16, 18, 19, 23, 24, 28, 29, 31, 33],27)\n",
    "False"
   ]
  },
  {
   "cell_type": "markdown",
   "metadata": {},
   "source": [
    "Code complété -->"
   ]
  },
  {
   "cell_type": "code",
   "execution_count": 10,
   "metadata": {},
   "outputs": [],
   "source": [
    "def dichotomie(tab, x):\n",
    "    \"\"\"\n",
    "    tab : tableau d’entiers trié dans l’ordre croissant\n",
    "    x : nombre entier\n",
    "    La fonction renvoie True si tab contient x et False sinon\n",
    "    \"\"\"\n",
    "    debut = 0\n",
    "    fin = len(tab) - 1\n",
    "    while debut <= fin:\n",
    "        m = debut\n",
    "        if x == tab[m]:\n",
    "            return True\n",
    "        if x > tab[m]:\n",
    "            debut = m + 1\n",
    "        else:\n",
    "            fin = 0\n",
    "    return False\n"
   ]
  },
  {
   "cell_type": "code",
   "execution_count": 8,
   "metadata": {},
   "outputs": [
    {
     "data": {
      "text/plain": [
       "True"
      ]
     },
     "execution_count": 8,
     "metadata": {},
     "output_type": "execute_result"
    }
   ],
   "source": [
    "# Test 1\n",
    "dichotomie([15, 16, 18, 19, 23, 24, 28, 29, 31, 33],28)"
   ]
  },
  {
   "cell_type": "code",
   "execution_count": 11,
   "metadata": {},
   "outputs": [
    {
     "data": {
      "text/plain": [
       "False"
      ]
     },
     "execution_count": 11,
     "metadata": {},
     "output_type": "execute_result"
    }
   ],
   "source": [
    "# Test 2\n",
    "dichotomie([15, 16, 18, 19, 23, 24, 28, 29, 31, 33],27)"
   ]
  },
  {
   "cell_type": "markdown",
   "metadata": {},
   "source": [
    "<h1>Sujet 25 :</h1>"
   ]
  },
  {
   "cell_type": "markdown",
   "metadata": {},
   "source": [
    "<h3>Exercice 1 :</h3> Fonction selection enclos"
   ]
  },
  {
   "cell_type": "markdown",
   "metadata": {},
   "source": [
    "<h4>Consigne :</h4> On considère des tables (des tableaux de dictionnaires) qui contiennent des enregistrements relatifs à des animaux hébergés dans un refuge. Les attributs des enregistrements sont 'nom', 'espece', 'age', 'enclos'. Voici un exemple d'une telle table :"
   ]
  },
  {
   "cell_type": "code",
   "execution_count": 1,
   "metadata": {},
   "outputs": [],
   "source": [
    "animaux = [ {'nom':'Medor', 'espece':'chien', 'age':5, 'enclos':2},\n",
    "            {'nom':'Titine', 'espece':'chat', 'age':2, 'enclos':5},\n",
    "            {'nom':'Tom', 'espece':'chat', 'age':7, 'enclos':4},\n",
    "            {'nom':'Belle', 'espece':'chien', 'age':6, 'enclos':3},\n",
    "            {'nom':'Mirza', 'espece':'chat', 'age':6, 'enclos':5}]"
   ]
  },
  {
   "cell_type": "markdown",
   "metadata": {},
   "source": [
    "Programmer une fonction selection_enclos qui :\n",
    "\n",
    "prend en paramètres :\n",
    "- une table table_animaux contenant des enregistrements relatifs à des animaux (comme dans l'exemple ci-dessus),\n",
    "- un numéro d'enclos num_enclos ;\n",
    "- renvoie une table contenant les enregistrements de table_animaux dont l'attribut 'enclos' est num_enclos."
   ]
  },
  {
   "cell_type": "code",
   "execution_count": 10,
   "metadata": {},
   "outputs": [],
   "source": [
    "table_animaux = [ {'nom':'Medor', 'espece':'chien', 'age':5, 'enclos':7},\n",
    "            {'nom':'Titine', 'espece':'chat', 'age':2, 'enclos':2},\n",
    "            {'nom':'Tom', 'espece':'chat', 'age':7, 'enclos':4},\n",
    "            {'nom':'Elliot', 'espece':'chien', 'age':6, 'enclos':7},\n",
    "            {'nom':'Mirza', 'espece':'chat', 'age':10, 'enclos':5}]"
   ]
  },
  {
   "cell_type": "code",
   "execution_count": 44,
   "metadata": {},
   "outputs": [],
   "source": [
    "def selection_enclos(num_enclos : int) -> list :\n",
    "\n",
    "    info = [{'nom' : p['nom'], 'espece' : p['espece'], 'age' : p['age'], 'enclos' : p['enclos']} for p in table_animaux if p['enclos'] == num_enclos]\n",
    "    for element in info :\n",
    "        return element\n",
    "\n"
   ]
  },
  {
   "cell_type": "code",
   "execution_count": 45,
   "metadata": {},
   "outputs": [
    {
     "data": {
      "text/plain": [
       "{'nom': 'Mirza', 'espece': 'chat', 'age': 10, 'enclos': 5}"
      ]
     },
     "execution_count": 45,
     "metadata": {},
     "output_type": "execute_result"
    }
   ],
   "source": [
    "selection_enclos(5)"
   ]
  },
  {
   "cell_type": "code",
   "execution_count": 16,
   "metadata": {},
   "outputs": [
    {
     "data": {
      "text/plain": [
       "{'nom': 'Medor', 'espece': 'chien', 'age': 5, 'enclos': 7}"
      ]
     },
     "execution_count": 16,
     "metadata": {},
     "output_type": "execute_result"
    }
   ],
   "source": [
    "selection_enclos(7)"
   ]
  },
  {
   "cell_type": "code",
   "execution_count": 13,
   "metadata": {},
   "outputs": [],
   "source": [
    "selection_enclos(23)"
   ]
  }
 ],
 "metadata": {
  "interpreter": {
   "hash": "3349e1f08092d7ce8963e3315399dd9dbaba56e2d1e3c3fef1b4321da290c3be"
  },
  "kernelspec": {
   "display_name": "Python 3",
   "language": "python",
   "name": "python3"
  },
  "language_info": {
   "codemirror_mode": {
    "name": "ipython",
    "version": 3
   },
   "file_extension": ".py",
   "mimetype": "text/x-python",
   "name": "python",
   "nbconvert_exporter": "python",
   "pygments_lexer": "ipython3",
   "version": "3.9.1"
  }
 },
 "nbformat": 4,
 "nbformat_minor": 2
}
