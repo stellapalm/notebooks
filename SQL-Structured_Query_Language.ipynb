{
 "cells": [
  {
   "cell_type": "markdown",
   "metadata": {},
   "source": [
    "# SQL, le langage de requête structurée :\n",
    "\n",
    "Une base de données est un ensemble de tables contenant des données reliées entre elles par des relations ; on y extrait de l'information par le biais de requêtes exprimées dans un langage spécifique, le [SQL pour Structured Query Language](https://fr.wikipedia.org/wiki/Structured_Query_Language)\n",
    "\n",
    "Ce langage informatique est notamment très utilisé par les développeurs web pour communiquer avec les données d'un site web.\n",
    "\n",
    "La partie langage de manipulation des données de SQL permet de rechercher, d'ajouter, de modifier ou de supprimer des données dans les bases de données relationnelles. C'est cette partie qui nous intéresse en terminale NSI, mais il existe 3 autres grandes parties :\n",
    "\n",
    "- la partie langage de définition des données permet de créer et de modifier l'organisation des données dans la base de données,\n",
    "\n",
    "- la partie langage de contrôle de transaction permet de commencer et de terminer des transactions,\n",
    "\n",
    "- la partie langage de contrôle des données permet d'autoriser ou d'interdire l'accès à certaines données à certaines personnes.\n",
    "\n",
    "Créé en 1974, normalisé depuis 1986, le langage SQL est reconnu par la grande majorité des systèmes de gestion de bases de données relationnelles (SGBDR) du marché. En revanche, chaque SGBDR peut avoir quelques spécificités propres.\n",
    "\n",
    "Cette année, nous utiliserons principalement SQLite comme moteur de base de données relationnelles."
   ]
  },
  {
   "cell_type": "markdown",
   "metadata": {},
   "source": [
    "<h3 class='fa fa-cog' style=\"color: MediumSeaGreen\"> A faire vous même n°1 :</h3>\n",
    "\n",
    "Lire et faire les activités proposées par David ROCHE à la page [Langage SQL](https://pixees.fr/informatiquelycee/term/c3a.html)\n",
    "\n",
    "Relever les mots clés du langage SQL que vous avez découvert dans un mémo ci-dessous...\n",
    "\n",
    "<h4> Mémo :</h4> \n",
    "<p>- base de données</p>\n",
    "<p>- requêtes</p>\n",
    "<p>- UPDATE (modifie une valeur)</p>\n",
    "<p>- DELETE (supprime des valeurs)</p>"
   ]
  },
  {
   "cell_type": "markdown",
   "metadata": {},
   "source": [
    "<h3 class='fa fa-cog' style=\"color: MediumSeaGreen\"> A faire vous même n°2 :</h3>\n",
    "\n",
    "Lire et faire les activités proposées par Stephan VAN ZUIJLEN à la page [Le langage SQL](https://isn-icn-ljm.pagesperso-orange.fr/NSI-TLE/res/media_sql.eWeb/co/module_cours_exos_SQL_1.html)\n",
    "\n",
    "Relever les mots clés du langage SQL que vous avez découvert dans un mémo ci-dessous..."
   ]
  },
  {
   "cell_type": "markdown",
   "metadata": {},
   "source": [
    "<h3 class='fa fa-cog' style=\"color: MediumSeaGreen\"> A faire vous même n°3 :</h3>\n",
    "\n",
    "Faire les activités de *Gestion d'un réseau d'agences de location de voitures* proposées par Jacques Le Coupanec à la page [sql](http://colbert.bzh/sql/index.html) en utilisant si besoin la ressource [https://sql.sh/](https://sql.sh/)\n",
    "\n",
    "Relever les mots clés du langage SQL que vous avez découvert dans un mémo ci-dessous..."
   ]
  },
  {
   "cell_type": "markdown",
   "metadata": {},
   "source": [
    "## Mémo SQL, ce qu'il faut retenir :\n",
    "\n",
    "\n"
   ]
  },
  {
   "cell_type": "markdown",
   "metadata": {},
   "source": [
    "## Ressources :\n",
    "\n",
    "- https://sqlpro.developpez.com/\n",
    "\n",
    "- https://sql.sh/"
   ]
  },
  {
   "cell_type": "markdown",
   "metadata": {},
   "source": [
    "****\n",
    "## Références aux programmes :\n",
    "\n",
    "### Bases de données :\n",
    "\n",
    "| Contenus | Capacités attendues | Commentaires |\n",
    "| ------ | ------ | ------ |\n",
    "|Langage SQL : requêtes d’interrogation et de mise à jour d’une base de données.|Identifier les composants d’une requête.<br/>Construire des requêtes d’interrogation à l’aide des clauses du langage SQL : SELECT, FROM, WHERE, JOIN.<br/>Construire des requêtes d’insertion et de mise à jour à l’aide de : UPDATE, INSERT, DELETE.|On peut utiliser DISTINCT, ORDER BY ou les fonctions d’agrégation sans utiliser les clauses GROUP BY et HAVING.|\n",
    "\n"
   ]
  },
  {
   "cell_type": "markdown",
   "metadata": {},
   "source": [
    "<a rel=\"license\" href=\"http://creativecommons.org/licenses/by-sa/4.0/\"><img alt=\"Licence Creative Commons\" style=\"border-width:0\" src=\"https://i.creativecommons.org/l/by-sa/4.0/88x31.png\" /></a><br />Ce document, basé sur les travaux d'autres enseignants de la liste NSI, est mis à disposition selon les termes de la <a rel=\"license\" href=\"http://creativecommons.org/licenses/by-sa/4.0/\">Licence Creative Commons Attribution -  Partage dans les Mêmes Conditions 4.0 International</a>.\n",
    "\n",
    "Pour toute question, suggestion ou commentaire : <a href=\"mailto:eric.madec@ecmorlaix.fr\">eric.madec@ecmorlaix.fr</a>"
   ]
  },
  {
   "cell_type": "code",
   "execution_count": null,
   "metadata": {},
   "outputs": [],
   "source": []
  }
 ],
 "metadata": {
  "kernelspec": {
   "display_name": "Python 3",
   "language": "python",
   "name": "python3"
  },
  "language_info": {
   "codemirror_mode": {
    "name": "ipython",
    "version": 3
   },
   "file_extension": ".py",
   "mimetype": "text/x-python",
   "name": "python",
   "nbconvert_exporter": "python",
   "pygments_lexer": "ipython3",
   "version": "3.7.3"
  },
  "toc": {
   "base_numbering": 1,
   "nav_menu": {},
   "number_sections": true,
   "sideBar": true,
   "skip_h1_title": false,
   "title_cell": "Table of Contents",
   "title_sidebar": "Contents",
   "toc_cell": false,
   "toc_position": {},
   "toc_section_display": true,
   "toc_window_display": false
  },
  "varInspector": {
   "cols": {
    "lenName": 16,
    "lenType": 16,
    "lenVar": 40
   },
   "kernels_config": {
    "python": {
     "delete_cmd_postfix": "",
     "delete_cmd_prefix": "del ",
     "library": "var_list.py",
     "varRefreshCmd": "print(var_dic_list())"
    },
    "r": {
     "delete_cmd_postfix": ") ",
     "delete_cmd_prefix": "rm(",
     "library": "var_list.r",
     "varRefreshCmd": "cat(var_dic_list()) "
    }
   },
   "types_to_exclude": [
    "module",
    "function",
    "builtin_function_or_method",
    "instance",
    "_Feature"
   ],
   "window_display": false
  }
 },
 "nbformat": 4,
 "nbformat_minor": 4
}
